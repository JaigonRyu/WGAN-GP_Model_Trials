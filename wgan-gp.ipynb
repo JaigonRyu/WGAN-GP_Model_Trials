{
 "cells": [
  {
   "cell_type": "code",
   "execution_count": 1,
   "id": "37ed8bcd",
   "metadata": {},
   "outputs": [],
   "source": [
    "import torchvision\n",
    "import torch\n",
    "import numpy as np\n",
    "import torchvision.datasets as datasets\n",
    "import torchvision.transforms as transforms\n",
    "from torch import nn\n",
    "import tqdm as tqdm\n",
    "import torch.optim as optim\n",
    "from pytorch_fid import fid_score\n",
    "import torch.nn.utils as nn_utils\n"
   ]
  },
  {
   "cell_type": "code",
   "execution_count": 2,
   "id": "25668601",
   "metadata": {},
   "outputs": [],
   "source": [
    "def gradient_critic_score(critic, real, fake, epsilon):\n",
    "\n",
    "    inter_images = real * epsilon + fake * (1-epsilon)\n",
    "    inter_images.requires_grad_(True)\n",
    "    mixed_score = critic(inter_images)\n",
    "\n",
    "    gradient = torch.autograd.grad(\n",
    "        inputs = inter_images,\n",
    "        outputs = mixed_score,\n",
    "        grad_outputs= torch.ones_like(mixed_score),\n",
    "        create_graph= True,\n",
    "        retain_graph=True,\n",
    "    )[0]\n",
    "\n",
    "    return gradient\n",
    "\n",
    "def grad_penalty_l2_norm(gradient):\n",
    "\n",
    "    gradient = gradient.view(len(gradient), -1)\n",
    "\n",
    "    gradient_norm = gradient.norm(2,dim=1)\n",
    "\n",
    "    penalty = torch.mean((gradient_norm - 1) ** 2)\n",
    "\n",
    "    return penalty\n",
    "\n",
    "def weights_init(m):\n",
    "    classname = m.__class__.__name__\n",
    "    if classname.find('Conv') != -1:\n",
    "        nn.init.normal_(m.weight.data, 0.0, 0.02)\n",
    "    elif classname.find('BatchNorm') != -1:\n",
    "        nn.init.normal_(m.weight.data, 1.0, 0.02)\n",
    "        nn.init.constant_(m.bias.data, 0)\n",
    "\n",
    "def get_noise(n_samples, z_dim, device='cpu'):\n",
    "\n",
    "    return torch.randn(n_samples, z_dim, device=device)\n",
    "\n",
    "\n",
    "def get_generator_loss(critic_fake_pred):\n",
    "\n",
    "    gen_loss = -1.0 * torch.mean(critic_fake_pred)\n",
    "\n",
    "    return gen_loss\n",
    "\n",
    "def get_critc_loss(critic_fake_pred, critic_real_pred, gp, c_lambda):\n",
    "\n",
    "    loss = (torch.mean(critic_fake_pred) - torch.mean(critic_real_pred) + c_lambda * gp)\n",
    "\n",
    "    return loss\n",
    "\n"
   ]
  },
  {
   "cell_type": "code",
   "execution_count": 3,
   "id": "a377c68a",
   "metadata": {},
   "outputs": [],
   "source": [
    "import torchvision.utils as vutils\n",
    "import matplotlib.pyplot as plt\n",
    "import os\n",
    "\n",
    "def visualize_fake_images(generator, z_dim, device, num_images=64):\n",
    "    generator.eval()  \n",
    "    \n",
    "    noise = get_noise(num_images, z_dim, device=device)\n",
    "    with torch.no_grad():\n",
    "        fake_images = generator(noise).detach().cpu()\n",
    "    \n",
    "    generator.train()  \n",
    "\n",
    "    grid = vutils.make_grid(fake_images, nrow=8, normalize=True)\n",
    "    plt.figure(figsize=(10, 10))\n",
    "    plt.imshow(grid.permute(1, 2, 0))\n",
    "    plt.axis(\"off\")\n",
    "    plt.title(\"Generated Images\")\n",
    "    plt.show()\n",
    "\n",
    "\n",
    "\n",
    "def plot_losses(generator_losses, critic_losses):\n",
    "    plt.figure(figsize=(10, 5))\n",
    "    plt.plot(generator_losses, label=\"Generator Loss\")\n",
    "    plt.plot(critic_losses, label=\"Critic Loss\")\n",
    "    plt.xlabel(\"Iteration\")\n",
    "    plt.ylabel(\"Loss\")\n",
    "    plt.legend()\n",
    "    plt.title(\"WGAN-GP Training Losses\")\n",
    "    plt.show()\n",
    "\n",
    "\n",
    "def calculate_fid_score(generator, z_dim, device, dataloader, epoch, num_images=5000):\n",
    "    \n",
    "    gen_dir = f\"fid_temp/generated/epoch_{epoch}\"\n",
    "    real_dir = f\"fid_temp/real\"\n",
    "\n",
    "    os.makedirs(gen_dir, exist_ok=True)\n",
    "    os.makedirs(real_dir, exist_ok=True)\n",
    "\n",
    "    # Save fake images\n",
    "    generator.eval()\n",
    "    with torch.no_grad():\n",
    "        for i in range(num_images):\n",
    "            z = torch.randn(1, z_dim, 1, 1).to(device)\n",
    "            fake_img = generator(z).detach().cpu()\n",
    "            fake_img = (fake_img + 1) / 2\n",
    "            vutils.save_image(fake_img, os.path.join(gen_dir, f\"{i}.png\"), normalize=True)\n",
    "\n",
    "    # Save real images (once is enough)\n",
    "    if epoch == 0 and not os.listdir(real_dir):\n",
    "        count = 0\n",
    "        for real_imgs, _ in dataloader:\n",
    "            for img in real_imgs:\n",
    "                if count >= num_images:\n",
    "                    break\n",
    "                img = (img + 1) / 2\n",
    "                vutils.save_image(img, os.path.join(real_dir, f\"{count}.png\"), normalize=True)\n",
    "                count += 1\n",
    "            if count >= num_images:\n",
    "                break\n",
    "\n",
    "    generator.train()\n",
    "\n",
    "    # Calculate FID\n",
    "    fid_value = fid_score.calculate_fid_given_paths([real_dir, gen_dir], batch_size=64, device=device, dims=2048)\n",
    "    return fid_value"
   ]
  },
  {
   "cell_type": "markdown",
   "id": "668fb1c9",
   "metadata": {},
   "source": [
    "## Hyper Parameters\n",
    "\n",
    "*z_dim*:\n",
    "- 64, 100, 128\n",
    "\n",
    "*hidden_dim*:\n",
    "- 64, 128, 256\n",
    "\n",
    "*learning rate*:\n",
    "- 1e-4, 1e-5\n",
    "\n",
    "*n_critic*:\n",
    "- 3, 5, 7\n",
    "\n",
    "*c_lambda*:\n",
    "- 10, 5\n",
    "\n",
    "*batch_size*:\n",
    "- 64, 128, 256"
   ]
  },
  {
   "cell_type": "code",
   "execution_count": 5,
   "id": "4a4b7e3f",
   "metadata": {},
   "outputs": [
    {
     "data": {
      "text/plain": [
       "<torch._C.Generator at 0x1ded318e430>"
      ]
     },
     "execution_count": 5,
     "metadata": {},
     "output_type": "execute_result"
    }
   ],
   "source": [
    "c_lambda = 10\n",
    "n_critic = 5\n",
    "lr = 0.0001\n",
    "beta_1 = 0.0\n",
    "beta_2 = 0.9\n",
    "\n",
    "hidden_dim = 64\n",
    "batch_size = 128\n",
    "\n",
    "image_size = 32\n",
    "num_channels = 3\n",
    "z_dim = 128\n",
    "feature_maps_gen = 64\n",
    "feature_maps_disc = 64\n",
    "num_epochs = 10\n",
    "\n",
    "ngpu = 1\n",
    "\n",
    "torch.manual_seed(444)\n",
    "\n"
   ]
  },
  {
   "cell_type": "code",
   "execution_count": 6,
   "id": "27ae0214",
   "metadata": {},
   "outputs": [
    {
     "name": "stdout",
     "output_type": "stream",
     "text": [
      "cuda:0\n"
     ]
    }
   ],
   "source": [
    "\n",
    "transform = transforms.Compose([\n",
    "    transforms.Resize(32),                 \n",
    "    transforms.CenterCrop(32),              \n",
    "    transforms.ToTensor(),                  # Converts image to [0, 1] float tensor\n",
    "    transforms.Normalize((0.5, 0.5, 0.5),    # Normalize to [-1, 1]\n",
    "                         (0.5, 0.5, 0.5))   # Same mean/std for R, G, B channels\n",
    "])\n",
    "\n",
    "device = torch.device(\"cuda:0\" if (torch.cuda.is_available() and ngpu > 0) else \"cpu\")\n",
    "print(device)\n",
    "\n",
    "cifar_trainset = datasets.CIFAR10(root='./data', train=True, download=True, transform=transform)\n",
    "\n",
    "# dataloader = torch.utils.data.DataLoader(cifar_trainset, batch_size=batch_size,\n",
    "#                                          shuffle=True, num_workers=4)"
   ]
  },
  {
   "cell_type": "code",
   "execution_count": 7,
   "id": "7a50762c",
   "metadata": {},
   "outputs": [],
   "source": [
    "from wgan_gp import Generator\n",
    "from wgan_gp import Critic\n",
    "from wgan_gp import CriticDrop\n",
    "from wgan_gp import CriticSpec"
   ]
  },
  {
   "cell_type": "code",
   "execution_count": 8,
   "id": "d596169e",
   "metadata": {},
   "outputs": [],
   "source": [
    "generator = Generator(ngpu =ngpu, z_dim=z_dim, hidden_dim=hidden_dim).to(device)\n",
    "gen_opt = optim.Adam(generator.parameters(), lr=lr, betas=(beta_1, beta_2))\n",
    "\n",
    "critic = Critic(im_chan=3, hidden_dim=hidden_dim).to(device)\n",
    "critic = CriticDrop(im_chan=3, hidden_dim=hidden_dim).to(device)\n",
    "critic = CriticSpec(im_chan=3, hidden_dim=hidden_dim).to(device)\n",
    "\n",
    "crit_opt = optim.Adam(critic.parameters(), lr=lr, betas=(beta_1, beta_2))\n",
    "\n",
    "generator = generator.apply(weights_init)\n",
    "critic = critic.apply(weights_init)"
   ]
  },
  {
   "cell_type": "code",
   "execution_count": 17,
   "id": "553c9323",
   "metadata": {},
   "outputs": [],
   "source": [
    "import wandb\n",
    "wandb.login()\n",
    "\n",
    "sweep_config = {\n",
    "    'method': 'random',\n",
    "    'metric': {\n",
    "      'name': 'FID',\n",
    "      'goal': 'minimize'  \n",
    "    },\n",
    "    'parameters': {\n",
    "        'z_dim': {'values': [64, 100, 128]},\n",
    "        'hidden_dim': {'values': [64, 128, 256]},\n",
    "        'lr': {'values': [1e-4, 1e-5]},\n",
    "        'n_critic': {'values': [3, 5, 7]},\n",
    "        'c_lambda': {'values': [5, 10]},\n",
    "        'batch_size': {'values': [64, 128, 256]},\n",
    "        'epochs': {'value': 10}  # You can increase this later\n",
    "    }\n",
    "}"
   ]
  },
  {
   "cell_type": "code",
   "execution_count": 18,
   "id": "ccc168f3",
   "metadata": {},
   "outputs": [
    {
     "name": "stdout",
     "output_type": "stream",
     "text": [
      "Create sweep with ID: jlyx2hte\n",
      "Sweep URL: https://wandb.ai/jhanshaw-uc-san-diego/gan_spec_drop-sweep_final/sweeps/jlyx2hte\n"
     ]
    }
   ],
   "source": [
    "sweep_id = wandb.sweep(sweep_config, project='gan_spec_drop-sweep_final')"
   ]
  },
  {
   "cell_type": "code",
   "execution_count": 19,
   "id": "66586e67",
   "metadata": {},
   "outputs": [],
   "source": [
    "def sweep_train(config=None):\n",
    "    with wandb.init(config=config):\n",
    "        config = wandb.config\n",
    "\n",
    "        # Rebuild models with given config\n",
    "        generator = Generator(ngpu=1, z_dim=config.z_dim, hidden_dim=config.hidden_dim).to(device)\n",
    "        \n",
    "        #critic = Critic(hidden_dim=config.hidden_dim).to(device)\n",
    "        #critic = CriticSpec(hidden_dim=config.hidden_dim).to(device)\n",
    "        critic = CriticDrop(hidden_dim=config.hidden_dim).to(device)\n",
    "\n",
    "        generator.apply(weights_init)\n",
    "        critic.apply(weights_init)\n",
    "\n",
    "        gen_opt = torch.optim.Adam(generator.parameters(), lr=config.lr, betas=(0.5, 0.999))\n",
    "        crit_opt = torch.optim.Adam(critic.parameters(), lr=config.lr, betas=(0.5, 0.999))\n",
    "\n",
    "        dataloader = torch.utils.data.DataLoader(cifar_trainset, batch_size=config.batch_size,\n",
    "                                         shuffle=True, num_workers=4)\n",
    "\n",
    "        generator_losses = []\n",
    "        critic_losses_across_repeats = []\n",
    "        fid_scores = []\n",
    "\n",
    "        for epoch in range(config.epochs):\n",
    "            for real, _ in dataloader:\n",
    "                cur_batch_size = len(real)\n",
    "                real = real.to(device)\n",
    "\n",
    "                mean_critic_loss = 0\n",
    "\n",
    "                for _ in range(config.n_critic):\n",
    "                    crit_opt.zero_grad()\n",
    "\n",
    "                    noise = get_noise(cur_batch_size, config.z_dim, device)\n",
    "                    fake = generator(noise)\n",
    "\n",
    "                    critic_real = critic(real)\n",
    "                    critic_fake = critic(fake.detach())\n",
    "\n",
    "                    epsilon = torch.rand(cur_batch_size, 1, 1, 1, device=device, requires_grad=True)\n",
    "                    grad = gradient_critic_score(critic, real, fake.detach(), epsilon)\n",
    "                    gp = grad_penalty_l2_norm(grad)\n",
    "\n",
    "                    crit_loss = get_critc_loss(critic_fake, critic_real, gp, config.c_lambda)\n",
    "                    mean_critic_loss += crit_loss.item() / config.n_critic\n",
    "\n",
    "                    crit_loss.backward()\n",
    "                    crit_opt.step()\n",
    "\n",
    "                critic_losses_across_repeats.append(mean_critic_loss)\n",
    "\n",
    "                # Generator update\n",
    "                gen_opt.zero_grad()\n",
    "                noise2 = get_noise(cur_batch_size, config.z_dim, device)\n",
    "                fake2 = generator(noise2)\n",
    "                gen_loss = get_generator_loss(critic(fake2))\n",
    "                gen_loss.backward()\n",
    "                gen_opt.step()\n",
    "\n",
    "                generator_losses.append(gen_loss.item())\n",
    "\n",
    "            # Every epoch: log FID\n",
    "            fid = calculate_fid_score(generator, config.z_dim, device, dataloader, epoch)\n",
    "            fid_scores.append(fid)\n",
    "\n",
    "            wandb.log({\n",
    "                \"epoch\": epoch,\n",
    "                \"gen_loss\": gen_loss.item(),\n",
    "                \"crit_loss\": mean_critic_loss,\n",
    "                \"FID\": fid\n",
    "            })\n",
    "\n",
    "        print(f\"Final FID: {fid_scores[-1]:.2f}\")"
   ]
  },
  {
   "cell_type": "code",
   "execution_count": 20,
   "id": "f239c6f2",
   "metadata": {},
   "outputs": [
    {
     "name": "stderr",
     "output_type": "stream",
     "text": [
      "\u001b[34m\u001b[1mwandb\u001b[0m: Agent Starting Run: vc1vtq66 with config:\n",
      "\u001b[34m\u001b[1mwandb\u001b[0m: \tbatch_size: 64\n",
      "\u001b[34m\u001b[1mwandb\u001b[0m: \tc_lambda: 5\n",
      "\u001b[34m\u001b[1mwandb\u001b[0m: \tepochs: 10\n",
      "\u001b[34m\u001b[1mwandb\u001b[0m: \thidden_dim: 64\n",
      "\u001b[34m\u001b[1mwandb\u001b[0m: \tlr: 1e-05\n",
      "\u001b[34m\u001b[1mwandb\u001b[0m: \tn_critic: 7\n",
      "\u001b[34m\u001b[1mwandb\u001b[0m: \tz_dim: 64\n"
     ]
    },
    {
     "data": {
      "text/html": [
       "Tracking run with wandb version 0.19.8"
      ],
      "text/plain": [
       "<IPython.core.display.HTML object>"
      ]
     },
     "metadata": {},
     "output_type": "display_data"
    },
    {
     "data": {
      "text/html": [
       "Run data is saved locally in <code>c:\\Users\\jacob\\OneDrive\\Desktop\\cogs_185\\final_project\\wandb\\run-20250611_135615-vc1vtq66</code>"
      ],
      "text/plain": [
       "<IPython.core.display.HTML object>"
      ]
     },
     "metadata": {},
     "output_type": "display_data"
    },
    {
     "data": {
      "text/html": [
       "Syncing run <strong><a href='https://wandb.ai/jhanshaw-uc-san-diego/gan_spec_drop-sweep_final/runs/vc1vtq66' target=\"_blank\">vocal-sweep-1</a></strong> to <a href='https://wandb.ai/jhanshaw-uc-san-diego/gan_spec_drop-sweep_final' target=\"_blank\">Weights & Biases</a> (<a href='https://wandb.me/developer-guide' target=\"_blank\">docs</a>)<br>Sweep page: <a href='https://wandb.ai/jhanshaw-uc-san-diego/gan_spec_drop-sweep_final/sweeps/jlyx2hte' target=\"_blank\">https://wandb.ai/jhanshaw-uc-san-diego/gan_spec_drop-sweep_final/sweeps/jlyx2hte</a>"
      ],
      "text/plain": [
       "<IPython.core.display.HTML object>"
      ]
     },
     "metadata": {},
     "output_type": "display_data"
    },
    {
     "data": {
      "text/html": [
       " View project at <a href='https://wandb.ai/jhanshaw-uc-san-diego/gan_spec_drop-sweep_final' target=\"_blank\">https://wandb.ai/jhanshaw-uc-san-diego/gan_spec_drop-sweep_final</a>"
      ],
      "text/plain": [
       "<IPython.core.display.HTML object>"
      ]
     },
     "metadata": {},
     "output_type": "display_data"
    },
    {
     "data": {
      "text/html": [
       " View sweep at <a href='https://wandb.ai/jhanshaw-uc-san-diego/gan_spec_drop-sweep_final/sweeps/jlyx2hte' target=\"_blank\">https://wandb.ai/jhanshaw-uc-san-diego/gan_spec_drop-sweep_final/sweeps/jlyx2hte</a>"
      ],
      "text/plain": [
       "<IPython.core.display.HTML object>"
      ]
     },
     "metadata": {},
     "output_type": "display_data"
    },
    {
     "data": {
      "text/html": [
       " View run at <a href='https://wandb.ai/jhanshaw-uc-san-diego/gan_spec_drop-sweep_final/runs/vc1vtq66' target=\"_blank\">https://wandb.ai/jhanshaw-uc-san-diego/gan_spec_drop-sweep_final/runs/vc1vtq66</a>"
      ],
      "text/plain": [
       "<IPython.core.display.HTML object>"
      ]
     },
     "metadata": {},
     "output_type": "display_data"
    },
    {
     "name": "stderr",
     "output_type": "stream",
     "text": [
      "100%|██████████| 79/79 [00:43<00:00,  1.83it/s]\n",
      "100%|██████████| 79/79 [00:36<00:00,  2.17it/s]\n",
      "100%|██████████| 79/79 [00:15<00:00,  5.05it/s]\n",
      "100%|██████████| 79/79 [00:39<00:00,  1.99it/s]\n",
      "100%|██████████| 79/79 [00:15<00:00,  4.99it/s]\n",
      "100%|██████████| 79/79 [00:41<00:00,  1.92it/s]\n",
      "100%|██████████| 79/79 [00:15<00:00,  5.00it/s]\n",
      "100%|██████████| 79/79 [00:42<00:00,  1.87it/s]\n",
      "100%|██████████| 79/79 [00:15<00:00,  5.08it/s]\n",
      "100%|██████████| 79/79 [00:43<00:00,  1.82it/s]\n",
      "100%|██████████| 79/79 [00:15<00:00,  5.00it/s]\n",
      "100%|██████████| 79/79 [00:45<00:00,  1.72it/s]\n",
      "100%|██████████| 79/79 [00:15<00:00,  4.98it/s]\n",
      "100%|██████████| 79/79 [00:45<00:00,  1.72it/s]\n",
      "100%|██████████| 79/79 [00:15<00:00,  5.09it/s]\n",
      "100%|██████████| 79/79 [00:44<00:00,  1.77it/s]\n",
      "100%|██████████| 79/79 [00:15<00:00,  5.05it/s]\n",
      "100%|██████████| 79/79 [00:44<00:00,  1.77it/s]\n",
      "100%|██████████| 79/79 [00:15<00:00,  5.01it/s]\n",
      "100%|██████████| 79/79 [00:43<00:00,  1.81it/s]\n"
     ]
    },
    {
     "name": "stdout",
     "output_type": "stream",
     "text": [
      "Final FID: 263.51\n"
     ]
    },
    {
     "data": {
      "text/html": [],
      "text/plain": [
       "<IPython.core.display.HTML object>"
      ]
     },
     "metadata": {},
     "output_type": "display_data"
    },
    {
     "data": {
      "text/html": [
       "<br>    <style><br>        .wandb-row {<br>            display: flex;<br>            flex-direction: row;<br>            flex-wrap: wrap;<br>            justify-content: flex-start;<br>            width: 100%;<br>        }<br>        .wandb-col {<br>            display: flex;<br>            flex-direction: column;<br>            flex-basis: 100%;<br>            flex: 1;<br>            padding: 10px;<br>        }<br>    </style><br><div class=\"wandb-row\"><div class=\"wandb-col\"><h3>Run history:</h3><br/><table class=\"wandb\"><tr><td>FID</td><td>▅▆▃█▅▅▄▂▁▅</td></tr><tr><td>crit_loss</td><td>▃▁▃▂▅▄█▆█▆</td></tr><tr><td>epoch</td><td>▁▂▃▃▄▅▆▆▇█</td></tr><tr><td>gen_loss</td><td>▇██▆▅▄▄▄▂▁</td></tr></table><br/></div><div class=\"wandb-col\"><h3>Run summary:</h3><br/><table class=\"wandb\"><tr><td>FID</td><td>263.51096</td></tr><tr><td>crit_loss</td><td>-0.46394</td></tr><tr><td>epoch</td><td>9</td></tr><tr><td>gen_loss</td><td>-4.11275</td></tr></table><br/></div></div>"
      ],
      "text/plain": [
       "<IPython.core.display.HTML object>"
      ]
     },
     "metadata": {},
     "output_type": "display_data"
    },
    {
     "data": {
      "text/html": [
       " View run <strong style=\"color:#cdcd00\">vocal-sweep-1</strong> at: <a href='https://wandb.ai/jhanshaw-uc-san-diego/gan_spec_drop-sweep_final/runs/vc1vtq66' target=\"_blank\">https://wandb.ai/jhanshaw-uc-san-diego/gan_spec_drop-sweep_final/runs/vc1vtq66</a><br> View project at: <a href='https://wandb.ai/jhanshaw-uc-san-diego/gan_spec_drop-sweep_final' target=\"_blank\">https://wandb.ai/jhanshaw-uc-san-diego/gan_spec_drop-sweep_final</a><br>Synced 5 W&B file(s), 0 media file(s), 0 artifact file(s) and 0 other file(s)"
      ],
      "text/plain": [
       "<IPython.core.display.HTML object>"
      ]
     },
     "metadata": {},
     "output_type": "display_data"
    },
    {
     "data": {
      "text/html": [
       "Find logs at: <code>.\\wandb\\run-20250611_135615-vc1vtq66\\logs</code>"
      ],
      "text/plain": [
       "<IPython.core.display.HTML object>"
      ]
     },
     "metadata": {},
     "output_type": "display_data"
    },
    {
     "name": "stderr",
     "output_type": "stream",
     "text": [
      "\u001b[34m\u001b[1mwandb\u001b[0m: Agent Starting Run: 5cz8hukt with config:\n",
      "\u001b[34m\u001b[1mwandb\u001b[0m: \tbatch_size: 128\n",
      "\u001b[34m\u001b[1mwandb\u001b[0m: \tc_lambda: 5\n",
      "\u001b[34m\u001b[1mwandb\u001b[0m: \tepochs: 10\n",
      "\u001b[34m\u001b[1mwandb\u001b[0m: \thidden_dim: 64\n",
      "\u001b[34m\u001b[1mwandb\u001b[0m: \tlr: 0.0001\n",
      "\u001b[34m\u001b[1mwandb\u001b[0m: \tn_critic: 7\n",
      "\u001b[34m\u001b[1mwandb\u001b[0m: \tz_dim: 128\n"
     ]
    },
    {
     "data": {
      "text/html": [
       "Tracking run with wandb version 0.19.8"
      ],
      "text/plain": [
       "<IPython.core.display.HTML object>"
      ]
     },
     "metadata": {},
     "output_type": "display_data"
    },
    {
     "data": {
      "text/html": [
       "Run data is saved locally in <code>c:\\Users\\jacob\\OneDrive\\Desktop\\cogs_185\\final_project\\wandb\\run-20250611_142451-5cz8hukt</code>"
      ],
      "text/plain": [
       "<IPython.core.display.HTML object>"
      ]
     },
     "metadata": {},
     "output_type": "display_data"
    },
    {
     "data": {
      "text/html": [
       "Syncing run <strong><a href='https://wandb.ai/jhanshaw-uc-san-diego/gan_spec_drop-sweep_final/runs/5cz8hukt' target=\"_blank\">soft-sweep-2</a></strong> to <a href='https://wandb.ai/jhanshaw-uc-san-diego/gan_spec_drop-sweep_final' target=\"_blank\">Weights & Biases</a> (<a href='https://wandb.me/developer-guide' target=\"_blank\">docs</a>)<br>Sweep page: <a href='https://wandb.ai/jhanshaw-uc-san-diego/gan_spec_drop-sweep_final/sweeps/jlyx2hte' target=\"_blank\">https://wandb.ai/jhanshaw-uc-san-diego/gan_spec_drop-sweep_final/sweeps/jlyx2hte</a>"
      ],
      "text/plain": [
       "<IPython.core.display.HTML object>"
      ]
     },
     "metadata": {},
     "output_type": "display_data"
    },
    {
     "data": {
      "text/html": [
       " View project at <a href='https://wandb.ai/jhanshaw-uc-san-diego/gan_spec_drop-sweep_final' target=\"_blank\">https://wandb.ai/jhanshaw-uc-san-diego/gan_spec_drop-sweep_final</a>"
      ],
      "text/plain": [
       "<IPython.core.display.HTML object>"
      ]
     },
     "metadata": {},
     "output_type": "display_data"
    },
    {
     "data": {
      "text/html": [
       " View sweep at <a href='https://wandb.ai/jhanshaw-uc-san-diego/gan_spec_drop-sweep_final/sweeps/jlyx2hte' target=\"_blank\">https://wandb.ai/jhanshaw-uc-san-diego/gan_spec_drop-sweep_final/sweeps/jlyx2hte</a>"
      ],
      "text/plain": [
       "<IPython.core.display.HTML object>"
      ]
     },
     "metadata": {},
     "output_type": "display_data"
    },
    {
     "data": {
      "text/html": [
       " View run at <a href='https://wandb.ai/jhanshaw-uc-san-diego/gan_spec_drop-sweep_final/runs/5cz8hukt' target=\"_blank\">https://wandb.ai/jhanshaw-uc-san-diego/gan_spec_drop-sweep_final/runs/5cz8hukt</a>"
      ],
      "text/plain": [
       "<IPython.core.display.HTML object>"
      ]
     },
     "metadata": {},
     "output_type": "display_data"
    },
    {
     "name": "stderr",
     "output_type": "stream",
     "text": [
      "100%|██████████| 79/79 [00:15<00:00,  4.98it/s]\n",
      "100%|██████████| 79/79 [00:41<00:00,  1.89it/s]\n",
      "100%|██████████| 79/79 [00:15<00:00,  5.07it/s]\n",
      "100%|██████████| 79/79 [00:44<00:00,  1.78it/s]\n",
      "100%|██████████| 79/79 [00:15<00:00,  5.03it/s]\n",
      "100%|██████████| 79/79 [00:41<00:00,  1.91it/s]\n",
      "100%|██████████| 79/79 [00:15<00:00,  4.97it/s]\n",
      "100%|██████████| 79/79 [00:45<00:00,  1.74it/s]\n",
      "100%|██████████| 79/79 [00:15<00:00,  5.01it/s]\n",
      "100%|██████████| 79/79 [00:44<00:00,  1.76it/s]\n",
      "100%|██████████| 79/79 [01:01<00:00,  1.29it/s]\n",
      "100%|██████████| 79/79 [00:59<00:00,  1.32it/s]\n",
      "100%|██████████| 79/79 [00:15<00:00,  5.07it/s]\n",
      "100%|██████████| 79/79 [00:44<00:00,  1.76it/s]\n",
      "100%|██████████| 79/79 [00:15<00:00,  5.04it/s]\n",
      "100%|██████████| 79/79 [00:44<00:00,  1.76it/s]\n",
      "100%|██████████| 79/79 [00:15<00:00,  5.00it/s]\n",
      " 44%|████▍     | 35/79 [00:22<00:28,  1.56it/s]\n",
      "Traceback (most recent call last):\n",
      "  File \"C:\\Users\\jacob\\AppData\\Local\\Temp\\ipykernel_23704\\3285193204.py\", line 64, in sweep_train\n",
      "    fid = calculate_fid_score(generator, config.z_dim, device, dataloader, epoch)\n",
      "  File \"C:\\Users\\jacob\\AppData\\Local\\Temp\\ipykernel_23704\\450502378.py\", line 67, in calculate_fid_score\n",
      "    fid_value = fid_score.calculate_fid_given_paths([real_dir, gen_dir], batch_size=64, device=device, dims=2048)\n",
      "  File \"c:\\Users\\jacob\\anaconda3\\envs\\mario_env_2\\lib\\site-packages\\pytorch_fid\\fid_score.py\", line 261, in calculate_fid_given_paths\n",
      "    m2, s2 = compute_statistics_of_path(paths[1], model, batch_size,\n",
      "  File \"c:\\Users\\jacob\\anaconda3\\envs\\mario_env_2\\lib\\site-packages\\pytorch_fid\\fid_score.py\", line 243, in compute_statistics_of_path\n",
      "    m, s = calculate_activation_statistics(files, model, batch_size,\n",
      "  File \"c:\\Users\\jacob\\anaconda3\\envs\\mario_env_2\\lib\\site-packages\\pytorch_fid\\fid_score.py\", line 228, in calculate_activation_statistics\n",
      "    act = get_activations(files, model, batch_size, dims, device, num_workers)\n",
      "  File \"c:\\Users\\jacob\\anaconda3\\envs\\mario_env_2\\lib\\site-packages\\pytorch_fid\\fid_score.py\", line 132, in get_activations\n",
      "    for batch in tqdm(dataloader):\n",
      "  File \"c:\\Users\\jacob\\anaconda3\\envs\\mario_env_2\\lib\\site-packages\\tqdm\\std.py\", line 1182, in __iter__\n",
      "    for obj in iterable:\n",
      "  File \"c:\\Users\\jacob\\anaconda3\\envs\\mario_env_2\\lib\\site-packages\\torch\\utils\\data\\dataloader.py\", line 708, in __next__\n",
      "    data = self._next_data()\n",
      "  File \"c:\\Users\\jacob\\anaconda3\\envs\\mario_env_2\\lib\\site-packages\\torch\\utils\\data\\dataloader.py\", line 1480, in _next_data\n",
      "    return self._process_data(data)\n",
      "  File \"c:\\Users\\jacob\\anaconda3\\envs\\mario_env_2\\lib\\site-packages\\torch\\utils\\data\\dataloader.py\", line 1505, in _process_data\n",
      "    data.reraise()\n",
      "  File \"c:\\Users\\jacob\\anaconda3\\envs\\mario_env_2\\lib\\site-packages\\torch\\_utils.py\", line 733, in reraise\n",
      "    raise exception\n",
      "PermissionError: Caught PermissionError in DataLoader worker process 0.\n",
      "Original Traceback (most recent call last):\n",
      "  File \"c:\\Users\\jacob\\anaconda3\\envs\\mario_env_2\\lib\\site-packages\\torch\\utils\\data\\_utils\\worker.py\", line 349, in _worker_loop\n",
      "    data = fetcher.fetch(index)  # type: ignore[possibly-undefined]\n",
      "  File \"c:\\Users\\jacob\\anaconda3\\envs\\mario_env_2\\lib\\site-packages\\torch\\utils\\data\\_utils\\fetch.py\", line 52, in fetch\n",
      "    data = [self.dataset[idx] for idx in possibly_batched_index]\n",
      "  File \"c:\\Users\\jacob\\anaconda3\\envs\\mario_env_2\\lib\\site-packages\\torch\\utils\\data\\_utils\\fetch.py\", line 52, in <listcomp>\n",
      "    data = [self.dataset[idx] for idx in possibly_batched_index]\n",
      "  File \"c:\\Users\\jacob\\anaconda3\\envs\\mario_env_2\\lib\\site-packages\\pytorch_fid\\fid_score.py\", line 87, in __getitem__\n",
      "    img = Image.open(path).convert('RGB')\n",
      "  File \"c:\\Users\\jacob\\anaconda3\\envs\\mario_env_2\\lib\\site-packages\\PIL\\Image.py\", line 3131, in open\n",
      "    fp = builtins.open(filename, \"rb\")\n",
      "PermissionError: [Errno 13] Permission denied: 'C:\\\\Users\\\\jacob\\\\OneDrive\\\\Desktop\\\\cogs_185\\\\final_project\\\\fid_temp\\\\generated\\\\epoch_8\\\\3018.png'\n",
      "\n"
     ]
    },
    {
     "data": {
      "text/html": [],
      "text/plain": [
       "<IPython.core.display.HTML object>"
      ]
     },
     "metadata": {},
     "output_type": "display_data"
    },
    {
     "data": {
      "text/html": [
       "<br>    <style><br>        .wandb-row {<br>            display: flex;<br>            flex-direction: row;<br>            flex-wrap: wrap;<br>            justify-content: flex-start;<br>            width: 100%;<br>        }<br>        .wandb-col {<br>            display: flex;<br>            flex-direction: column;<br>            flex-basis: 100%;<br>            flex: 1;<br>            padding: 10px;<br>        }<br>    </style><br><div class=\"wandb-row\"><div class=\"wandb-col\"><h3>Run history:</h3><br/><table class=\"wandb\"><tr><td>FID</td><td>█▅▄▃▃▂▂▁</td></tr><tr><td>crit_loss</td><td>▁▃▅█▇██▅</td></tr><tr><td>epoch</td><td>▁▂▃▄▅▆▇█</td></tr><tr><td>gen_loss</td><td>▇▄▁▅▇▇▇█</td></tr></table><br/></div><div class=\"wandb-col\"><h3>Run summary:</h3><br/><table class=\"wandb\"><tr><td>FID</td><td>146.7594</td></tr><tr><td>crit_loss</td><td>-0.52483</td></tr><tr><td>epoch</td><td>7</td></tr><tr><td>gen_loss</td><td>-1.35419</td></tr></table><br/></div></div>"
      ],
      "text/plain": [
       "<IPython.core.display.HTML object>"
      ]
     },
     "metadata": {},
     "output_type": "display_data"
    },
    {
     "data": {
      "text/html": [
       " View run <strong style=\"color:#cdcd00\">soft-sweep-2</strong> at: <a href='https://wandb.ai/jhanshaw-uc-san-diego/gan_spec_drop-sweep_final/runs/5cz8hukt' target=\"_blank\">https://wandb.ai/jhanshaw-uc-san-diego/gan_spec_drop-sweep_final/runs/5cz8hukt</a><br> View project at: <a href='https://wandb.ai/jhanshaw-uc-san-diego/gan_spec_drop-sweep_final' target=\"_blank\">https://wandb.ai/jhanshaw-uc-san-diego/gan_spec_drop-sweep_final</a><br>Synced 5 W&B file(s), 0 media file(s), 0 artifact file(s) and 0 other file(s)"
      ],
      "text/plain": [
       "<IPython.core.display.HTML object>"
      ]
     },
     "metadata": {},
     "output_type": "display_data"
    },
    {
     "data": {
      "text/html": [
       "Find logs at: <code>.\\wandb\\run-20250611_142451-5cz8hukt\\logs</code>"
      ],
      "text/plain": [
       "<IPython.core.display.HTML object>"
      ]
     },
     "metadata": {},
     "output_type": "display_data"
    },
    {
     "name": "stderr",
     "output_type": "stream",
     "text": [
      "Run 5cz8hukt errored:\n",
      "Traceback (most recent call last):\n",
      "  File \"c:\\Users\\jacob\\anaconda3\\envs\\mario_env_2\\lib\\site-packages\\wandb\\agents\\pyagent.py\", line 306, in _run_job\n",
      "    self._function()\n",
      "  File \"C:\\Users\\jacob\\AppData\\Local\\Temp\\ipykernel_23704\\3285193204.py\", line 64, in sweep_train\n",
      "    fid = calculate_fid_score(generator, config.z_dim, device, dataloader, epoch)\n",
      "  File \"C:\\Users\\jacob\\AppData\\Local\\Temp\\ipykernel_23704\\450502378.py\", line 67, in calculate_fid_score\n",
      "    fid_value = fid_score.calculate_fid_given_paths([real_dir, gen_dir], batch_size=64, device=device, dims=2048)\n",
      "  File \"c:\\Users\\jacob\\anaconda3\\envs\\mario_env_2\\lib\\site-packages\\pytorch_fid\\fid_score.py\", line 261, in calculate_fid_given_paths\n",
      "    m2, s2 = compute_statistics_of_path(paths[1], model, batch_size,\n",
      "  File \"c:\\Users\\jacob\\anaconda3\\envs\\mario_env_2\\lib\\site-packages\\pytorch_fid\\fid_score.py\", line 243, in compute_statistics_of_path\n",
      "    m, s = calculate_activation_statistics(files, model, batch_size,\n",
      "  File \"c:\\Users\\jacob\\anaconda3\\envs\\mario_env_2\\lib\\site-packages\\pytorch_fid\\fid_score.py\", line 228, in calculate_activation_statistics\n",
      "    act = get_activations(files, model, batch_size, dims, device, num_workers)\n",
      "  File \"c:\\Users\\jacob\\anaconda3\\envs\\mario_env_2\\lib\\site-packages\\pytorch_fid\\fid_score.py\", line 132, in get_activations\n",
      "    for batch in tqdm(dataloader):\n",
      "  File \"c:\\Users\\jacob\\anaconda3\\envs\\mario_env_2\\lib\\site-packages\\tqdm\\std.py\", line 1182, in __iter__\n",
      "    for obj in iterable:\n",
      "  File \"c:\\Users\\jacob\\anaconda3\\envs\\mario_env_2\\lib\\site-packages\\torch\\utils\\data\\dataloader.py\", line 708, in __next__\n",
      "    data = self._next_data()\n",
      "  File \"c:\\Users\\jacob\\anaconda3\\envs\\mario_env_2\\lib\\site-packages\\torch\\utils\\data\\dataloader.py\", line 1480, in _next_data\n",
      "    return self._process_data(data)\n",
      "  File \"c:\\Users\\jacob\\anaconda3\\envs\\mario_env_2\\lib\\site-packages\\torch\\utils\\data\\dataloader.py\", line 1505, in _process_data\n",
      "    data.reraise()\n",
      "  File \"c:\\Users\\jacob\\anaconda3\\envs\\mario_env_2\\lib\\site-packages\\torch\\_utils.py\", line 733, in reraise\n",
      "    raise exception\n",
      "PermissionError: Caught PermissionError in DataLoader worker process 0.\n",
      "Original Traceback (most recent call last):\n",
      "  File \"c:\\Users\\jacob\\anaconda3\\envs\\mario_env_2\\lib\\site-packages\\torch\\utils\\data\\_utils\\worker.py\", line 349, in _worker_loop\n",
      "    data = fetcher.fetch(index)  # type: ignore[possibly-undefined]\n",
      "  File \"c:\\Users\\jacob\\anaconda3\\envs\\mario_env_2\\lib\\site-packages\\torch\\utils\\data\\_utils\\fetch.py\", line 52, in fetch\n",
      "    data = [self.dataset[idx] for idx in possibly_batched_index]\n",
      "  File \"c:\\Users\\jacob\\anaconda3\\envs\\mario_env_2\\lib\\site-packages\\torch\\utils\\data\\_utils\\fetch.py\", line 52, in <listcomp>\n",
      "    data = [self.dataset[idx] for idx in possibly_batched_index]\n",
      "  File \"c:\\Users\\jacob\\anaconda3\\envs\\mario_env_2\\lib\\site-packages\\pytorch_fid\\fid_score.py\", line 87, in __getitem__\n",
      "    img = Image.open(path).convert('RGB')\n",
      "  File \"c:\\Users\\jacob\\anaconda3\\envs\\mario_env_2\\lib\\site-packages\\PIL\\Image.py\", line 3131, in open\n",
      "    fp = builtins.open(filename, \"rb\")\n",
      "PermissionError: [Errno 13] Permission denied: 'C:\\\\Users\\\\jacob\\\\OneDrive\\\\Desktop\\\\cogs_185\\\\final_project\\\\fid_temp\\\\generated\\\\epoch_8\\\\3018.png'\n",
      "\n",
      "\n",
      "\u001b[34m\u001b[1mwandb\u001b[0m: \u001b[32m\u001b[41mERROR\u001b[0m Run 5cz8hukt errored:\n",
      "\u001b[34m\u001b[1mwandb\u001b[0m: \u001b[32m\u001b[41mERROR\u001b[0m Traceback (most recent call last):\n",
      "\u001b[34m\u001b[1mwandb\u001b[0m: \u001b[32m\u001b[41mERROR\u001b[0m   File \"c:\\Users\\jacob\\anaconda3\\envs\\mario_env_2\\lib\\site-packages\\wandb\\agents\\pyagent.py\", line 306, in _run_job\n",
      "\u001b[34m\u001b[1mwandb\u001b[0m: \u001b[32m\u001b[41mERROR\u001b[0m     self._function()\n",
      "\u001b[34m\u001b[1mwandb\u001b[0m: \u001b[32m\u001b[41mERROR\u001b[0m   File \"C:\\Users\\jacob\\AppData\\Local\\Temp\\ipykernel_23704\\3285193204.py\", line 64, in sweep_train\n",
      "\u001b[34m\u001b[1mwandb\u001b[0m: \u001b[32m\u001b[41mERROR\u001b[0m     fid = calculate_fid_score(generator, config.z_dim, device, dataloader, epoch)\n",
      "\u001b[34m\u001b[1mwandb\u001b[0m: \u001b[32m\u001b[41mERROR\u001b[0m   File \"C:\\Users\\jacob\\AppData\\Local\\Temp\\ipykernel_23704\\450502378.py\", line 67, in calculate_fid_score\n",
      "\u001b[34m\u001b[1mwandb\u001b[0m: \u001b[32m\u001b[41mERROR\u001b[0m     fid_value = fid_score.calculate_fid_given_paths([real_dir, gen_dir], batch_size=64, device=device, dims=2048)\n",
      "\u001b[34m\u001b[1mwandb\u001b[0m: \u001b[32m\u001b[41mERROR\u001b[0m   File \"c:\\Users\\jacob\\anaconda3\\envs\\mario_env_2\\lib\\site-packages\\pytorch_fid\\fid_score.py\", line 261, in calculate_fid_given_paths\n",
      "\u001b[34m\u001b[1mwandb\u001b[0m: \u001b[32m\u001b[41mERROR\u001b[0m     m2, s2 = compute_statistics_of_path(paths[1], model, batch_size,\n",
      "\u001b[34m\u001b[1mwandb\u001b[0m: \u001b[32m\u001b[41mERROR\u001b[0m   File \"c:\\Users\\jacob\\anaconda3\\envs\\mario_env_2\\lib\\site-packages\\pytorch_fid\\fid_score.py\", line 243, in compute_statistics_of_path\n",
      "\u001b[34m\u001b[1mwandb\u001b[0m: \u001b[32m\u001b[41mERROR\u001b[0m     m, s = calculate_activation_statistics(files, model, batch_size,\n",
      "\u001b[34m\u001b[1mwandb\u001b[0m: \u001b[32m\u001b[41mERROR\u001b[0m   File \"c:\\Users\\jacob\\anaconda3\\envs\\mario_env_2\\lib\\site-packages\\pytorch_fid\\fid_score.py\", line 228, in calculate_activation_statistics\n",
      "\u001b[34m\u001b[1mwandb\u001b[0m: \u001b[32m\u001b[41mERROR\u001b[0m     act = get_activations(files, model, batch_size, dims, device, num_workers)\n",
      "\u001b[34m\u001b[1mwandb\u001b[0m: \u001b[32m\u001b[41mERROR\u001b[0m   File \"c:\\Users\\jacob\\anaconda3\\envs\\mario_env_2\\lib\\site-packages\\pytorch_fid\\fid_score.py\", line 132, in get_activations\n",
      "\u001b[34m\u001b[1mwandb\u001b[0m: \u001b[32m\u001b[41mERROR\u001b[0m     for batch in tqdm(dataloader):\n",
      "\u001b[34m\u001b[1mwandb\u001b[0m: \u001b[32m\u001b[41mERROR\u001b[0m   File \"c:\\Users\\jacob\\anaconda3\\envs\\mario_env_2\\lib\\site-packages\\tqdm\\std.py\", line 1182, in __iter__\n",
      "\u001b[34m\u001b[1mwandb\u001b[0m: \u001b[32m\u001b[41mERROR\u001b[0m     for obj in iterable:\n",
      "\u001b[34m\u001b[1mwandb\u001b[0m: \u001b[32m\u001b[41mERROR\u001b[0m   File \"c:\\Users\\jacob\\anaconda3\\envs\\mario_env_2\\lib\\site-packages\\torch\\utils\\data\\dataloader.py\", line 708, in __next__\n",
      "\u001b[34m\u001b[1mwandb\u001b[0m: \u001b[32m\u001b[41mERROR\u001b[0m     data = self._next_data()\n",
      "\u001b[34m\u001b[1mwandb\u001b[0m: \u001b[32m\u001b[41mERROR\u001b[0m   File \"c:\\Users\\jacob\\anaconda3\\envs\\mario_env_2\\lib\\site-packages\\torch\\utils\\data\\dataloader.py\", line 1480, in _next_data\n",
      "\u001b[34m\u001b[1mwandb\u001b[0m: \u001b[32m\u001b[41mERROR\u001b[0m     return self._process_data(data)\n",
      "\u001b[34m\u001b[1mwandb\u001b[0m: \u001b[32m\u001b[41mERROR\u001b[0m   File \"c:\\Users\\jacob\\anaconda3\\envs\\mario_env_2\\lib\\site-packages\\torch\\utils\\data\\dataloader.py\", line 1505, in _process_data\n",
      "\u001b[34m\u001b[1mwandb\u001b[0m: \u001b[32m\u001b[41mERROR\u001b[0m     data.reraise()\n",
      "\u001b[34m\u001b[1mwandb\u001b[0m: \u001b[32m\u001b[41mERROR\u001b[0m   File \"c:\\Users\\jacob\\anaconda3\\envs\\mario_env_2\\lib\\site-packages\\torch\\_utils.py\", line 733, in reraise\n",
      "\u001b[34m\u001b[1mwandb\u001b[0m: \u001b[32m\u001b[41mERROR\u001b[0m     raise exception\n",
      "\u001b[34m\u001b[1mwandb\u001b[0m: \u001b[32m\u001b[41mERROR\u001b[0m PermissionError: Caught PermissionError in DataLoader worker process 0.\n",
      "\u001b[34m\u001b[1mwandb\u001b[0m: \u001b[32m\u001b[41mERROR\u001b[0m Original Traceback (most recent call last):\n",
      "\u001b[34m\u001b[1mwandb\u001b[0m: \u001b[32m\u001b[41mERROR\u001b[0m   File \"c:\\Users\\jacob\\anaconda3\\envs\\mario_env_2\\lib\\site-packages\\torch\\utils\\data\\_utils\\worker.py\", line 349, in _worker_loop\n",
      "\u001b[34m\u001b[1mwandb\u001b[0m: \u001b[32m\u001b[41mERROR\u001b[0m     data = fetcher.fetch(index)  # type: ignore[possibly-undefined]\n",
      "\u001b[34m\u001b[1mwandb\u001b[0m: \u001b[32m\u001b[41mERROR\u001b[0m   File \"c:\\Users\\jacob\\anaconda3\\envs\\mario_env_2\\lib\\site-packages\\torch\\utils\\data\\_utils\\fetch.py\", line 52, in fetch\n",
      "\u001b[34m\u001b[1mwandb\u001b[0m: \u001b[32m\u001b[41mERROR\u001b[0m     data = [self.dataset[idx] for idx in possibly_batched_index]\n",
      "\u001b[34m\u001b[1mwandb\u001b[0m: \u001b[32m\u001b[41mERROR\u001b[0m   File \"c:\\Users\\jacob\\anaconda3\\envs\\mario_env_2\\lib\\site-packages\\torch\\utils\\data\\_utils\\fetch.py\", line 52, in <listcomp>\n",
      "\u001b[34m\u001b[1mwandb\u001b[0m: \u001b[32m\u001b[41mERROR\u001b[0m     data = [self.dataset[idx] for idx in possibly_batched_index]\n",
      "\u001b[34m\u001b[1mwandb\u001b[0m: \u001b[32m\u001b[41mERROR\u001b[0m   File \"c:\\Users\\jacob\\anaconda3\\envs\\mario_env_2\\lib\\site-packages\\pytorch_fid\\fid_score.py\", line 87, in __getitem__\n",
      "\u001b[34m\u001b[1mwandb\u001b[0m: \u001b[32m\u001b[41mERROR\u001b[0m     img = Image.open(path).convert('RGB')\n",
      "\u001b[34m\u001b[1mwandb\u001b[0m: \u001b[32m\u001b[41mERROR\u001b[0m   File \"c:\\Users\\jacob\\anaconda3\\envs\\mario_env_2\\lib\\site-packages\\PIL\\Image.py\", line 3131, in open\n",
      "\u001b[34m\u001b[1mwandb\u001b[0m: \u001b[32m\u001b[41mERROR\u001b[0m     fp = builtins.open(filename, \"rb\")\n",
      "\u001b[34m\u001b[1mwandb\u001b[0m: \u001b[32m\u001b[41mERROR\u001b[0m PermissionError: [Errno 13] Permission denied: 'C:\\\\Users\\\\jacob\\\\OneDrive\\\\Desktop\\\\cogs_185\\\\final_project\\\\fid_temp\\\\generated\\\\epoch_8\\\\3018.png'\n",
      "\u001b[34m\u001b[1mwandb\u001b[0m: \u001b[32m\u001b[41mERROR\u001b[0m \n",
      "\u001b[34m\u001b[1mwandb\u001b[0m: \u001b[32m\u001b[41mERROR\u001b[0m \n",
      "\u001b[34m\u001b[1mwandb\u001b[0m: Agent Starting Run: 7k8p376s with config:\n",
      "\u001b[34m\u001b[1mwandb\u001b[0m: \tbatch_size: 256\n",
      "\u001b[34m\u001b[1mwandb\u001b[0m: \tc_lambda: 5\n",
      "\u001b[34m\u001b[1mwandb\u001b[0m: \tepochs: 10\n",
      "\u001b[34m\u001b[1mwandb\u001b[0m: \thidden_dim: 256\n",
      "\u001b[34m\u001b[1mwandb\u001b[0m: \tlr: 0.0001\n",
      "\u001b[34m\u001b[1mwandb\u001b[0m: \tn_critic: 5\n",
      "\u001b[34m\u001b[1mwandb\u001b[0m: \tz_dim: 100\n"
     ]
    },
    {
     "data": {
      "text/html": [
       "Tracking run with wandb version 0.19.8"
      ],
      "text/plain": [
       "<IPython.core.display.HTML object>"
      ]
     },
     "metadata": {},
     "output_type": "display_data"
    },
    {
     "data": {
      "text/html": [
       "Run data is saved locally in <code>c:\\Users\\jacob\\OneDrive\\Desktop\\cogs_185\\final_project\\wandb\\run-20250611_144736-7k8p376s</code>"
      ],
      "text/plain": [
       "<IPython.core.display.HTML object>"
      ]
     },
     "metadata": {},
     "output_type": "display_data"
    },
    {
     "data": {
      "text/html": [
       "Syncing run <strong><a href='https://wandb.ai/jhanshaw-uc-san-diego/gan_spec_drop-sweep_final/runs/7k8p376s' target=\"_blank\">helpful-sweep-3</a></strong> to <a href='https://wandb.ai/jhanshaw-uc-san-diego/gan_spec_drop-sweep_final' target=\"_blank\">Weights & Biases</a> (<a href='https://wandb.me/developer-guide' target=\"_blank\">docs</a>)<br>Sweep page: <a href='https://wandb.ai/jhanshaw-uc-san-diego/gan_spec_drop-sweep_final/sweeps/jlyx2hte' target=\"_blank\">https://wandb.ai/jhanshaw-uc-san-diego/gan_spec_drop-sweep_final/sweeps/jlyx2hte</a>"
      ],
      "text/plain": [
       "<IPython.core.display.HTML object>"
      ]
     },
     "metadata": {},
     "output_type": "display_data"
    },
    {
     "data": {
      "text/html": [
       " View project at <a href='https://wandb.ai/jhanshaw-uc-san-diego/gan_spec_drop-sweep_final' target=\"_blank\">https://wandb.ai/jhanshaw-uc-san-diego/gan_spec_drop-sweep_final</a>"
      ],
      "text/plain": [
       "<IPython.core.display.HTML object>"
      ]
     },
     "metadata": {},
     "output_type": "display_data"
    },
    {
     "data": {
      "text/html": [
       " View sweep at <a href='https://wandb.ai/jhanshaw-uc-san-diego/gan_spec_drop-sweep_final/sweeps/jlyx2hte' target=\"_blank\">https://wandb.ai/jhanshaw-uc-san-diego/gan_spec_drop-sweep_final/sweeps/jlyx2hte</a>"
      ],
      "text/plain": [
       "<IPython.core.display.HTML object>"
      ]
     },
     "metadata": {},
     "output_type": "display_data"
    },
    {
     "data": {
      "text/html": [
       " View run at <a href='https://wandb.ai/jhanshaw-uc-san-diego/gan_spec_drop-sweep_final/runs/7k8p376s' target=\"_blank\">https://wandb.ai/jhanshaw-uc-san-diego/gan_spec_drop-sweep_final/runs/7k8p376s</a>"
      ],
      "text/plain": [
       "<IPython.core.display.HTML object>"
      ]
     },
     "metadata": {},
     "output_type": "display_data"
    },
    {
     "name": "stderr",
     "output_type": "stream",
     "text": [
      "100%|██████████| 79/79 [00:15<00:00,  4.94it/s]\n",
      "100%|██████████| 79/79 [00:39<00:00,  1.99it/s]\n",
      "100%|██████████| 79/79 [00:15<00:00,  5.19it/s]\n",
      "100%|██████████| 79/79 [00:33<00:00,  2.36it/s]\n",
      "100%|██████████| 79/79 [00:15<00:00,  5.12it/s]\n",
      " 43%|████▎     | 34/79 [00:20<00:27,  1.65it/s]\n",
      "Traceback (most recent call last):\n",
      "  File \"C:\\Users\\jacob\\AppData\\Local\\Temp\\ipykernel_23704\\3285193204.py\", line 64, in sweep_train\n",
      "    fid = calculate_fid_score(generator, config.z_dim, device, dataloader, epoch)\n",
      "  File \"C:\\Users\\jacob\\AppData\\Local\\Temp\\ipykernel_23704\\450502378.py\", line 67, in calculate_fid_score\n",
      "    fid_value = fid_score.calculate_fid_given_paths([real_dir, gen_dir], batch_size=64, device=device, dims=2048)\n",
      "  File \"c:\\Users\\jacob\\anaconda3\\envs\\mario_env_2\\lib\\site-packages\\pytorch_fid\\fid_score.py\", line 261, in calculate_fid_given_paths\n",
      "    m2, s2 = compute_statistics_of_path(paths[1], model, batch_size,\n",
      "  File \"c:\\Users\\jacob\\anaconda3\\envs\\mario_env_2\\lib\\site-packages\\pytorch_fid\\fid_score.py\", line 243, in compute_statistics_of_path\n",
      "    m, s = calculate_activation_statistics(files, model, batch_size,\n",
      "  File \"c:\\Users\\jacob\\anaconda3\\envs\\mario_env_2\\lib\\site-packages\\pytorch_fid\\fid_score.py\", line 228, in calculate_activation_statistics\n",
      "    act = get_activations(files, model, batch_size, dims, device, num_workers)\n",
      "  File \"c:\\Users\\jacob\\anaconda3\\envs\\mario_env_2\\lib\\site-packages\\pytorch_fid\\fid_score.py\", line 132, in get_activations\n",
      "    for batch in tqdm(dataloader):\n",
      "  File \"c:\\Users\\jacob\\anaconda3\\envs\\mario_env_2\\lib\\site-packages\\tqdm\\std.py\", line 1182, in __iter__\n",
      "    for obj in iterable:\n",
      "  File \"c:\\Users\\jacob\\anaconda3\\envs\\mario_env_2\\lib\\site-packages\\torch\\utils\\data\\dataloader.py\", line 708, in __next__\n",
      "    data = self._next_data()\n",
      "  File \"c:\\Users\\jacob\\anaconda3\\envs\\mario_env_2\\lib\\site-packages\\torch\\utils\\data\\dataloader.py\", line 1480, in _next_data\n",
      "    return self._process_data(data)\n",
      "  File \"c:\\Users\\jacob\\anaconda3\\envs\\mario_env_2\\lib\\site-packages\\torch\\utils\\data\\dataloader.py\", line 1505, in _process_data\n",
      "    data.reraise()\n",
      "  File \"c:\\Users\\jacob\\anaconda3\\envs\\mario_env_2\\lib\\site-packages\\torch\\_utils.py\", line 733, in reraise\n",
      "    raise exception\n",
      "PermissionError: Caught PermissionError in DataLoader worker process 0.\n",
      "Original Traceback (most recent call last):\n",
      "  File \"c:\\Users\\jacob\\anaconda3\\envs\\mario_env_2\\lib\\site-packages\\torch\\utils\\data\\_utils\\worker.py\", line 349, in _worker_loop\n",
      "    data = fetcher.fetch(index)  # type: ignore[possibly-undefined]\n",
      "  File \"c:\\Users\\jacob\\anaconda3\\envs\\mario_env_2\\lib\\site-packages\\torch\\utils\\data\\_utils\\fetch.py\", line 52, in fetch\n",
      "    data = [self.dataset[idx] for idx in possibly_batched_index]\n",
      "  File \"c:\\Users\\jacob\\anaconda3\\envs\\mario_env_2\\lib\\site-packages\\torch\\utils\\data\\_utils\\fetch.py\", line 52, in <listcomp>\n",
      "    data = [self.dataset[idx] for idx in possibly_batched_index]\n",
      "  File \"c:\\Users\\jacob\\anaconda3\\envs\\mario_env_2\\lib\\site-packages\\pytorch_fid\\fid_score.py\", line 87, in __getitem__\n",
      "    img = Image.open(path).convert('RGB')\n",
      "  File \"c:\\Users\\jacob\\anaconda3\\envs\\mario_env_2\\lib\\site-packages\\PIL\\Image.py\", line 3131, in open\n",
      "    fp = builtins.open(filename, \"rb\")\n",
      "PermissionError: [Errno 13] Permission denied: 'C:\\\\Users\\\\jacob\\\\OneDrive\\\\Desktop\\\\cogs_185\\\\final_project\\\\fid_temp\\\\generated\\\\epoch_2\\\\2994.png'\n",
      "\n"
     ]
    },
    {
     "data": {
      "text/html": [],
      "text/plain": [
       "<IPython.core.display.HTML object>"
      ]
     },
     "metadata": {},
     "output_type": "display_data"
    },
    {
     "data": {
      "text/html": [
       "<br>    <style><br>        .wandb-row {<br>            display: flex;<br>            flex-direction: row;<br>            flex-wrap: wrap;<br>            justify-content: flex-start;<br>            width: 100%;<br>        }<br>        .wandb-col {<br>            display: flex;<br>            flex-direction: column;<br>            flex-basis: 100%;<br>            flex: 1;<br>            padding: 10px;<br>        }<br>    </style><br><div class=\"wandb-row\"><div class=\"wandb-col\"><h3>Run history:</h3><br/><table class=\"wandb\"><tr><td>FID</td><td>█▁</td></tr><tr><td>crit_loss</td><td>▁█</td></tr><tr><td>epoch</td><td>▁█</td></tr><tr><td>gen_loss</td><td>█▁</td></tr></table><br/></div><div class=\"wandb-col\"><h3>Run summary:</h3><br/><table class=\"wandb\"><tr><td>FID</td><td>315.07144</td></tr><tr><td>crit_loss</td><td>-0.54569</td></tr><tr><td>epoch</td><td>1</td></tr><tr><td>gen_loss</td><td>-0.34449</td></tr></table><br/></div></div>"
      ],
      "text/plain": [
       "<IPython.core.display.HTML object>"
      ]
     },
     "metadata": {},
     "output_type": "display_data"
    },
    {
     "data": {
      "text/html": [
       " View run <strong style=\"color:#cdcd00\">helpful-sweep-3</strong> at: <a href='https://wandb.ai/jhanshaw-uc-san-diego/gan_spec_drop-sweep_final/runs/7k8p376s' target=\"_blank\">https://wandb.ai/jhanshaw-uc-san-diego/gan_spec_drop-sweep_final/runs/7k8p376s</a><br> View project at: <a href='https://wandb.ai/jhanshaw-uc-san-diego/gan_spec_drop-sweep_final' target=\"_blank\">https://wandb.ai/jhanshaw-uc-san-diego/gan_spec_drop-sweep_final</a><br>Synced 5 W&B file(s), 0 media file(s), 0 artifact file(s) and 0 other file(s)"
      ],
      "text/plain": [
       "<IPython.core.display.HTML object>"
      ]
     },
     "metadata": {},
     "output_type": "display_data"
    },
    {
     "data": {
      "text/html": [
       "Find logs at: <code>.\\wandb\\run-20250611_144736-7k8p376s\\logs</code>"
      ],
      "text/plain": [
       "<IPython.core.display.HTML object>"
      ]
     },
     "metadata": {},
     "output_type": "display_data"
    },
    {
     "name": "stderr",
     "output_type": "stream",
     "text": [
      "Run 7k8p376s errored:\n",
      "Traceback (most recent call last):\n",
      "  File \"c:\\Users\\jacob\\anaconda3\\envs\\mario_env_2\\lib\\site-packages\\wandb\\agents\\pyagent.py\", line 306, in _run_job\n",
      "    self._function()\n",
      "  File \"C:\\Users\\jacob\\AppData\\Local\\Temp\\ipykernel_23704\\3285193204.py\", line 64, in sweep_train\n",
      "    fid = calculate_fid_score(generator, config.z_dim, device, dataloader, epoch)\n",
      "  File \"C:\\Users\\jacob\\AppData\\Local\\Temp\\ipykernel_23704\\450502378.py\", line 67, in calculate_fid_score\n",
      "    fid_value = fid_score.calculate_fid_given_paths([real_dir, gen_dir], batch_size=64, device=device, dims=2048)\n",
      "  File \"c:\\Users\\jacob\\anaconda3\\envs\\mario_env_2\\lib\\site-packages\\pytorch_fid\\fid_score.py\", line 261, in calculate_fid_given_paths\n",
      "    m2, s2 = compute_statistics_of_path(paths[1], model, batch_size,\n",
      "  File \"c:\\Users\\jacob\\anaconda3\\envs\\mario_env_2\\lib\\site-packages\\pytorch_fid\\fid_score.py\", line 243, in compute_statistics_of_path\n",
      "    m, s = calculate_activation_statistics(files, model, batch_size,\n",
      "  File \"c:\\Users\\jacob\\anaconda3\\envs\\mario_env_2\\lib\\site-packages\\pytorch_fid\\fid_score.py\", line 228, in calculate_activation_statistics\n",
      "    act = get_activations(files, model, batch_size, dims, device, num_workers)\n",
      "  File \"c:\\Users\\jacob\\anaconda3\\envs\\mario_env_2\\lib\\site-packages\\pytorch_fid\\fid_score.py\", line 132, in get_activations\n",
      "    for batch in tqdm(dataloader):\n",
      "  File \"c:\\Users\\jacob\\anaconda3\\envs\\mario_env_2\\lib\\site-packages\\tqdm\\std.py\", line 1182, in __iter__\n",
      "    for obj in iterable:\n",
      "  File \"c:\\Users\\jacob\\anaconda3\\envs\\mario_env_2\\lib\\site-packages\\torch\\utils\\data\\dataloader.py\", line 708, in __next__\n",
      "    data = self._next_data()\n",
      "  File \"c:\\Users\\jacob\\anaconda3\\envs\\mario_env_2\\lib\\site-packages\\torch\\utils\\data\\dataloader.py\", line 1480, in _next_data\n",
      "    return self._process_data(data)\n",
      "  File \"c:\\Users\\jacob\\anaconda3\\envs\\mario_env_2\\lib\\site-packages\\torch\\utils\\data\\dataloader.py\", line 1505, in _process_data\n",
      "    data.reraise()\n",
      "  File \"c:\\Users\\jacob\\anaconda3\\envs\\mario_env_2\\lib\\site-packages\\torch\\_utils.py\", line 733, in reraise\n",
      "    raise exception\n",
      "PermissionError: Caught PermissionError in DataLoader worker process 0.\n",
      "Original Traceback (most recent call last):\n",
      "  File \"c:\\Users\\jacob\\anaconda3\\envs\\mario_env_2\\lib\\site-packages\\torch\\utils\\data\\_utils\\worker.py\", line 349, in _worker_loop\n",
      "    data = fetcher.fetch(index)  # type: ignore[possibly-undefined]\n",
      "  File \"c:\\Users\\jacob\\anaconda3\\envs\\mario_env_2\\lib\\site-packages\\torch\\utils\\data\\_utils\\fetch.py\", line 52, in fetch\n",
      "    data = [self.dataset[idx] for idx in possibly_batched_index]\n",
      "  File \"c:\\Users\\jacob\\anaconda3\\envs\\mario_env_2\\lib\\site-packages\\torch\\utils\\data\\_utils\\fetch.py\", line 52, in <listcomp>\n",
      "    data = [self.dataset[idx] for idx in possibly_batched_index]\n",
      "  File \"c:\\Users\\jacob\\anaconda3\\envs\\mario_env_2\\lib\\site-packages\\pytorch_fid\\fid_score.py\", line 87, in __getitem__\n",
      "    img = Image.open(path).convert('RGB')\n",
      "  File \"c:\\Users\\jacob\\anaconda3\\envs\\mario_env_2\\lib\\site-packages\\PIL\\Image.py\", line 3131, in open\n",
      "    fp = builtins.open(filename, \"rb\")\n",
      "PermissionError: [Errno 13] Permission denied: 'C:\\\\Users\\\\jacob\\\\OneDrive\\\\Desktop\\\\cogs_185\\\\final_project\\\\fid_temp\\\\generated\\\\epoch_2\\\\2994.png'\n",
      "\n",
      "\n",
      "\u001b[34m\u001b[1mwandb\u001b[0m: \u001b[32m\u001b[41mERROR\u001b[0m Run 7k8p376s errored:\n",
      "\u001b[34m\u001b[1mwandb\u001b[0m: \u001b[32m\u001b[41mERROR\u001b[0m Traceback (most recent call last):\n",
      "\u001b[34m\u001b[1mwandb\u001b[0m: \u001b[32m\u001b[41mERROR\u001b[0m   File \"c:\\Users\\jacob\\anaconda3\\envs\\mario_env_2\\lib\\site-packages\\wandb\\agents\\pyagent.py\", line 306, in _run_job\n",
      "\u001b[34m\u001b[1mwandb\u001b[0m: \u001b[32m\u001b[41mERROR\u001b[0m     self._function()\n",
      "\u001b[34m\u001b[1mwandb\u001b[0m: \u001b[32m\u001b[41mERROR\u001b[0m   File \"C:\\Users\\jacob\\AppData\\Local\\Temp\\ipykernel_23704\\3285193204.py\", line 64, in sweep_train\n",
      "\u001b[34m\u001b[1mwandb\u001b[0m: \u001b[32m\u001b[41mERROR\u001b[0m     fid = calculate_fid_score(generator, config.z_dim, device, dataloader, epoch)\n",
      "\u001b[34m\u001b[1mwandb\u001b[0m: \u001b[32m\u001b[41mERROR\u001b[0m   File \"C:\\Users\\jacob\\AppData\\Local\\Temp\\ipykernel_23704\\450502378.py\", line 67, in calculate_fid_score\n",
      "\u001b[34m\u001b[1mwandb\u001b[0m: \u001b[32m\u001b[41mERROR\u001b[0m     fid_value = fid_score.calculate_fid_given_paths([real_dir, gen_dir], batch_size=64, device=device, dims=2048)\n",
      "\u001b[34m\u001b[1mwandb\u001b[0m: \u001b[32m\u001b[41mERROR\u001b[0m   File \"c:\\Users\\jacob\\anaconda3\\envs\\mario_env_2\\lib\\site-packages\\pytorch_fid\\fid_score.py\", line 261, in calculate_fid_given_paths\n",
      "\u001b[34m\u001b[1mwandb\u001b[0m: \u001b[32m\u001b[41mERROR\u001b[0m     m2, s2 = compute_statistics_of_path(paths[1], model, batch_size,\n",
      "\u001b[34m\u001b[1mwandb\u001b[0m: \u001b[32m\u001b[41mERROR\u001b[0m   File \"c:\\Users\\jacob\\anaconda3\\envs\\mario_env_2\\lib\\site-packages\\pytorch_fid\\fid_score.py\", line 243, in compute_statistics_of_path\n",
      "\u001b[34m\u001b[1mwandb\u001b[0m: \u001b[32m\u001b[41mERROR\u001b[0m     m, s = calculate_activation_statistics(files, model, batch_size,\n",
      "\u001b[34m\u001b[1mwandb\u001b[0m: \u001b[32m\u001b[41mERROR\u001b[0m   File \"c:\\Users\\jacob\\anaconda3\\envs\\mario_env_2\\lib\\site-packages\\pytorch_fid\\fid_score.py\", line 228, in calculate_activation_statistics\n",
      "\u001b[34m\u001b[1mwandb\u001b[0m: \u001b[32m\u001b[41mERROR\u001b[0m     act = get_activations(files, model, batch_size, dims, device, num_workers)\n",
      "\u001b[34m\u001b[1mwandb\u001b[0m: \u001b[32m\u001b[41mERROR\u001b[0m   File \"c:\\Users\\jacob\\anaconda3\\envs\\mario_env_2\\lib\\site-packages\\pytorch_fid\\fid_score.py\", line 132, in get_activations\n",
      "\u001b[34m\u001b[1mwandb\u001b[0m: \u001b[32m\u001b[41mERROR\u001b[0m     for batch in tqdm(dataloader):\n",
      "\u001b[34m\u001b[1mwandb\u001b[0m: \u001b[32m\u001b[41mERROR\u001b[0m   File \"c:\\Users\\jacob\\anaconda3\\envs\\mario_env_2\\lib\\site-packages\\tqdm\\std.py\", line 1182, in __iter__\n",
      "\u001b[34m\u001b[1mwandb\u001b[0m: \u001b[32m\u001b[41mERROR\u001b[0m     for obj in iterable:\n",
      "\u001b[34m\u001b[1mwandb\u001b[0m: \u001b[32m\u001b[41mERROR\u001b[0m   File \"c:\\Users\\jacob\\anaconda3\\envs\\mario_env_2\\lib\\site-packages\\torch\\utils\\data\\dataloader.py\", line 708, in __next__\n",
      "\u001b[34m\u001b[1mwandb\u001b[0m: \u001b[32m\u001b[41mERROR\u001b[0m     data = self._next_data()\n",
      "\u001b[34m\u001b[1mwandb\u001b[0m: \u001b[32m\u001b[41mERROR\u001b[0m   File \"c:\\Users\\jacob\\anaconda3\\envs\\mario_env_2\\lib\\site-packages\\torch\\utils\\data\\dataloader.py\", line 1480, in _next_data\n",
      "\u001b[34m\u001b[1mwandb\u001b[0m: \u001b[32m\u001b[41mERROR\u001b[0m     return self._process_data(data)\n",
      "\u001b[34m\u001b[1mwandb\u001b[0m: \u001b[32m\u001b[41mERROR\u001b[0m   File \"c:\\Users\\jacob\\anaconda3\\envs\\mario_env_2\\lib\\site-packages\\torch\\utils\\data\\dataloader.py\", line 1505, in _process_data\n",
      "\u001b[34m\u001b[1mwandb\u001b[0m: \u001b[32m\u001b[41mERROR\u001b[0m     data.reraise()\n",
      "\u001b[34m\u001b[1mwandb\u001b[0m: \u001b[32m\u001b[41mERROR\u001b[0m   File \"c:\\Users\\jacob\\anaconda3\\envs\\mario_env_2\\lib\\site-packages\\torch\\_utils.py\", line 733, in reraise\n",
      "\u001b[34m\u001b[1mwandb\u001b[0m: \u001b[32m\u001b[41mERROR\u001b[0m     raise exception\n",
      "\u001b[34m\u001b[1mwandb\u001b[0m: \u001b[32m\u001b[41mERROR\u001b[0m PermissionError: Caught PermissionError in DataLoader worker process 0.\n",
      "\u001b[34m\u001b[1mwandb\u001b[0m: \u001b[32m\u001b[41mERROR\u001b[0m Original Traceback (most recent call last):\n",
      "\u001b[34m\u001b[1mwandb\u001b[0m: \u001b[32m\u001b[41mERROR\u001b[0m   File \"c:\\Users\\jacob\\anaconda3\\envs\\mario_env_2\\lib\\site-packages\\torch\\utils\\data\\_utils\\worker.py\", line 349, in _worker_loop\n",
      "\u001b[34m\u001b[1mwandb\u001b[0m: \u001b[32m\u001b[41mERROR\u001b[0m     data = fetcher.fetch(index)  # type: ignore[possibly-undefined]\n",
      "\u001b[34m\u001b[1mwandb\u001b[0m: \u001b[32m\u001b[41mERROR\u001b[0m   File \"c:\\Users\\jacob\\anaconda3\\envs\\mario_env_2\\lib\\site-packages\\torch\\utils\\data\\_utils\\fetch.py\", line 52, in fetch\n",
      "\u001b[34m\u001b[1mwandb\u001b[0m: \u001b[32m\u001b[41mERROR\u001b[0m     data = [self.dataset[idx] for idx in possibly_batched_index]\n",
      "\u001b[34m\u001b[1mwandb\u001b[0m: \u001b[32m\u001b[41mERROR\u001b[0m   File \"c:\\Users\\jacob\\anaconda3\\envs\\mario_env_2\\lib\\site-packages\\torch\\utils\\data\\_utils\\fetch.py\", line 52, in <listcomp>\n",
      "\u001b[34m\u001b[1mwandb\u001b[0m: \u001b[32m\u001b[41mERROR\u001b[0m     data = [self.dataset[idx] for idx in possibly_batched_index]\n",
      "\u001b[34m\u001b[1mwandb\u001b[0m: \u001b[32m\u001b[41mERROR\u001b[0m   File \"c:\\Users\\jacob\\anaconda3\\envs\\mario_env_2\\lib\\site-packages\\pytorch_fid\\fid_score.py\", line 87, in __getitem__\n",
      "\u001b[34m\u001b[1mwandb\u001b[0m: \u001b[32m\u001b[41mERROR\u001b[0m     img = Image.open(path).convert('RGB')\n",
      "\u001b[34m\u001b[1mwandb\u001b[0m: \u001b[32m\u001b[41mERROR\u001b[0m   File \"c:\\Users\\jacob\\anaconda3\\envs\\mario_env_2\\lib\\site-packages\\PIL\\Image.py\", line 3131, in open\n",
      "\u001b[34m\u001b[1mwandb\u001b[0m: \u001b[32m\u001b[41mERROR\u001b[0m     fp = builtins.open(filename, \"rb\")\n",
      "\u001b[34m\u001b[1mwandb\u001b[0m: \u001b[32m\u001b[41mERROR\u001b[0m PermissionError: [Errno 13] Permission denied: 'C:\\\\Users\\\\jacob\\\\OneDrive\\\\Desktop\\\\cogs_185\\\\final_project\\\\fid_temp\\\\generated\\\\epoch_2\\\\2994.png'\n",
      "\u001b[34m\u001b[1mwandb\u001b[0m: \u001b[32m\u001b[41mERROR\u001b[0m \n",
      "\u001b[34m\u001b[1mwandb\u001b[0m: \u001b[32m\u001b[41mERROR\u001b[0m \n",
      "\u001b[34m\u001b[1mwandb\u001b[0m: Agent Starting Run: hdrv3bb1 with config:\n",
      "\u001b[34m\u001b[1mwandb\u001b[0m: \tbatch_size: 128\n",
      "\u001b[34m\u001b[1mwandb\u001b[0m: \tc_lambda: 10\n",
      "\u001b[34m\u001b[1mwandb\u001b[0m: \tepochs: 10\n",
      "\u001b[34m\u001b[1mwandb\u001b[0m: \thidden_dim: 64\n",
      "\u001b[34m\u001b[1mwandb\u001b[0m: \tlr: 1e-05\n",
      "\u001b[34m\u001b[1mwandb\u001b[0m: \tn_critic: 3\n",
      "\u001b[34m\u001b[1mwandb\u001b[0m: \tz_dim: 128\n"
     ]
    },
    {
     "data": {
      "text/html": [
       "Tracking run with wandb version 0.19.8"
      ],
      "text/plain": [
       "<IPython.core.display.HTML object>"
      ]
     },
     "metadata": {},
     "output_type": "display_data"
    },
    {
     "data": {
      "text/html": [
       "Run data is saved locally in <code>c:\\Users\\jacob\\OneDrive\\Desktop\\cogs_185\\final_project\\wandb\\run-20250611_145937-hdrv3bb1</code>"
      ],
      "text/plain": [
       "<IPython.core.display.HTML object>"
      ]
     },
     "metadata": {},
     "output_type": "display_data"
    },
    {
     "data": {
      "text/html": [
       "Syncing run <strong><a href='https://wandb.ai/jhanshaw-uc-san-diego/gan_spec_drop-sweep_final/runs/hdrv3bb1' target=\"_blank\">sandy-sweep-4</a></strong> to <a href='https://wandb.ai/jhanshaw-uc-san-diego/gan_spec_drop-sweep_final' target=\"_blank\">Weights & Biases</a> (<a href='https://wandb.me/developer-guide' target=\"_blank\">docs</a>)<br>Sweep page: <a href='https://wandb.ai/jhanshaw-uc-san-diego/gan_spec_drop-sweep_final/sweeps/jlyx2hte' target=\"_blank\">https://wandb.ai/jhanshaw-uc-san-diego/gan_spec_drop-sweep_final/sweeps/jlyx2hte</a>"
      ],
      "text/plain": [
       "<IPython.core.display.HTML object>"
      ]
     },
     "metadata": {},
     "output_type": "display_data"
    },
    {
     "data": {
      "text/html": [
       " View project at <a href='https://wandb.ai/jhanshaw-uc-san-diego/gan_spec_drop-sweep_final' target=\"_blank\">https://wandb.ai/jhanshaw-uc-san-diego/gan_spec_drop-sweep_final</a>"
      ],
      "text/plain": [
       "<IPython.core.display.HTML object>"
      ]
     },
     "metadata": {},
     "output_type": "display_data"
    },
    {
     "data": {
      "text/html": [
       " View sweep at <a href='https://wandb.ai/jhanshaw-uc-san-diego/gan_spec_drop-sweep_final/sweeps/jlyx2hte' target=\"_blank\">https://wandb.ai/jhanshaw-uc-san-diego/gan_spec_drop-sweep_final/sweeps/jlyx2hte</a>"
      ],
      "text/plain": [
       "<IPython.core.display.HTML object>"
      ]
     },
     "metadata": {},
     "output_type": "display_data"
    },
    {
     "data": {
      "text/html": [
       " View run at <a href='https://wandb.ai/jhanshaw-uc-san-diego/gan_spec_drop-sweep_final/runs/hdrv3bb1' target=\"_blank\">https://wandb.ai/jhanshaw-uc-san-diego/gan_spec_drop-sweep_final/runs/hdrv3bb1</a>"
      ],
      "text/plain": [
       "<IPython.core.display.HTML object>"
      ]
     },
     "metadata": {},
     "output_type": "display_data"
    },
    {
     "name": "stderr",
     "output_type": "stream",
     "text": [
      "100%|██████████| 79/79 [00:15<00:00,  5.07it/s]\n",
      "100%|██████████| 79/79 [00:41<00:00,  1.90it/s]\n",
      "100%|██████████| 79/79 [00:15<00:00,  5.06it/s]\n",
      "100%|██████████| 79/79 [00:39<00:00,  1.98it/s]\n",
      "100%|██████████| 79/79 [00:15<00:00,  5.15it/s]\n",
      "100%|██████████| 79/79 [00:43<00:00,  1.82it/s]\n",
      "100%|██████████| 79/79 [00:15<00:00,  5.00it/s]\n",
      "100%|██████████| 79/79 [00:40<00:00,  1.95it/s]\n",
      "100%|██████████| 79/79 [00:15<00:00,  5.12it/s]\n",
      "100%|██████████| 79/79 [00:35<00:00,  2.23it/s]\n",
      "100%|██████████| 79/79 [00:15<00:00,  5.11it/s]\n",
      "100%|██████████| 79/79 [00:32<00:00,  2.40it/s]\n",
      "100%|██████████| 79/79 [00:15<00:00,  5.13it/s]\n",
      "100%|██████████| 79/79 [00:39<00:00,  2.01it/s]\n",
      "100%|██████████| 79/79 [00:15<00:00,  5.13it/s]\n",
      "  6%|▋         | 5/79 [00:05<01:19,  1.08s/it]\n",
      "Traceback (most recent call last):\n",
      "  File \"C:\\Users\\jacob\\AppData\\Local\\Temp\\ipykernel_23704\\3285193204.py\", line 64, in sweep_train\n",
      "    fid = calculate_fid_score(generator, config.z_dim, device, dataloader, epoch)\n",
      "  File \"C:\\Users\\jacob\\AppData\\Local\\Temp\\ipykernel_23704\\450502378.py\", line 67, in calculate_fid_score\n",
      "    fid_value = fid_score.calculate_fid_given_paths([real_dir, gen_dir], batch_size=64, device=device, dims=2048)\n",
      "  File \"c:\\Users\\jacob\\anaconda3\\envs\\mario_env_2\\lib\\site-packages\\pytorch_fid\\fid_score.py\", line 261, in calculate_fid_given_paths\n",
      "    m2, s2 = compute_statistics_of_path(paths[1], model, batch_size,\n",
      "  File \"c:\\Users\\jacob\\anaconda3\\envs\\mario_env_2\\lib\\site-packages\\pytorch_fid\\fid_score.py\", line 243, in compute_statistics_of_path\n",
      "    m, s = calculate_activation_statistics(files, model, batch_size,\n",
      "  File \"c:\\Users\\jacob\\anaconda3\\envs\\mario_env_2\\lib\\site-packages\\pytorch_fid\\fid_score.py\", line 228, in calculate_activation_statistics\n",
      "    act = get_activations(files, model, batch_size, dims, device, num_workers)\n",
      "  File \"c:\\Users\\jacob\\anaconda3\\envs\\mario_env_2\\lib\\site-packages\\pytorch_fid\\fid_score.py\", line 132, in get_activations\n",
      "    for batch in tqdm(dataloader):\n",
      "  File \"c:\\Users\\jacob\\anaconda3\\envs\\mario_env_2\\lib\\site-packages\\tqdm\\std.py\", line 1182, in __iter__\n",
      "    for obj in iterable:\n",
      "  File \"c:\\Users\\jacob\\anaconda3\\envs\\mario_env_2\\lib\\site-packages\\torch\\utils\\data\\dataloader.py\", line 708, in __next__\n",
      "    data = self._next_data()\n",
      "  File \"c:\\Users\\jacob\\anaconda3\\envs\\mario_env_2\\lib\\site-packages\\torch\\utils\\data\\dataloader.py\", line 1480, in _next_data\n",
      "    return self._process_data(data)\n",
      "  File \"c:\\Users\\jacob\\anaconda3\\envs\\mario_env_2\\lib\\site-packages\\torch\\utils\\data\\dataloader.py\", line 1505, in _process_data\n",
      "    data.reraise()\n",
      "  File \"c:\\Users\\jacob\\anaconda3\\envs\\mario_env_2\\lib\\site-packages\\torch\\_utils.py\", line 733, in reraise\n",
      "    raise exception\n",
      "PermissionError: Caught PermissionError in DataLoader worker process 0.\n",
      "Original Traceback (most recent call last):\n",
      "  File \"c:\\Users\\jacob\\anaconda3\\envs\\mario_env_2\\lib\\site-packages\\torch\\utils\\data\\_utils\\worker.py\", line 349, in _worker_loop\n",
      "    data = fetcher.fetch(index)  # type: ignore[possibly-undefined]\n",
      "  File \"c:\\Users\\jacob\\anaconda3\\envs\\mario_env_2\\lib\\site-packages\\torch\\utils\\data\\_utils\\fetch.py\", line 52, in fetch\n",
      "    data = [self.dataset[idx] for idx in possibly_batched_index]\n",
      "  File \"c:\\Users\\jacob\\anaconda3\\envs\\mario_env_2\\lib\\site-packages\\torch\\utils\\data\\_utils\\fetch.py\", line 52, in <listcomp>\n",
      "    data = [self.dataset[idx] for idx in possibly_batched_index]\n",
      "  File \"c:\\Users\\jacob\\anaconda3\\envs\\mario_env_2\\lib\\site-packages\\pytorch_fid\\fid_score.py\", line 87, in __getitem__\n",
      "    img = Image.open(path).convert('RGB')\n",
      "  File \"c:\\Users\\jacob\\anaconda3\\envs\\mario_env_2\\lib\\site-packages\\PIL\\Image.py\", line 3131, in open\n",
      "    fp = builtins.open(filename, \"rb\")\n",
      "PermissionError: [Errno 13] Permission denied: 'C:\\\\Users\\\\jacob\\\\OneDrive\\\\Desktop\\\\cogs_185\\\\final_project\\\\fid_temp\\\\generated\\\\epoch_7\\\\1303.png'\n",
      "\n"
     ]
    },
    {
     "data": {
      "text/html": [],
      "text/plain": [
       "<IPython.core.display.HTML object>"
      ]
     },
     "metadata": {},
     "output_type": "display_data"
    },
    {
     "data": {
      "text/html": [
       "<br>    <style><br>        .wandb-row {<br>            display: flex;<br>            flex-direction: row;<br>            flex-wrap: wrap;<br>            justify-content: flex-start;<br>            width: 100%;<br>        }<br>        .wandb-col {<br>            display: flex;<br>            flex-direction: column;<br>            flex-basis: 100%;<br>            flex: 1;<br>            padding: 10px;<br>        }<br>    </style><br><div class=\"wandb-row\"><div class=\"wandb-col\"><h3>Run history:</h3><br/><table class=\"wandb\"><tr><td>FID</td><td>█▇▆▄▄▄▁</td></tr><tr><td>crit_loss</td><td>▂▁▂▇█▆▆</td></tr><tr><td>epoch</td><td>▁▂▃▅▆▇█</td></tr><tr><td>gen_loss</td><td>▅█▃▂▁▃▄</td></tr></table><br/></div><div class=\"wandb-col\"><h3>Run summary:</h3><br/><table class=\"wandb\"><tr><td>FID</td><td>233.13437</td></tr><tr><td>crit_loss</td><td>-0.59934</td></tr><tr><td>epoch</td><td>6</td></tr><tr><td>gen_loss</td><td>-0.18094</td></tr></table><br/></div></div>"
      ],
      "text/plain": [
       "<IPython.core.display.HTML object>"
      ]
     },
     "metadata": {},
     "output_type": "display_data"
    },
    {
     "data": {
      "text/html": [
       " View run <strong style=\"color:#cdcd00\">sandy-sweep-4</strong> at: <a href='https://wandb.ai/jhanshaw-uc-san-diego/gan_spec_drop-sweep_final/runs/hdrv3bb1' target=\"_blank\">https://wandb.ai/jhanshaw-uc-san-diego/gan_spec_drop-sweep_final/runs/hdrv3bb1</a><br> View project at: <a href='https://wandb.ai/jhanshaw-uc-san-diego/gan_spec_drop-sweep_final' target=\"_blank\">https://wandb.ai/jhanshaw-uc-san-diego/gan_spec_drop-sweep_final</a><br>Synced 5 W&B file(s), 0 media file(s), 0 artifact file(s) and 0 other file(s)"
      ],
      "text/plain": [
       "<IPython.core.display.HTML object>"
      ]
     },
     "metadata": {},
     "output_type": "display_data"
    },
    {
     "data": {
      "text/html": [
       "Find logs at: <code>.\\wandb\\run-20250611_145937-hdrv3bb1\\logs</code>"
      ],
      "text/plain": [
       "<IPython.core.display.HTML object>"
      ]
     },
     "metadata": {},
     "output_type": "display_data"
    },
    {
     "name": "stderr",
     "output_type": "stream",
     "text": [
      "Run hdrv3bb1 errored:\n",
      "Traceback (most recent call last):\n",
      "  File \"c:\\Users\\jacob\\anaconda3\\envs\\mario_env_2\\lib\\site-packages\\wandb\\agents\\pyagent.py\", line 306, in _run_job\n",
      "    self._function()\n",
      "  File \"C:\\Users\\jacob\\AppData\\Local\\Temp\\ipykernel_23704\\3285193204.py\", line 64, in sweep_train\n",
      "    fid = calculate_fid_score(generator, config.z_dim, device, dataloader, epoch)\n",
      "  File \"C:\\Users\\jacob\\AppData\\Local\\Temp\\ipykernel_23704\\450502378.py\", line 67, in calculate_fid_score\n",
      "    fid_value = fid_score.calculate_fid_given_paths([real_dir, gen_dir], batch_size=64, device=device, dims=2048)\n",
      "  File \"c:\\Users\\jacob\\anaconda3\\envs\\mario_env_2\\lib\\site-packages\\pytorch_fid\\fid_score.py\", line 261, in calculate_fid_given_paths\n",
      "    m2, s2 = compute_statistics_of_path(paths[1], model, batch_size,\n",
      "  File \"c:\\Users\\jacob\\anaconda3\\envs\\mario_env_2\\lib\\site-packages\\pytorch_fid\\fid_score.py\", line 243, in compute_statistics_of_path\n",
      "    m, s = calculate_activation_statistics(files, model, batch_size,\n",
      "  File \"c:\\Users\\jacob\\anaconda3\\envs\\mario_env_2\\lib\\site-packages\\pytorch_fid\\fid_score.py\", line 228, in calculate_activation_statistics\n",
      "    act = get_activations(files, model, batch_size, dims, device, num_workers)\n",
      "  File \"c:\\Users\\jacob\\anaconda3\\envs\\mario_env_2\\lib\\site-packages\\pytorch_fid\\fid_score.py\", line 132, in get_activations\n",
      "    for batch in tqdm(dataloader):\n",
      "  File \"c:\\Users\\jacob\\anaconda3\\envs\\mario_env_2\\lib\\site-packages\\tqdm\\std.py\", line 1182, in __iter__\n",
      "    for obj in iterable:\n",
      "  File \"c:\\Users\\jacob\\anaconda3\\envs\\mario_env_2\\lib\\site-packages\\torch\\utils\\data\\dataloader.py\", line 708, in __next__\n",
      "    data = self._next_data()\n",
      "  File \"c:\\Users\\jacob\\anaconda3\\envs\\mario_env_2\\lib\\site-packages\\torch\\utils\\data\\dataloader.py\", line 1480, in _next_data\n",
      "    return self._process_data(data)\n",
      "  File \"c:\\Users\\jacob\\anaconda3\\envs\\mario_env_2\\lib\\site-packages\\torch\\utils\\data\\dataloader.py\", line 1505, in _process_data\n",
      "    data.reraise()\n",
      "  File \"c:\\Users\\jacob\\anaconda3\\envs\\mario_env_2\\lib\\site-packages\\torch\\_utils.py\", line 733, in reraise\n",
      "    raise exception\n",
      "PermissionError: Caught PermissionError in DataLoader worker process 0.\n",
      "Original Traceback (most recent call last):\n",
      "  File \"c:\\Users\\jacob\\anaconda3\\envs\\mario_env_2\\lib\\site-packages\\torch\\utils\\data\\_utils\\worker.py\", line 349, in _worker_loop\n",
      "    data = fetcher.fetch(index)  # type: ignore[possibly-undefined]\n",
      "  File \"c:\\Users\\jacob\\anaconda3\\envs\\mario_env_2\\lib\\site-packages\\torch\\utils\\data\\_utils\\fetch.py\", line 52, in fetch\n",
      "    data = [self.dataset[idx] for idx in possibly_batched_index]\n",
      "  File \"c:\\Users\\jacob\\anaconda3\\envs\\mario_env_2\\lib\\site-packages\\torch\\utils\\data\\_utils\\fetch.py\", line 52, in <listcomp>\n",
      "    data = [self.dataset[idx] for idx in possibly_batched_index]\n",
      "  File \"c:\\Users\\jacob\\anaconda3\\envs\\mario_env_2\\lib\\site-packages\\pytorch_fid\\fid_score.py\", line 87, in __getitem__\n",
      "    img = Image.open(path).convert('RGB')\n",
      "  File \"c:\\Users\\jacob\\anaconda3\\envs\\mario_env_2\\lib\\site-packages\\PIL\\Image.py\", line 3131, in open\n",
      "    fp = builtins.open(filename, \"rb\")\n",
      "PermissionError: [Errno 13] Permission denied: 'C:\\\\Users\\\\jacob\\\\OneDrive\\\\Desktop\\\\cogs_185\\\\final_project\\\\fid_temp\\\\generated\\\\epoch_7\\\\1303.png'\n",
      "\n",
      "\n",
      "\u001b[34m\u001b[1mwandb\u001b[0m: \u001b[32m\u001b[41mERROR\u001b[0m Run hdrv3bb1 errored:\n",
      "\u001b[34m\u001b[1mwandb\u001b[0m: \u001b[32m\u001b[41mERROR\u001b[0m Traceback (most recent call last):\n",
      "\u001b[34m\u001b[1mwandb\u001b[0m: \u001b[32m\u001b[41mERROR\u001b[0m   File \"c:\\Users\\jacob\\anaconda3\\envs\\mario_env_2\\lib\\site-packages\\wandb\\agents\\pyagent.py\", line 306, in _run_job\n",
      "\u001b[34m\u001b[1mwandb\u001b[0m: \u001b[32m\u001b[41mERROR\u001b[0m     self._function()\n",
      "\u001b[34m\u001b[1mwandb\u001b[0m: \u001b[32m\u001b[41mERROR\u001b[0m   File \"C:\\Users\\jacob\\AppData\\Local\\Temp\\ipykernel_23704\\3285193204.py\", line 64, in sweep_train\n",
      "\u001b[34m\u001b[1mwandb\u001b[0m: \u001b[32m\u001b[41mERROR\u001b[0m     fid = calculate_fid_score(generator, config.z_dim, device, dataloader, epoch)\n",
      "\u001b[34m\u001b[1mwandb\u001b[0m: \u001b[32m\u001b[41mERROR\u001b[0m   File \"C:\\Users\\jacob\\AppData\\Local\\Temp\\ipykernel_23704\\450502378.py\", line 67, in calculate_fid_score\n",
      "\u001b[34m\u001b[1mwandb\u001b[0m: \u001b[32m\u001b[41mERROR\u001b[0m     fid_value = fid_score.calculate_fid_given_paths([real_dir, gen_dir], batch_size=64, device=device, dims=2048)\n",
      "\u001b[34m\u001b[1mwandb\u001b[0m: \u001b[32m\u001b[41mERROR\u001b[0m   File \"c:\\Users\\jacob\\anaconda3\\envs\\mario_env_2\\lib\\site-packages\\pytorch_fid\\fid_score.py\", line 261, in calculate_fid_given_paths\n",
      "\u001b[34m\u001b[1mwandb\u001b[0m: \u001b[32m\u001b[41mERROR\u001b[0m     m2, s2 = compute_statistics_of_path(paths[1], model, batch_size,\n",
      "\u001b[34m\u001b[1mwandb\u001b[0m: \u001b[32m\u001b[41mERROR\u001b[0m   File \"c:\\Users\\jacob\\anaconda3\\envs\\mario_env_2\\lib\\site-packages\\pytorch_fid\\fid_score.py\", line 243, in compute_statistics_of_path\n",
      "\u001b[34m\u001b[1mwandb\u001b[0m: \u001b[32m\u001b[41mERROR\u001b[0m     m, s = calculate_activation_statistics(files, model, batch_size,\n",
      "\u001b[34m\u001b[1mwandb\u001b[0m: \u001b[32m\u001b[41mERROR\u001b[0m   File \"c:\\Users\\jacob\\anaconda3\\envs\\mario_env_2\\lib\\site-packages\\pytorch_fid\\fid_score.py\", line 228, in calculate_activation_statistics\n",
      "\u001b[34m\u001b[1mwandb\u001b[0m: \u001b[32m\u001b[41mERROR\u001b[0m     act = get_activations(files, model, batch_size, dims, device, num_workers)\n",
      "\u001b[34m\u001b[1mwandb\u001b[0m: \u001b[32m\u001b[41mERROR\u001b[0m   File \"c:\\Users\\jacob\\anaconda3\\envs\\mario_env_2\\lib\\site-packages\\pytorch_fid\\fid_score.py\", line 132, in get_activations\n",
      "\u001b[34m\u001b[1mwandb\u001b[0m: \u001b[32m\u001b[41mERROR\u001b[0m     for batch in tqdm(dataloader):\n",
      "\u001b[34m\u001b[1mwandb\u001b[0m: \u001b[32m\u001b[41mERROR\u001b[0m   File \"c:\\Users\\jacob\\anaconda3\\envs\\mario_env_2\\lib\\site-packages\\tqdm\\std.py\", line 1182, in __iter__\n",
      "\u001b[34m\u001b[1mwandb\u001b[0m: \u001b[32m\u001b[41mERROR\u001b[0m     for obj in iterable:\n",
      "\u001b[34m\u001b[1mwandb\u001b[0m: \u001b[32m\u001b[41mERROR\u001b[0m   File \"c:\\Users\\jacob\\anaconda3\\envs\\mario_env_2\\lib\\site-packages\\torch\\utils\\data\\dataloader.py\", line 708, in __next__\n",
      "\u001b[34m\u001b[1mwandb\u001b[0m: \u001b[32m\u001b[41mERROR\u001b[0m     data = self._next_data()\n",
      "\u001b[34m\u001b[1mwandb\u001b[0m: \u001b[32m\u001b[41mERROR\u001b[0m   File \"c:\\Users\\jacob\\anaconda3\\envs\\mario_env_2\\lib\\site-packages\\torch\\utils\\data\\dataloader.py\", line 1480, in _next_data\n",
      "\u001b[34m\u001b[1mwandb\u001b[0m: \u001b[32m\u001b[41mERROR\u001b[0m     return self._process_data(data)\n",
      "\u001b[34m\u001b[1mwandb\u001b[0m: \u001b[32m\u001b[41mERROR\u001b[0m   File \"c:\\Users\\jacob\\anaconda3\\envs\\mario_env_2\\lib\\site-packages\\torch\\utils\\data\\dataloader.py\", line 1505, in _process_data\n",
      "\u001b[34m\u001b[1mwandb\u001b[0m: \u001b[32m\u001b[41mERROR\u001b[0m     data.reraise()\n",
      "\u001b[34m\u001b[1mwandb\u001b[0m: \u001b[32m\u001b[41mERROR\u001b[0m   File \"c:\\Users\\jacob\\anaconda3\\envs\\mario_env_2\\lib\\site-packages\\torch\\_utils.py\", line 733, in reraise\n",
      "\u001b[34m\u001b[1mwandb\u001b[0m: \u001b[32m\u001b[41mERROR\u001b[0m     raise exception\n",
      "\u001b[34m\u001b[1mwandb\u001b[0m: \u001b[32m\u001b[41mERROR\u001b[0m PermissionError: Caught PermissionError in DataLoader worker process 0.\n",
      "\u001b[34m\u001b[1mwandb\u001b[0m: \u001b[32m\u001b[41mERROR\u001b[0m Original Traceback (most recent call last):\n",
      "\u001b[34m\u001b[1mwandb\u001b[0m: \u001b[32m\u001b[41mERROR\u001b[0m   File \"c:\\Users\\jacob\\anaconda3\\envs\\mario_env_2\\lib\\site-packages\\torch\\utils\\data\\_utils\\worker.py\", line 349, in _worker_loop\n",
      "\u001b[34m\u001b[1mwandb\u001b[0m: \u001b[32m\u001b[41mERROR\u001b[0m     data = fetcher.fetch(index)  # type: ignore[possibly-undefined]\n",
      "\u001b[34m\u001b[1mwandb\u001b[0m: \u001b[32m\u001b[41mERROR\u001b[0m   File \"c:\\Users\\jacob\\anaconda3\\envs\\mario_env_2\\lib\\site-packages\\torch\\utils\\data\\_utils\\fetch.py\", line 52, in fetch\n",
      "\u001b[34m\u001b[1mwandb\u001b[0m: \u001b[32m\u001b[41mERROR\u001b[0m     data = [self.dataset[idx] for idx in possibly_batched_index]\n",
      "\u001b[34m\u001b[1mwandb\u001b[0m: \u001b[32m\u001b[41mERROR\u001b[0m   File \"c:\\Users\\jacob\\anaconda3\\envs\\mario_env_2\\lib\\site-packages\\torch\\utils\\data\\_utils\\fetch.py\", line 52, in <listcomp>\n",
      "\u001b[34m\u001b[1mwandb\u001b[0m: \u001b[32m\u001b[41mERROR\u001b[0m     data = [self.dataset[idx] for idx in possibly_batched_index]\n",
      "\u001b[34m\u001b[1mwandb\u001b[0m: \u001b[32m\u001b[41mERROR\u001b[0m   File \"c:\\Users\\jacob\\anaconda3\\envs\\mario_env_2\\lib\\site-packages\\pytorch_fid\\fid_score.py\", line 87, in __getitem__\n",
      "\u001b[34m\u001b[1mwandb\u001b[0m: \u001b[32m\u001b[41mERROR\u001b[0m     img = Image.open(path).convert('RGB')\n",
      "\u001b[34m\u001b[1mwandb\u001b[0m: \u001b[32m\u001b[41mERROR\u001b[0m   File \"c:\\Users\\jacob\\anaconda3\\envs\\mario_env_2\\lib\\site-packages\\PIL\\Image.py\", line 3131, in open\n",
      "\u001b[34m\u001b[1mwandb\u001b[0m: \u001b[32m\u001b[41mERROR\u001b[0m     fp = builtins.open(filename, \"rb\")\n",
      "\u001b[34m\u001b[1mwandb\u001b[0m: \u001b[32m\u001b[41mERROR\u001b[0m PermissionError: [Errno 13] Permission denied: 'C:\\\\Users\\\\jacob\\\\OneDrive\\\\Desktop\\\\cogs_185\\\\final_project\\\\fid_temp\\\\generated\\\\epoch_7\\\\1303.png'\n",
      "\u001b[34m\u001b[1mwandb\u001b[0m: \u001b[32m\u001b[41mERROR\u001b[0m \n",
      "\u001b[34m\u001b[1mwandb\u001b[0m: \u001b[32m\u001b[41mERROR\u001b[0m \n",
      "\u001b[34m\u001b[1mwandb\u001b[0m: Agent Starting Run: hu9tl69f with config:\n",
      "\u001b[34m\u001b[1mwandb\u001b[0m: \tbatch_size: 64\n",
      "\u001b[34m\u001b[1mwandb\u001b[0m: \tc_lambda: 5\n",
      "\u001b[34m\u001b[1mwandb\u001b[0m: \tepochs: 10\n",
      "\u001b[34m\u001b[1mwandb\u001b[0m: \thidden_dim: 256\n",
      "\u001b[34m\u001b[1mwandb\u001b[0m: \tlr: 1e-05\n",
      "\u001b[34m\u001b[1mwandb\u001b[0m: \tn_critic: 3\n",
      "\u001b[34m\u001b[1mwandb\u001b[0m: \tz_dim: 100\n"
     ]
    },
    {
     "data": {
      "text/html": [
       "Tracking run with wandb version 0.19.8"
      ],
      "text/plain": [
       "<IPython.core.display.HTML object>"
      ]
     },
     "metadata": {},
     "output_type": "display_data"
    },
    {
     "data": {
      "text/html": [
       "Run data is saved locally in <code>c:\\Users\\jacob\\OneDrive\\Desktop\\cogs_185\\final_project\\wandb\\run-20250611_151429-hu9tl69f</code>"
      ],
      "text/plain": [
       "<IPython.core.display.HTML object>"
      ]
     },
     "metadata": {},
     "output_type": "display_data"
    },
    {
     "data": {
      "text/html": [
       "Syncing run <strong><a href='https://wandb.ai/jhanshaw-uc-san-diego/gan_spec_drop-sweep_final/runs/hu9tl69f' target=\"_blank\">helpful-sweep-5</a></strong> to <a href='https://wandb.ai/jhanshaw-uc-san-diego/gan_spec_drop-sweep_final' target=\"_blank\">Weights & Biases</a> (<a href='https://wandb.me/developer-guide' target=\"_blank\">docs</a>)<br>Sweep page: <a href='https://wandb.ai/jhanshaw-uc-san-diego/gan_spec_drop-sweep_final/sweeps/jlyx2hte' target=\"_blank\">https://wandb.ai/jhanshaw-uc-san-diego/gan_spec_drop-sweep_final/sweeps/jlyx2hte</a>"
      ],
      "text/plain": [
       "<IPython.core.display.HTML object>"
      ]
     },
     "metadata": {},
     "output_type": "display_data"
    },
    {
     "data": {
      "text/html": [
       " View project at <a href='https://wandb.ai/jhanshaw-uc-san-diego/gan_spec_drop-sweep_final' target=\"_blank\">https://wandb.ai/jhanshaw-uc-san-diego/gan_spec_drop-sweep_final</a>"
      ],
      "text/plain": [
       "<IPython.core.display.HTML object>"
      ]
     },
     "metadata": {},
     "output_type": "display_data"
    },
    {
     "data": {
      "text/html": [
       " View sweep at <a href='https://wandb.ai/jhanshaw-uc-san-diego/gan_spec_drop-sweep_final/sweeps/jlyx2hte' target=\"_blank\">https://wandb.ai/jhanshaw-uc-san-diego/gan_spec_drop-sweep_final/sweeps/jlyx2hte</a>"
      ],
      "text/plain": [
       "<IPython.core.display.HTML object>"
      ]
     },
     "metadata": {},
     "output_type": "display_data"
    },
    {
     "data": {
      "text/html": [
       " View run at <a href='https://wandb.ai/jhanshaw-uc-san-diego/gan_spec_drop-sweep_final/runs/hu9tl69f' target=\"_blank\">https://wandb.ai/jhanshaw-uc-san-diego/gan_spec_drop-sweep_final/runs/hu9tl69f</a>"
      ],
      "text/plain": [
       "<IPython.core.display.HTML object>"
      ]
     },
     "metadata": {},
     "output_type": "display_data"
    },
    {
     "name": "stderr",
     "output_type": "stream",
     "text": [
      "100%|██████████| 79/79 [00:15<00:00,  5.01it/s]\n",
      "100%|██████████| 79/79 [00:37<00:00,  2.09it/s]\n",
      "100%|██████████| 79/79 [00:15<00:00,  5.19it/s]\n",
      "100%|██████████| 79/79 [00:39<00:00,  2.02it/s]\n",
      "100%|██████████| 79/79 [00:15<00:00,  5.11it/s]\n",
      "100%|██████████| 79/79 [00:35<00:00,  2.25it/s]\n",
      "100%|██████████| 79/79 [00:15<00:00,  5.14it/s]\n",
      "100%|██████████| 79/79 [00:40<00:00,  1.97it/s]\n",
      "100%|██████████| 79/79 [00:15<00:00,  5.06it/s]\n",
      "100%|██████████| 79/79 [00:38<00:00,  2.06it/s]\n",
      "100%|██████████| 79/79 [00:15<00:00,  5.09it/s]\n",
      "100%|██████████| 79/79 [00:36<00:00,  2.15it/s]\n",
      "100%|██████████| 79/79 [00:15<00:00,  5.15it/s]\n",
      "100%|██████████| 79/79 [00:41<00:00,  1.91it/s]\n",
      "100%|██████████| 79/79 [00:15<00:00,  5.07it/s]\n",
      "100%|██████████| 79/79 [00:35<00:00,  2.20it/s]\n",
      "100%|██████████| 79/79 [00:15<00:00,  5.06it/s]\n",
      "100%|██████████| 79/79 [00:40<00:00,  1.93it/s]\n",
      "100%|██████████| 79/79 [00:15<00:00,  4.96it/s]\n",
      "100%|██████████| 79/79 [00:43<00:00,  1.84it/s]\n"
     ]
    },
    {
     "name": "stdout",
     "output_type": "stream",
     "text": [
      "Final FID: 278.41\n"
     ]
    },
    {
     "data": {
      "text/html": [],
      "text/plain": [
       "<IPython.core.display.HTML object>"
      ]
     },
     "metadata": {},
     "output_type": "display_data"
    },
    {
     "data": {
      "text/html": [
       "<br>    <style><br>        .wandb-row {<br>            display: flex;<br>            flex-direction: row;<br>            flex-wrap: wrap;<br>            justify-content: flex-start;<br>            width: 100%;<br>        }<br>        .wandb-col {<br>            display: flex;<br>            flex-direction: column;<br>            flex-basis: 100%;<br>            flex: 1;<br>            padding: 10px;<br>        }<br>    </style><br><div class=\"wandb-row\"><div class=\"wandb-col\"><h3>Run history:</h3><br/><table class=\"wandb\"><tr><td>FID</td><td>█▅▅▁▅▄▅▂▂▃</td></tr><tr><td>crit_loss</td><td>▁▇██▇▇▇█▇▇</td></tr><tr><td>epoch</td><td>▁▂▃▃▄▅▆▆▇█</td></tr><tr><td>gen_loss</td><td>█▅▄▅▄▅▃▂▁▁</td></tr></table><br/></div><div class=\"wandb-col\"><h3>Run summary:</h3><br/><table class=\"wandb\"><tr><td>FID</td><td>278.4083</td></tr><tr><td>crit_loss</td><td>-0.52884</td></tr><tr><td>epoch</td><td>9</td></tr><tr><td>gen_loss</td><td>-4.55023</td></tr></table><br/></div></div>"
      ],
      "text/plain": [
       "<IPython.core.display.HTML object>"
      ]
     },
     "metadata": {},
     "output_type": "display_data"
    },
    {
     "data": {
      "text/html": [
       " View run <strong style=\"color:#cdcd00\">helpful-sweep-5</strong> at: <a href='https://wandb.ai/jhanshaw-uc-san-diego/gan_spec_drop-sweep_final/runs/hu9tl69f' target=\"_blank\">https://wandb.ai/jhanshaw-uc-san-diego/gan_spec_drop-sweep_final/runs/hu9tl69f</a><br> View project at: <a href='https://wandb.ai/jhanshaw-uc-san-diego/gan_spec_drop-sweep_final' target=\"_blank\">https://wandb.ai/jhanshaw-uc-san-diego/gan_spec_drop-sweep_final</a><br>Synced 5 W&B file(s), 0 media file(s), 0 artifact file(s) and 0 other file(s)"
      ],
      "text/plain": [
       "<IPython.core.display.HTML object>"
      ]
     },
     "metadata": {},
     "output_type": "display_data"
    },
    {
     "data": {
      "text/html": [
       "Find logs at: <code>.\\wandb\\run-20250611_151429-hu9tl69f\\logs</code>"
      ],
      "text/plain": [
       "<IPython.core.display.HTML object>"
      ]
     },
     "metadata": {},
     "output_type": "display_data"
    },
    {
     "name": "stderr",
     "output_type": "stream",
     "text": [
      "\u001b[34m\u001b[1mwandb\u001b[0m: Agent Starting Run: 4cb2gb6a with config:\n",
      "\u001b[34m\u001b[1mwandb\u001b[0m: \tbatch_size: 256\n",
      "\u001b[34m\u001b[1mwandb\u001b[0m: \tc_lambda: 10\n",
      "\u001b[34m\u001b[1mwandb\u001b[0m: \tepochs: 10\n",
      "\u001b[34m\u001b[1mwandb\u001b[0m: \thidden_dim: 64\n",
      "\u001b[34m\u001b[1mwandb\u001b[0m: \tlr: 0.0001\n",
      "\u001b[34m\u001b[1mwandb\u001b[0m: \tn_critic: 5\n",
      "\u001b[34m\u001b[1mwandb\u001b[0m: \tz_dim: 100\n"
     ]
    },
    {
     "data": {
      "text/html": [
       "Tracking run with wandb version 0.19.8"
      ],
      "text/plain": [
       "<IPython.core.display.HTML object>"
      ]
     },
     "metadata": {},
     "output_type": "display_data"
    },
    {
     "data": {
      "text/html": [
       "Run data is saved locally in <code>c:\\Users\\jacob\\OneDrive\\Desktop\\cogs_185\\final_project\\wandb\\run-20250611_155240-4cb2gb6a</code>"
      ],
      "text/plain": [
       "<IPython.core.display.HTML object>"
      ]
     },
     "metadata": {},
     "output_type": "display_data"
    },
    {
     "data": {
      "text/html": [
       "Syncing run <strong><a href='https://wandb.ai/jhanshaw-uc-san-diego/gan_spec_drop-sweep_final/runs/4cb2gb6a' target=\"_blank\">kind-sweep-6</a></strong> to <a href='https://wandb.ai/jhanshaw-uc-san-diego/gan_spec_drop-sweep_final' target=\"_blank\">Weights & Biases</a> (<a href='https://wandb.me/developer-guide' target=\"_blank\">docs</a>)<br>Sweep page: <a href='https://wandb.ai/jhanshaw-uc-san-diego/gan_spec_drop-sweep_final/sweeps/jlyx2hte' target=\"_blank\">https://wandb.ai/jhanshaw-uc-san-diego/gan_spec_drop-sweep_final/sweeps/jlyx2hte</a>"
      ],
      "text/plain": [
       "<IPython.core.display.HTML object>"
      ]
     },
     "metadata": {},
     "output_type": "display_data"
    },
    {
     "data": {
      "text/html": [
       " View project at <a href='https://wandb.ai/jhanshaw-uc-san-diego/gan_spec_drop-sweep_final' target=\"_blank\">https://wandb.ai/jhanshaw-uc-san-diego/gan_spec_drop-sweep_final</a>"
      ],
      "text/plain": [
       "<IPython.core.display.HTML object>"
      ]
     },
     "metadata": {},
     "output_type": "display_data"
    },
    {
     "data": {
      "text/html": [
       " View sweep at <a href='https://wandb.ai/jhanshaw-uc-san-diego/gan_spec_drop-sweep_final/sweeps/jlyx2hte' target=\"_blank\">https://wandb.ai/jhanshaw-uc-san-diego/gan_spec_drop-sweep_final/sweeps/jlyx2hte</a>"
      ],
      "text/plain": [
       "<IPython.core.display.HTML object>"
      ]
     },
     "metadata": {},
     "output_type": "display_data"
    },
    {
     "data": {
      "text/html": [
       " View run at <a href='https://wandb.ai/jhanshaw-uc-san-diego/gan_spec_drop-sweep_final/runs/4cb2gb6a' target=\"_blank\">https://wandb.ai/jhanshaw-uc-san-diego/gan_spec_drop-sweep_final/runs/4cb2gb6a</a>"
      ],
      "text/plain": [
       "<IPython.core.display.HTML object>"
      ]
     },
     "metadata": {},
     "output_type": "display_data"
    },
    {
     "name": "stderr",
     "output_type": "stream",
     "text": [
      "100%|██████████| 79/79 [00:16<00:00,  4.83it/s]\n",
      "100%|██████████| 79/79 [00:48<00:00,  1.64it/s]\n",
      "100%|██████████| 79/79 [00:15<00:00,  5.05it/s]\n",
      "100%|██████████| 79/79 [00:34<00:00,  2.31it/s]\n",
      "100%|██████████| 79/79 [00:15<00:00,  5.16it/s]\n",
      "100%|██████████| 79/79 [00:41<00:00,  1.91it/s]\n",
      "100%|██████████| 79/79 [00:15<00:00,  5.16it/s]\n",
      "  4%|▍         | 3/79 [00:06<02:43,  2.15s/it]\n",
      "Traceback (most recent call last):\n",
      "  File \"C:\\Users\\jacob\\AppData\\Local\\Temp\\ipykernel_23704\\3285193204.py\", line 64, in sweep_train\n",
      "    fid = calculate_fid_score(generator, config.z_dim, device, dataloader, epoch)\n",
      "  File \"C:\\Users\\jacob\\AppData\\Local\\Temp\\ipykernel_23704\\450502378.py\", line 67, in calculate_fid_score\n",
      "    fid_value = fid_score.calculate_fid_given_paths([real_dir, gen_dir], batch_size=64, device=device, dims=2048)\n",
      "  File \"c:\\Users\\jacob\\anaconda3\\envs\\mario_env_2\\lib\\site-packages\\pytorch_fid\\fid_score.py\", line 261, in calculate_fid_given_paths\n",
      "    m2, s2 = compute_statistics_of_path(paths[1], model, batch_size,\n",
      "  File \"c:\\Users\\jacob\\anaconda3\\envs\\mario_env_2\\lib\\site-packages\\pytorch_fid\\fid_score.py\", line 243, in compute_statistics_of_path\n",
      "    m, s = calculate_activation_statistics(files, model, batch_size,\n",
      "  File \"c:\\Users\\jacob\\anaconda3\\envs\\mario_env_2\\lib\\site-packages\\pytorch_fid\\fid_score.py\", line 228, in calculate_activation_statistics\n",
      "    act = get_activations(files, model, batch_size, dims, device, num_workers)\n",
      "  File \"c:\\Users\\jacob\\anaconda3\\envs\\mario_env_2\\lib\\site-packages\\pytorch_fid\\fid_score.py\", line 132, in get_activations\n",
      "    for batch in tqdm(dataloader):\n",
      "  File \"c:\\Users\\jacob\\anaconda3\\envs\\mario_env_2\\lib\\site-packages\\tqdm\\std.py\", line 1182, in __iter__\n",
      "    for obj in iterable:\n",
      "  File \"c:\\Users\\jacob\\anaconda3\\envs\\mario_env_2\\lib\\site-packages\\torch\\utils\\data\\dataloader.py\", line 708, in __next__\n",
      "    data = self._next_data()\n",
      "  File \"c:\\Users\\jacob\\anaconda3\\envs\\mario_env_2\\lib\\site-packages\\torch\\utils\\data\\dataloader.py\", line 1480, in _next_data\n",
      "    return self._process_data(data)\n",
      "  File \"c:\\Users\\jacob\\anaconda3\\envs\\mario_env_2\\lib\\site-packages\\torch\\utils\\data\\dataloader.py\", line 1505, in _process_data\n",
      "    data.reraise()\n",
      "  File \"c:\\Users\\jacob\\anaconda3\\envs\\mario_env_2\\lib\\site-packages\\torch\\_utils.py\", line 733, in reraise\n",
      "    raise exception\n",
      "PermissionError: Caught PermissionError in DataLoader worker process 0.\n",
      "Original Traceback (most recent call last):\n",
      "  File \"c:\\Users\\jacob\\anaconda3\\envs\\mario_env_2\\lib\\site-packages\\torch\\utils\\data\\_utils\\worker.py\", line 349, in _worker_loop\n",
      "    data = fetcher.fetch(index)  # type: ignore[possibly-undefined]\n",
      "  File \"c:\\Users\\jacob\\anaconda3\\envs\\mario_env_2\\lib\\site-packages\\torch\\utils\\data\\_utils\\fetch.py\", line 52, in fetch\n",
      "    data = [self.dataset[idx] for idx in possibly_batched_index]\n",
      "  File \"c:\\Users\\jacob\\anaconda3\\envs\\mario_env_2\\lib\\site-packages\\torch\\utils\\data\\_utils\\fetch.py\", line 52, in <listcomp>\n",
      "    data = [self.dataset[idx] for idx in possibly_batched_index]\n",
      "  File \"c:\\Users\\jacob\\anaconda3\\envs\\mario_env_2\\lib\\site-packages\\pytorch_fid\\fid_score.py\", line 87, in __getitem__\n",
      "    img = Image.open(path).convert('RGB')\n",
      "  File \"c:\\Users\\jacob\\anaconda3\\envs\\mario_env_2\\lib\\site-packages\\PIL\\Image.py\", line 3131, in open\n",
      "    fp = builtins.open(filename, \"rb\")\n",
      "PermissionError: [Errno 13] Permission denied: 'C:\\\\Users\\\\jacob\\\\OneDrive\\\\Desktop\\\\cogs_185\\\\final_project\\\\fid_temp\\\\generated\\\\epoch_3\\\\1212.png'\n",
      "\n"
     ]
    },
    {
     "data": {
      "text/html": [],
      "text/plain": [
       "<IPython.core.display.HTML object>"
      ]
     },
     "metadata": {},
     "output_type": "display_data"
    },
    {
     "data": {
      "text/html": [
       "<br>    <style><br>        .wandb-row {<br>            display: flex;<br>            flex-direction: row;<br>            flex-wrap: wrap;<br>            justify-content: flex-start;<br>            width: 100%;<br>        }<br>        .wandb-col {<br>            display: flex;<br>            flex-direction: column;<br>            flex-basis: 100%;<br>            flex: 1;<br>            padding: 10px;<br>        }<br>    </style><br><div class=\"wandb-row\"><div class=\"wandb-col\"><h3>Run history:</h3><br/><table class=\"wandb\"><tr><td>FID</td><td>█▅▁</td></tr><tr><td>crit_loss</td><td>▁█▇</td></tr><tr><td>epoch</td><td>▁▅█</td></tr><tr><td>gen_loss</td><td>█▄▁</td></tr></table><br/></div><div class=\"wandb-col\"><h3>Run summary:</h3><br/><table class=\"wandb\"><tr><td>FID</td><td>239.24552</td></tr><tr><td>crit_loss</td><td>-0.66478</td></tr><tr><td>epoch</td><td>2</td></tr><tr><td>gen_loss</td><td>-3.59307</td></tr></table><br/></div></div>"
      ],
      "text/plain": [
       "<IPython.core.display.HTML object>"
      ]
     },
     "metadata": {},
     "output_type": "display_data"
    },
    {
     "data": {
      "text/html": [
       " View run <strong style=\"color:#cdcd00\">kind-sweep-6</strong> at: <a href='https://wandb.ai/jhanshaw-uc-san-diego/gan_spec_drop-sweep_final/runs/4cb2gb6a' target=\"_blank\">https://wandb.ai/jhanshaw-uc-san-diego/gan_spec_drop-sweep_final/runs/4cb2gb6a</a><br> View project at: <a href='https://wandb.ai/jhanshaw-uc-san-diego/gan_spec_drop-sweep_final' target=\"_blank\">https://wandb.ai/jhanshaw-uc-san-diego/gan_spec_drop-sweep_final</a><br>Synced 5 W&B file(s), 0 media file(s), 0 artifact file(s) and 0 other file(s)"
      ],
      "text/plain": [
       "<IPython.core.display.HTML object>"
      ]
     },
     "metadata": {},
     "output_type": "display_data"
    },
    {
     "data": {
      "text/html": [
       "Find logs at: <code>.\\wandb\\run-20250611_155240-4cb2gb6a\\logs</code>"
      ],
      "text/plain": [
       "<IPython.core.display.HTML object>"
      ]
     },
     "metadata": {},
     "output_type": "display_data"
    },
    {
     "name": "stderr",
     "output_type": "stream",
     "text": [
      "Run 4cb2gb6a errored:\n",
      "Traceback (most recent call last):\n",
      "  File \"c:\\Users\\jacob\\anaconda3\\envs\\mario_env_2\\lib\\site-packages\\wandb\\agents\\pyagent.py\", line 306, in _run_job\n",
      "    self._function()\n",
      "  File \"C:\\Users\\jacob\\AppData\\Local\\Temp\\ipykernel_23704\\3285193204.py\", line 64, in sweep_train\n",
      "    fid = calculate_fid_score(generator, config.z_dim, device, dataloader, epoch)\n",
      "  File \"C:\\Users\\jacob\\AppData\\Local\\Temp\\ipykernel_23704\\450502378.py\", line 67, in calculate_fid_score\n",
      "    fid_value = fid_score.calculate_fid_given_paths([real_dir, gen_dir], batch_size=64, device=device, dims=2048)\n",
      "  File \"c:\\Users\\jacob\\anaconda3\\envs\\mario_env_2\\lib\\site-packages\\pytorch_fid\\fid_score.py\", line 261, in calculate_fid_given_paths\n",
      "    m2, s2 = compute_statistics_of_path(paths[1], model, batch_size,\n",
      "  File \"c:\\Users\\jacob\\anaconda3\\envs\\mario_env_2\\lib\\site-packages\\pytorch_fid\\fid_score.py\", line 243, in compute_statistics_of_path\n",
      "    m, s = calculate_activation_statistics(files, model, batch_size,\n",
      "  File \"c:\\Users\\jacob\\anaconda3\\envs\\mario_env_2\\lib\\site-packages\\pytorch_fid\\fid_score.py\", line 228, in calculate_activation_statistics\n",
      "    act = get_activations(files, model, batch_size, dims, device, num_workers)\n",
      "  File \"c:\\Users\\jacob\\anaconda3\\envs\\mario_env_2\\lib\\site-packages\\pytorch_fid\\fid_score.py\", line 132, in get_activations\n",
      "    for batch in tqdm(dataloader):\n",
      "  File \"c:\\Users\\jacob\\anaconda3\\envs\\mario_env_2\\lib\\site-packages\\tqdm\\std.py\", line 1182, in __iter__\n",
      "    for obj in iterable:\n",
      "  File \"c:\\Users\\jacob\\anaconda3\\envs\\mario_env_2\\lib\\site-packages\\torch\\utils\\data\\dataloader.py\", line 708, in __next__\n",
      "    data = self._next_data()\n",
      "  File \"c:\\Users\\jacob\\anaconda3\\envs\\mario_env_2\\lib\\site-packages\\torch\\utils\\data\\dataloader.py\", line 1480, in _next_data\n",
      "    return self._process_data(data)\n",
      "  File \"c:\\Users\\jacob\\anaconda3\\envs\\mario_env_2\\lib\\site-packages\\torch\\utils\\data\\dataloader.py\", line 1505, in _process_data\n",
      "    data.reraise()\n",
      "  File \"c:\\Users\\jacob\\anaconda3\\envs\\mario_env_2\\lib\\site-packages\\torch\\_utils.py\", line 733, in reraise\n",
      "    raise exception\n",
      "PermissionError: Caught PermissionError in DataLoader worker process 0.\n",
      "Original Traceback (most recent call last):\n",
      "  File \"c:\\Users\\jacob\\anaconda3\\envs\\mario_env_2\\lib\\site-packages\\torch\\utils\\data\\_utils\\worker.py\", line 349, in _worker_loop\n",
      "    data = fetcher.fetch(index)  # type: ignore[possibly-undefined]\n",
      "  File \"c:\\Users\\jacob\\anaconda3\\envs\\mario_env_2\\lib\\site-packages\\torch\\utils\\data\\_utils\\fetch.py\", line 52, in fetch\n",
      "    data = [self.dataset[idx] for idx in possibly_batched_index]\n",
      "  File \"c:\\Users\\jacob\\anaconda3\\envs\\mario_env_2\\lib\\site-packages\\torch\\utils\\data\\_utils\\fetch.py\", line 52, in <listcomp>\n",
      "    data = [self.dataset[idx] for idx in possibly_batched_index]\n",
      "  File \"c:\\Users\\jacob\\anaconda3\\envs\\mario_env_2\\lib\\site-packages\\pytorch_fid\\fid_score.py\", line 87, in __getitem__\n",
      "    img = Image.open(path).convert('RGB')\n",
      "  File \"c:\\Users\\jacob\\anaconda3\\envs\\mario_env_2\\lib\\site-packages\\PIL\\Image.py\", line 3131, in open\n",
      "    fp = builtins.open(filename, \"rb\")\n",
      "PermissionError: [Errno 13] Permission denied: 'C:\\\\Users\\\\jacob\\\\OneDrive\\\\Desktop\\\\cogs_185\\\\final_project\\\\fid_temp\\\\generated\\\\epoch_3\\\\1212.png'\n",
      "\n",
      "\n",
      "\u001b[34m\u001b[1mwandb\u001b[0m: \u001b[32m\u001b[41mERROR\u001b[0m Run 4cb2gb6a errored:\n",
      "\u001b[34m\u001b[1mwandb\u001b[0m: \u001b[32m\u001b[41mERROR\u001b[0m Traceback (most recent call last):\n",
      "\u001b[34m\u001b[1mwandb\u001b[0m: \u001b[32m\u001b[41mERROR\u001b[0m   File \"c:\\Users\\jacob\\anaconda3\\envs\\mario_env_2\\lib\\site-packages\\wandb\\agents\\pyagent.py\", line 306, in _run_job\n",
      "\u001b[34m\u001b[1mwandb\u001b[0m: \u001b[32m\u001b[41mERROR\u001b[0m     self._function()\n",
      "\u001b[34m\u001b[1mwandb\u001b[0m: \u001b[32m\u001b[41mERROR\u001b[0m   File \"C:\\Users\\jacob\\AppData\\Local\\Temp\\ipykernel_23704\\3285193204.py\", line 64, in sweep_train\n",
      "\u001b[34m\u001b[1mwandb\u001b[0m: \u001b[32m\u001b[41mERROR\u001b[0m     fid = calculate_fid_score(generator, config.z_dim, device, dataloader, epoch)\n",
      "\u001b[34m\u001b[1mwandb\u001b[0m: \u001b[32m\u001b[41mERROR\u001b[0m   File \"C:\\Users\\jacob\\AppData\\Local\\Temp\\ipykernel_23704\\450502378.py\", line 67, in calculate_fid_score\n",
      "\u001b[34m\u001b[1mwandb\u001b[0m: \u001b[32m\u001b[41mERROR\u001b[0m     fid_value = fid_score.calculate_fid_given_paths([real_dir, gen_dir], batch_size=64, device=device, dims=2048)\n",
      "\u001b[34m\u001b[1mwandb\u001b[0m: \u001b[32m\u001b[41mERROR\u001b[0m   File \"c:\\Users\\jacob\\anaconda3\\envs\\mario_env_2\\lib\\site-packages\\pytorch_fid\\fid_score.py\", line 261, in calculate_fid_given_paths\n",
      "\u001b[34m\u001b[1mwandb\u001b[0m: \u001b[32m\u001b[41mERROR\u001b[0m     m2, s2 = compute_statistics_of_path(paths[1], model, batch_size,\n",
      "\u001b[34m\u001b[1mwandb\u001b[0m: \u001b[32m\u001b[41mERROR\u001b[0m   File \"c:\\Users\\jacob\\anaconda3\\envs\\mario_env_2\\lib\\site-packages\\pytorch_fid\\fid_score.py\", line 243, in compute_statistics_of_path\n",
      "\u001b[34m\u001b[1mwandb\u001b[0m: \u001b[32m\u001b[41mERROR\u001b[0m     m, s = calculate_activation_statistics(files, model, batch_size,\n",
      "\u001b[34m\u001b[1mwandb\u001b[0m: \u001b[32m\u001b[41mERROR\u001b[0m   File \"c:\\Users\\jacob\\anaconda3\\envs\\mario_env_2\\lib\\site-packages\\pytorch_fid\\fid_score.py\", line 228, in calculate_activation_statistics\n",
      "\u001b[34m\u001b[1mwandb\u001b[0m: \u001b[32m\u001b[41mERROR\u001b[0m     act = get_activations(files, model, batch_size, dims, device, num_workers)\n",
      "\u001b[34m\u001b[1mwandb\u001b[0m: \u001b[32m\u001b[41mERROR\u001b[0m   File \"c:\\Users\\jacob\\anaconda3\\envs\\mario_env_2\\lib\\site-packages\\pytorch_fid\\fid_score.py\", line 132, in get_activations\n",
      "\u001b[34m\u001b[1mwandb\u001b[0m: \u001b[32m\u001b[41mERROR\u001b[0m     for batch in tqdm(dataloader):\n",
      "\u001b[34m\u001b[1mwandb\u001b[0m: \u001b[32m\u001b[41mERROR\u001b[0m   File \"c:\\Users\\jacob\\anaconda3\\envs\\mario_env_2\\lib\\site-packages\\tqdm\\std.py\", line 1182, in __iter__\n",
      "\u001b[34m\u001b[1mwandb\u001b[0m: \u001b[32m\u001b[41mERROR\u001b[0m     for obj in iterable:\n",
      "\u001b[34m\u001b[1mwandb\u001b[0m: \u001b[32m\u001b[41mERROR\u001b[0m   File \"c:\\Users\\jacob\\anaconda3\\envs\\mario_env_2\\lib\\site-packages\\torch\\utils\\data\\dataloader.py\", line 708, in __next__\n",
      "\u001b[34m\u001b[1mwandb\u001b[0m: \u001b[32m\u001b[41mERROR\u001b[0m     data = self._next_data()\n",
      "\u001b[34m\u001b[1mwandb\u001b[0m: \u001b[32m\u001b[41mERROR\u001b[0m   File \"c:\\Users\\jacob\\anaconda3\\envs\\mario_env_2\\lib\\site-packages\\torch\\utils\\data\\dataloader.py\", line 1480, in _next_data\n",
      "\u001b[34m\u001b[1mwandb\u001b[0m: \u001b[32m\u001b[41mERROR\u001b[0m     return self._process_data(data)\n",
      "\u001b[34m\u001b[1mwandb\u001b[0m: \u001b[32m\u001b[41mERROR\u001b[0m   File \"c:\\Users\\jacob\\anaconda3\\envs\\mario_env_2\\lib\\site-packages\\torch\\utils\\data\\dataloader.py\", line 1505, in _process_data\n",
      "\u001b[34m\u001b[1mwandb\u001b[0m: \u001b[32m\u001b[41mERROR\u001b[0m     data.reraise()\n",
      "\u001b[34m\u001b[1mwandb\u001b[0m: \u001b[32m\u001b[41mERROR\u001b[0m   File \"c:\\Users\\jacob\\anaconda3\\envs\\mario_env_2\\lib\\site-packages\\torch\\_utils.py\", line 733, in reraise\n",
      "\u001b[34m\u001b[1mwandb\u001b[0m: \u001b[32m\u001b[41mERROR\u001b[0m     raise exception\n",
      "\u001b[34m\u001b[1mwandb\u001b[0m: \u001b[32m\u001b[41mERROR\u001b[0m PermissionError: Caught PermissionError in DataLoader worker process 0.\n",
      "\u001b[34m\u001b[1mwandb\u001b[0m: \u001b[32m\u001b[41mERROR\u001b[0m Original Traceback (most recent call last):\n",
      "\u001b[34m\u001b[1mwandb\u001b[0m: \u001b[32m\u001b[41mERROR\u001b[0m   File \"c:\\Users\\jacob\\anaconda3\\envs\\mario_env_2\\lib\\site-packages\\torch\\utils\\data\\_utils\\worker.py\", line 349, in _worker_loop\n",
      "\u001b[34m\u001b[1mwandb\u001b[0m: \u001b[32m\u001b[41mERROR\u001b[0m     data = fetcher.fetch(index)  # type: ignore[possibly-undefined]\n",
      "\u001b[34m\u001b[1mwandb\u001b[0m: \u001b[32m\u001b[41mERROR\u001b[0m   File \"c:\\Users\\jacob\\anaconda3\\envs\\mario_env_2\\lib\\site-packages\\torch\\utils\\data\\_utils\\fetch.py\", line 52, in fetch\n",
      "\u001b[34m\u001b[1mwandb\u001b[0m: \u001b[32m\u001b[41mERROR\u001b[0m     data = [self.dataset[idx] for idx in possibly_batched_index]\n",
      "\u001b[34m\u001b[1mwandb\u001b[0m: \u001b[32m\u001b[41mERROR\u001b[0m   File \"c:\\Users\\jacob\\anaconda3\\envs\\mario_env_2\\lib\\site-packages\\torch\\utils\\data\\_utils\\fetch.py\", line 52, in <listcomp>\n",
      "\u001b[34m\u001b[1mwandb\u001b[0m: \u001b[32m\u001b[41mERROR\u001b[0m     data = [self.dataset[idx] for idx in possibly_batched_index]\n",
      "\u001b[34m\u001b[1mwandb\u001b[0m: \u001b[32m\u001b[41mERROR\u001b[0m   File \"c:\\Users\\jacob\\anaconda3\\envs\\mario_env_2\\lib\\site-packages\\pytorch_fid\\fid_score.py\", line 87, in __getitem__\n",
      "\u001b[34m\u001b[1mwandb\u001b[0m: \u001b[32m\u001b[41mERROR\u001b[0m     img = Image.open(path).convert('RGB')\n",
      "\u001b[34m\u001b[1mwandb\u001b[0m: \u001b[32m\u001b[41mERROR\u001b[0m   File \"c:\\Users\\jacob\\anaconda3\\envs\\mario_env_2\\lib\\site-packages\\PIL\\Image.py\", line 3131, in open\n",
      "\u001b[34m\u001b[1mwandb\u001b[0m: \u001b[32m\u001b[41mERROR\u001b[0m     fp = builtins.open(filename, \"rb\")\n",
      "\u001b[34m\u001b[1mwandb\u001b[0m: \u001b[32m\u001b[41mERROR\u001b[0m PermissionError: [Errno 13] Permission denied: 'C:\\\\Users\\\\jacob\\\\OneDrive\\\\Desktop\\\\cogs_185\\\\final_project\\\\fid_temp\\\\generated\\\\epoch_3\\\\1212.png'\n",
      "\u001b[34m\u001b[1mwandb\u001b[0m: \u001b[32m\u001b[41mERROR\u001b[0m \n",
      "\u001b[34m\u001b[1mwandb\u001b[0m: \u001b[32m\u001b[41mERROR\u001b[0m \n",
      "\u001b[34m\u001b[1mwandb\u001b[0m: Agent Starting Run: 5natyddr with config:\n",
      "\u001b[34m\u001b[1mwandb\u001b[0m: \tbatch_size: 256\n",
      "\u001b[34m\u001b[1mwandb\u001b[0m: \tc_lambda: 10\n",
      "\u001b[34m\u001b[1mwandb\u001b[0m: \tepochs: 10\n",
      "\u001b[34m\u001b[1mwandb\u001b[0m: \thidden_dim: 128\n",
      "\u001b[34m\u001b[1mwandb\u001b[0m: \tlr: 0.0001\n",
      "\u001b[34m\u001b[1mwandb\u001b[0m: \tn_critic: 7\n",
      "\u001b[34m\u001b[1mwandb\u001b[0m: \tz_dim: 64\n"
     ]
    },
    {
     "data": {
      "text/html": [
       "Tracking run with wandb version 0.19.8"
      ],
      "text/plain": [
       "<IPython.core.display.HTML object>"
      ]
     },
     "metadata": {},
     "output_type": "display_data"
    },
    {
     "data": {
      "text/html": [
       "Run data is saved locally in <code>c:\\Users\\jacob\\OneDrive\\Desktop\\cogs_185\\final_project\\wandb\\run-20250611_160036-5natyddr</code>"
      ],
      "text/plain": [
       "<IPython.core.display.HTML object>"
      ]
     },
     "metadata": {},
     "output_type": "display_data"
    },
    {
     "data": {
      "text/html": [
       "Syncing run <strong><a href='https://wandb.ai/jhanshaw-uc-san-diego/gan_spec_drop-sweep_final/runs/5natyddr' target=\"_blank\">glorious-sweep-7</a></strong> to <a href='https://wandb.ai/jhanshaw-uc-san-diego/gan_spec_drop-sweep_final' target=\"_blank\">Weights & Biases</a> (<a href='https://wandb.me/developer-guide' target=\"_blank\">docs</a>)<br>Sweep page: <a href='https://wandb.ai/jhanshaw-uc-san-diego/gan_spec_drop-sweep_final/sweeps/jlyx2hte' target=\"_blank\">https://wandb.ai/jhanshaw-uc-san-diego/gan_spec_drop-sweep_final/sweeps/jlyx2hte</a>"
      ],
      "text/plain": [
       "<IPython.core.display.HTML object>"
      ]
     },
     "metadata": {},
     "output_type": "display_data"
    },
    {
     "data": {
      "text/html": [
       " View project at <a href='https://wandb.ai/jhanshaw-uc-san-diego/gan_spec_drop-sweep_final' target=\"_blank\">https://wandb.ai/jhanshaw-uc-san-diego/gan_spec_drop-sweep_final</a>"
      ],
      "text/plain": [
       "<IPython.core.display.HTML object>"
      ]
     },
     "metadata": {},
     "output_type": "display_data"
    },
    {
     "data": {
      "text/html": [
       " View sweep at <a href='https://wandb.ai/jhanshaw-uc-san-diego/gan_spec_drop-sweep_final/sweeps/jlyx2hte' target=\"_blank\">https://wandb.ai/jhanshaw-uc-san-diego/gan_spec_drop-sweep_final/sweeps/jlyx2hte</a>"
      ],
      "text/plain": [
       "<IPython.core.display.HTML object>"
      ]
     },
     "metadata": {},
     "output_type": "display_data"
    },
    {
     "data": {
      "text/html": [
       " View run at <a href='https://wandb.ai/jhanshaw-uc-san-diego/gan_spec_drop-sweep_final/runs/5natyddr' target=\"_blank\">https://wandb.ai/jhanshaw-uc-san-diego/gan_spec_drop-sweep_final/runs/5natyddr</a>"
      ],
      "text/plain": [
       "<IPython.core.display.HTML object>"
      ]
     },
     "metadata": {},
     "output_type": "display_data"
    },
    {
     "name": "stderr",
     "output_type": "stream",
     "text": [
      "100%|██████████| 79/79 [00:15<00:00,  5.14it/s]\n",
      "100%|██████████| 79/79 [00:42<00:00,  1.87it/s]\n",
      "100%|██████████| 79/79 [00:15<00:00,  5.18it/s]\n",
      "100%|██████████| 79/79 [00:41<00:00,  1.89it/s]\n",
      "100%|██████████| 79/79 [00:15<00:00,  5.14it/s]\n",
      "100%|██████████| 79/79 [00:44<00:00,  1.76it/s]\n",
      "100%|██████████| 79/79 [00:15<00:00,  5.15it/s]\n",
      "100%|██████████| 79/79 [00:43<00:00,  1.82it/s]\n",
      "100%|██████████| 79/79 [00:15<00:00,  5.15it/s]\n",
      "100%|██████████| 79/79 [00:45<00:00,  1.75it/s]\n",
      "100%|██████████| 79/79 [00:15<00:00,  4.99it/s]\n",
      "100%|██████████| 79/79 [00:45<00:00,  1.75it/s]\n",
      "100%|██████████| 79/79 [00:15<00:00,  5.09it/s]\n",
      "100%|██████████| 79/79 [00:46<00:00,  1.71it/s]\n",
      "100%|██████████| 79/79 [00:15<00:00,  5.06it/s]\n",
      "100%|██████████| 79/79 [00:36<00:00,  2.16it/s]\n",
      "100%|██████████| 79/79 [00:15<00:00,  5.09it/s]\n",
      "100%|██████████| 79/79 [00:32<00:00,  2.47it/s]\n",
      "100%|██████████| 79/79 [00:16<00:00,  4.80it/s]\n",
      "100%|██████████| 79/79 [00:41<00:00,  1.91it/s]\n"
     ]
    },
    {
     "name": "stdout",
     "output_type": "stream",
     "text": [
      "Final FID: 161.42\n"
     ]
    },
    {
     "data": {
      "text/html": [],
      "text/plain": [
       "<IPython.core.display.HTML object>"
      ]
     },
     "metadata": {},
     "output_type": "display_data"
    },
    {
     "data": {
      "text/html": [
       "<br>    <style><br>        .wandb-row {<br>            display: flex;<br>            flex-direction: row;<br>            flex-wrap: wrap;<br>            justify-content: flex-start;<br>            width: 100%;<br>        }<br>        .wandb-col {<br>            display: flex;<br>            flex-direction: column;<br>            flex-basis: 100%;<br>            flex: 1;<br>            padding: 10px;<br>        }<br>    </style><br><div class=\"wandb-row\"><div class=\"wandb-col\"><h3>Run history:</h3><br/><table class=\"wandb\"><tr><td>FID</td><td>█▅▃▃▂▃▁▁▁▁</td></tr><tr><td>crit_loss</td><td>▁▃▅▆▆▆▆▇█▇</td></tr><tr><td>epoch</td><td>▁▂▃▃▄▅▆▆▇█</td></tr><tr><td>gen_loss</td><td>▇▄▂▁▂▃▃▅█▇</td></tr></table><br/></div><div class=\"wandb-col\"><h3>Run summary:</h3><br/><table class=\"wandb\"><tr><td>FID</td><td>161.41931</td></tr><tr><td>crit_loss</td><td>-0.2459</td></tr><tr><td>epoch</td><td>9</td></tr><tr><td>gen_loss</td><td>-1.12975</td></tr></table><br/></div></div>"
      ],
      "text/plain": [
       "<IPython.core.display.HTML object>"
      ]
     },
     "metadata": {},
     "output_type": "display_data"
    },
    {
     "data": {
      "text/html": [
       " View run <strong style=\"color:#cdcd00\">glorious-sweep-7</strong> at: <a href='https://wandb.ai/jhanshaw-uc-san-diego/gan_spec_drop-sweep_final/runs/5natyddr' target=\"_blank\">https://wandb.ai/jhanshaw-uc-san-diego/gan_spec_drop-sweep_final/runs/5natyddr</a><br> View project at: <a href='https://wandb.ai/jhanshaw-uc-san-diego/gan_spec_drop-sweep_final' target=\"_blank\">https://wandb.ai/jhanshaw-uc-san-diego/gan_spec_drop-sweep_final</a><br>Synced 5 W&B file(s), 0 media file(s), 0 artifact file(s) and 0 other file(s)"
      ],
      "text/plain": [
       "<IPython.core.display.HTML object>"
      ]
     },
     "metadata": {},
     "output_type": "display_data"
    },
    {
     "data": {
      "text/html": [
       "Find logs at: <code>.\\wandb\\run-20250611_160036-5natyddr\\logs</code>"
      ],
      "text/plain": [
       "<IPython.core.display.HTML object>"
      ]
     },
     "metadata": {},
     "output_type": "display_data"
    },
    {
     "name": "stderr",
     "output_type": "stream",
     "text": [
      "\u001b[34m\u001b[1mwandb\u001b[0m: Agent Starting Run: gnkrcp0k with config:\n",
      "\u001b[34m\u001b[1mwandb\u001b[0m: \tbatch_size: 128\n",
      "\u001b[34m\u001b[1mwandb\u001b[0m: \tc_lambda: 5\n",
      "\u001b[34m\u001b[1mwandb\u001b[0m: \tepochs: 10\n",
      "\u001b[34m\u001b[1mwandb\u001b[0m: \thidden_dim: 64\n",
      "\u001b[34m\u001b[1mwandb\u001b[0m: \tlr: 0.0001\n",
      "\u001b[34m\u001b[1mwandb\u001b[0m: \tn_critic: 3\n",
      "\u001b[34m\u001b[1mwandb\u001b[0m: \tz_dim: 64\n"
     ]
    },
    {
     "data": {
      "text/html": [
       "Tracking run with wandb version 0.19.8"
      ],
      "text/plain": [
       "<IPython.core.display.HTML object>"
      ]
     },
     "metadata": {},
     "output_type": "display_data"
    },
    {
     "data": {
      "text/html": [
       "Run data is saved locally in <code>c:\\Users\\jacob\\OneDrive\\Desktop\\cogs_185\\final_project\\wandb\\run-20250611_162925-gnkrcp0k</code>"
      ],
      "text/plain": [
       "<IPython.core.display.HTML object>"
      ]
     },
     "metadata": {},
     "output_type": "display_data"
    },
    {
     "data": {
      "text/html": [
       "Syncing run <strong><a href='https://wandb.ai/jhanshaw-uc-san-diego/gan_spec_drop-sweep_final/runs/gnkrcp0k' target=\"_blank\">wild-sweep-8</a></strong> to <a href='https://wandb.ai/jhanshaw-uc-san-diego/gan_spec_drop-sweep_final' target=\"_blank\">Weights & Biases</a> (<a href='https://wandb.me/developer-guide' target=\"_blank\">docs</a>)<br>Sweep page: <a href='https://wandb.ai/jhanshaw-uc-san-diego/gan_spec_drop-sweep_final/sweeps/jlyx2hte' target=\"_blank\">https://wandb.ai/jhanshaw-uc-san-diego/gan_spec_drop-sweep_final/sweeps/jlyx2hte</a>"
      ],
      "text/plain": [
       "<IPython.core.display.HTML object>"
      ]
     },
     "metadata": {},
     "output_type": "display_data"
    },
    {
     "data": {
      "text/html": [
       " View project at <a href='https://wandb.ai/jhanshaw-uc-san-diego/gan_spec_drop-sweep_final' target=\"_blank\">https://wandb.ai/jhanshaw-uc-san-diego/gan_spec_drop-sweep_final</a>"
      ],
      "text/plain": [
       "<IPython.core.display.HTML object>"
      ]
     },
     "metadata": {},
     "output_type": "display_data"
    },
    {
     "data": {
      "text/html": [
       " View sweep at <a href='https://wandb.ai/jhanshaw-uc-san-diego/gan_spec_drop-sweep_final/sweeps/jlyx2hte' target=\"_blank\">https://wandb.ai/jhanshaw-uc-san-diego/gan_spec_drop-sweep_final/sweeps/jlyx2hte</a>"
      ],
      "text/plain": [
       "<IPython.core.display.HTML object>"
      ]
     },
     "metadata": {},
     "output_type": "display_data"
    },
    {
     "data": {
      "text/html": [
       " View run at <a href='https://wandb.ai/jhanshaw-uc-san-diego/gan_spec_drop-sweep_final/runs/gnkrcp0k' target=\"_blank\">https://wandb.ai/jhanshaw-uc-san-diego/gan_spec_drop-sweep_final/runs/gnkrcp0k</a>"
      ],
      "text/plain": [
       "<IPython.core.display.HTML object>"
      ]
     },
     "metadata": {},
     "output_type": "display_data"
    },
    {
     "name": "stderr",
     "output_type": "stream",
     "text": [
      "100%|██████████| 79/79 [00:16<00:00,  4.81it/s]\n",
      "100%|██████████| 79/79 [00:41<00:00,  1.90it/s]\n",
      "100%|██████████| 79/79 [00:16<00:00,  4.83it/s]\n",
      "100%|██████████| 79/79 [00:35<00:00,  2.25it/s]\n",
      "100%|██████████| 79/79 [00:15<00:00,  5.17it/s]\n",
      "100%|██████████| 79/79 [00:39<00:00,  2.02it/s]\n",
      "100%|██████████| 79/79 [00:15<00:00,  5.19it/s]\n",
      "100%|██████████| 79/79 [00:40<00:00,  1.95it/s]\n",
      "100%|██████████| 79/79 [00:15<00:00,  5.11it/s]\n",
      " 16%|█▋        | 13/79 [00:06<00:33,  2.00it/s]\n",
      "Traceback (most recent call last):\n",
      "  File \"C:\\Users\\jacob\\AppData\\Local\\Temp\\ipykernel_23704\\3285193204.py\", line 64, in sweep_train\n",
      "    fid = calculate_fid_score(generator, config.z_dim, device, dataloader, epoch)\n",
      "  File \"C:\\Users\\jacob\\AppData\\Local\\Temp\\ipykernel_23704\\450502378.py\", line 67, in calculate_fid_score\n",
      "    fid_value = fid_score.calculate_fid_given_paths([real_dir, gen_dir], batch_size=64, device=device, dims=2048)\n",
      "  File \"c:\\Users\\jacob\\anaconda3\\envs\\mario_env_2\\lib\\site-packages\\pytorch_fid\\fid_score.py\", line 261, in calculate_fid_given_paths\n",
      "    m2, s2 = compute_statistics_of_path(paths[1], model, batch_size,\n",
      "  File \"c:\\Users\\jacob\\anaconda3\\envs\\mario_env_2\\lib\\site-packages\\pytorch_fid\\fid_score.py\", line 243, in compute_statistics_of_path\n",
      "    m, s = calculate_activation_statistics(files, model, batch_size,\n",
      "  File \"c:\\Users\\jacob\\anaconda3\\envs\\mario_env_2\\lib\\site-packages\\pytorch_fid\\fid_score.py\", line 228, in calculate_activation_statistics\n",
      "    act = get_activations(files, model, batch_size, dims, device, num_workers)\n",
      "  File \"c:\\Users\\jacob\\anaconda3\\envs\\mario_env_2\\lib\\site-packages\\pytorch_fid\\fid_score.py\", line 132, in get_activations\n",
      "    for batch in tqdm(dataloader):\n",
      "  File \"c:\\Users\\jacob\\anaconda3\\envs\\mario_env_2\\lib\\site-packages\\tqdm\\std.py\", line 1182, in __iter__\n",
      "    for obj in iterable:\n",
      "  File \"c:\\Users\\jacob\\anaconda3\\envs\\mario_env_2\\lib\\site-packages\\torch\\utils\\data\\dataloader.py\", line 708, in __next__\n",
      "    data = self._next_data()\n",
      "  File \"c:\\Users\\jacob\\anaconda3\\envs\\mario_env_2\\lib\\site-packages\\torch\\utils\\data\\dataloader.py\", line 1480, in _next_data\n",
      "    return self._process_data(data)\n",
      "  File \"c:\\Users\\jacob\\anaconda3\\envs\\mario_env_2\\lib\\site-packages\\torch\\utils\\data\\dataloader.py\", line 1505, in _process_data\n",
      "    data.reraise()\n",
      "  File \"c:\\Users\\jacob\\anaconda3\\envs\\mario_env_2\\lib\\site-packages\\torch\\_utils.py\", line 733, in reraise\n",
      "    raise exception\n",
      "PermissionError: Caught PermissionError in DataLoader worker process 0.\n",
      "Original Traceback (most recent call last):\n",
      "  File \"c:\\Users\\jacob\\anaconda3\\envs\\mario_env_2\\lib\\site-packages\\torch\\utils\\data\\_utils\\worker.py\", line 349, in _worker_loop\n",
      "    data = fetcher.fetch(index)  # type: ignore[possibly-undefined]\n",
      "  File \"c:\\Users\\jacob\\anaconda3\\envs\\mario_env_2\\lib\\site-packages\\torch\\utils\\data\\_utils\\fetch.py\", line 52, in fetch\n",
      "    data = [self.dataset[idx] for idx in possibly_batched_index]\n",
      "  File \"c:\\Users\\jacob\\anaconda3\\envs\\mario_env_2\\lib\\site-packages\\torch\\utils\\data\\_utils\\fetch.py\", line 52, in <listcomp>\n",
      "    data = [self.dataset[idx] for idx in possibly_batched_index]\n",
      "  File \"c:\\Users\\jacob\\anaconda3\\envs\\mario_env_2\\lib\\site-packages\\pytorch_fid\\fid_score.py\", line 87, in __getitem__\n",
      "    img = Image.open(path).convert('RGB')\n",
      "  File \"c:\\Users\\jacob\\anaconda3\\envs\\mario_env_2\\lib\\site-packages\\PIL\\Image.py\", line 3131, in open\n",
      "    fp = builtins.open(filename, \"rb\")\n",
      "PermissionError: [Errno 13] Permission denied: 'C:\\\\Users\\\\jacob\\\\OneDrive\\\\Desktop\\\\cogs_185\\\\final_project\\\\fid_temp\\\\generated\\\\epoch_4\\\\1752.png'\n",
      "\n"
     ]
    },
    {
     "data": {
      "text/html": [],
      "text/plain": [
       "<IPython.core.display.HTML object>"
      ]
     },
     "metadata": {},
     "output_type": "display_data"
    },
    {
     "data": {
      "text/html": [
       "<br>    <style><br>        .wandb-row {<br>            display: flex;<br>            flex-direction: row;<br>            flex-wrap: wrap;<br>            justify-content: flex-start;<br>            width: 100%;<br>        }<br>        .wandb-col {<br>            display: flex;<br>            flex-direction: column;<br>            flex-basis: 100%;<br>            flex: 1;<br>            padding: 10px;<br>        }<br>    </style><br><div class=\"wandb-row\"><div class=\"wandb-col\"><h3>Run history:</h3><br/><table class=\"wandb\"><tr><td>FID</td><td>█▆▄▁</td></tr><tr><td>crit_loss</td><td>▅█▁█</td></tr><tr><td>epoch</td><td>▁▃▆█</td></tr><tr><td>gen_loss</td><td>█▆▅▁</td></tr></table><br/></div><div class=\"wandb-col\"><h3>Run summary:</h3><br/><table class=\"wandb\"><tr><td>FID</td><td>238.48142</td></tr><tr><td>crit_loss</td><td>-0.10408</td></tr><tr><td>epoch</td><td>3</td></tr><tr><td>gen_loss</td><td>-1.49738</td></tr></table><br/></div></div>"
      ],
      "text/plain": [
       "<IPython.core.display.HTML object>"
      ]
     },
     "metadata": {},
     "output_type": "display_data"
    },
    {
     "data": {
      "text/html": [
       " View run <strong style=\"color:#cdcd00\">wild-sweep-8</strong> at: <a href='https://wandb.ai/jhanshaw-uc-san-diego/gan_spec_drop-sweep_final/runs/gnkrcp0k' target=\"_blank\">https://wandb.ai/jhanshaw-uc-san-diego/gan_spec_drop-sweep_final/runs/gnkrcp0k</a><br> View project at: <a href='https://wandb.ai/jhanshaw-uc-san-diego/gan_spec_drop-sweep_final' target=\"_blank\">https://wandb.ai/jhanshaw-uc-san-diego/gan_spec_drop-sweep_final</a><br>Synced 5 W&B file(s), 0 media file(s), 0 artifact file(s) and 0 other file(s)"
      ],
      "text/plain": [
       "<IPython.core.display.HTML object>"
      ]
     },
     "metadata": {},
     "output_type": "display_data"
    },
    {
     "data": {
      "text/html": [
       "Find logs at: <code>.\\wandb\\run-20250611_162925-gnkrcp0k\\logs</code>"
      ],
      "text/plain": [
       "<IPython.core.display.HTML object>"
      ]
     },
     "metadata": {},
     "output_type": "display_data"
    },
    {
     "name": "stderr",
     "output_type": "stream",
     "text": [
      "Run gnkrcp0k errored:\n",
      "Traceback (most recent call last):\n",
      "  File \"c:\\Users\\jacob\\anaconda3\\envs\\mario_env_2\\lib\\site-packages\\wandb\\agents\\pyagent.py\", line 306, in _run_job\n",
      "    self._function()\n",
      "  File \"C:\\Users\\jacob\\AppData\\Local\\Temp\\ipykernel_23704\\3285193204.py\", line 64, in sweep_train\n",
      "    fid = calculate_fid_score(generator, config.z_dim, device, dataloader, epoch)\n",
      "  File \"C:\\Users\\jacob\\AppData\\Local\\Temp\\ipykernel_23704\\450502378.py\", line 67, in calculate_fid_score\n",
      "    fid_value = fid_score.calculate_fid_given_paths([real_dir, gen_dir], batch_size=64, device=device, dims=2048)\n",
      "  File \"c:\\Users\\jacob\\anaconda3\\envs\\mario_env_2\\lib\\site-packages\\pytorch_fid\\fid_score.py\", line 261, in calculate_fid_given_paths\n",
      "    m2, s2 = compute_statistics_of_path(paths[1], model, batch_size,\n",
      "  File \"c:\\Users\\jacob\\anaconda3\\envs\\mario_env_2\\lib\\site-packages\\pytorch_fid\\fid_score.py\", line 243, in compute_statistics_of_path\n",
      "    m, s = calculate_activation_statistics(files, model, batch_size,\n",
      "  File \"c:\\Users\\jacob\\anaconda3\\envs\\mario_env_2\\lib\\site-packages\\pytorch_fid\\fid_score.py\", line 228, in calculate_activation_statistics\n",
      "    act = get_activations(files, model, batch_size, dims, device, num_workers)\n",
      "  File \"c:\\Users\\jacob\\anaconda3\\envs\\mario_env_2\\lib\\site-packages\\pytorch_fid\\fid_score.py\", line 132, in get_activations\n",
      "    for batch in tqdm(dataloader):\n",
      "  File \"c:\\Users\\jacob\\anaconda3\\envs\\mario_env_2\\lib\\site-packages\\tqdm\\std.py\", line 1182, in __iter__\n",
      "    for obj in iterable:\n",
      "  File \"c:\\Users\\jacob\\anaconda3\\envs\\mario_env_2\\lib\\site-packages\\torch\\utils\\data\\dataloader.py\", line 708, in __next__\n",
      "    data = self._next_data()\n",
      "  File \"c:\\Users\\jacob\\anaconda3\\envs\\mario_env_2\\lib\\site-packages\\torch\\utils\\data\\dataloader.py\", line 1480, in _next_data\n",
      "    return self._process_data(data)\n",
      "  File \"c:\\Users\\jacob\\anaconda3\\envs\\mario_env_2\\lib\\site-packages\\torch\\utils\\data\\dataloader.py\", line 1505, in _process_data\n",
      "    data.reraise()\n",
      "  File \"c:\\Users\\jacob\\anaconda3\\envs\\mario_env_2\\lib\\site-packages\\torch\\_utils.py\", line 733, in reraise\n",
      "    raise exception\n",
      "PermissionError: Caught PermissionError in DataLoader worker process 0.\n",
      "Original Traceback (most recent call last):\n",
      "  File \"c:\\Users\\jacob\\anaconda3\\envs\\mario_env_2\\lib\\site-packages\\torch\\utils\\data\\_utils\\worker.py\", line 349, in _worker_loop\n",
      "    data = fetcher.fetch(index)  # type: ignore[possibly-undefined]\n",
      "  File \"c:\\Users\\jacob\\anaconda3\\envs\\mario_env_2\\lib\\site-packages\\torch\\utils\\data\\_utils\\fetch.py\", line 52, in fetch\n",
      "    data = [self.dataset[idx] for idx in possibly_batched_index]\n",
      "  File \"c:\\Users\\jacob\\anaconda3\\envs\\mario_env_2\\lib\\site-packages\\torch\\utils\\data\\_utils\\fetch.py\", line 52, in <listcomp>\n",
      "    data = [self.dataset[idx] for idx in possibly_batched_index]\n",
      "  File \"c:\\Users\\jacob\\anaconda3\\envs\\mario_env_2\\lib\\site-packages\\pytorch_fid\\fid_score.py\", line 87, in __getitem__\n",
      "    img = Image.open(path).convert('RGB')\n",
      "  File \"c:\\Users\\jacob\\anaconda3\\envs\\mario_env_2\\lib\\site-packages\\PIL\\Image.py\", line 3131, in open\n",
      "    fp = builtins.open(filename, \"rb\")\n",
      "PermissionError: [Errno 13] Permission denied: 'C:\\\\Users\\\\jacob\\\\OneDrive\\\\Desktop\\\\cogs_185\\\\final_project\\\\fid_temp\\\\generated\\\\epoch_4\\\\1752.png'\n",
      "\n",
      "\n",
      "\u001b[34m\u001b[1mwandb\u001b[0m: \u001b[32m\u001b[41mERROR\u001b[0m Run gnkrcp0k errored:\n",
      "\u001b[34m\u001b[1mwandb\u001b[0m: \u001b[32m\u001b[41mERROR\u001b[0m Traceback (most recent call last):\n",
      "\u001b[34m\u001b[1mwandb\u001b[0m: \u001b[32m\u001b[41mERROR\u001b[0m   File \"c:\\Users\\jacob\\anaconda3\\envs\\mario_env_2\\lib\\site-packages\\wandb\\agents\\pyagent.py\", line 306, in _run_job\n",
      "\u001b[34m\u001b[1mwandb\u001b[0m: \u001b[32m\u001b[41mERROR\u001b[0m     self._function()\n",
      "\u001b[34m\u001b[1mwandb\u001b[0m: \u001b[32m\u001b[41mERROR\u001b[0m   File \"C:\\Users\\jacob\\AppData\\Local\\Temp\\ipykernel_23704\\3285193204.py\", line 64, in sweep_train\n",
      "\u001b[34m\u001b[1mwandb\u001b[0m: \u001b[32m\u001b[41mERROR\u001b[0m     fid = calculate_fid_score(generator, config.z_dim, device, dataloader, epoch)\n",
      "\u001b[34m\u001b[1mwandb\u001b[0m: \u001b[32m\u001b[41mERROR\u001b[0m   File \"C:\\Users\\jacob\\AppData\\Local\\Temp\\ipykernel_23704\\450502378.py\", line 67, in calculate_fid_score\n",
      "\u001b[34m\u001b[1mwandb\u001b[0m: \u001b[32m\u001b[41mERROR\u001b[0m     fid_value = fid_score.calculate_fid_given_paths([real_dir, gen_dir], batch_size=64, device=device, dims=2048)\n",
      "\u001b[34m\u001b[1mwandb\u001b[0m: \u001b[32m\u001b[41mERROR\u001b[0m   File \"c:\\Users\\jacob\\anaconda3\\envs\\mario_env_2\\lib\\site-packages\\pytorch_fid\\fid_score.py\", line 261, in calculate_fid_given_paths\n",
      "\u001b[34m\u001b[1mwandb\u001b[0m: \u001b[32m\u001b[41mERROR\u001b[0m     m2, s2 = compute_statistics_of_path(paths[1], model, batch_size,\n",
      "\u001b[34m\u001b[1mwandb\u001b[0m: \u001b[32m\u001b[41mERROR\u001b[0m   File \"c:\\Users\\jacob\\anaconda3\\envs\\mario_env_2\\lib\\site-packages\\pytorch_fid\\fid_score.py\", line 243, in compute_statistics_of_path\n",
      "\u001b[34m\u001b[1mwandb\u001b[0m: \u001b[32m\u001b[41mERROR\u001b[0m     m, s = calculate_activation_statistics(files, model, batch_size,\n",
      "\u001b[34m\u001b[1mwandb\u001b[0m: \u001b[32m\u001b[41mERROR\u001b[0m   File \"c:\\Users\\jacob\\anaconda3\\envs\\mario_env_2\\lib\\site-packages\\pytorch_fid\\fid_score.py\", line 228, in calculate_activation_statistics\n",
      "\u001b[34m\u001b[1mwandb\u001b[0m: \u001b[32m\u001b[41mERROR\u001b[0m     act = get_activations(files, model, batch_size, dims, device, num_workers)\n",
      "\u001b[34m\u001b[1mwandb\u001b[0m: \u001b[32m\u001b[41mERROR\u001b[0m   File \"c:\\Users\\jacob\\anaconda3\\envs\\mario_env_2\\lib\\site-packages\\pytorch_fid\\fid_score.py\", line 132, in get_activations\n",
      "\u001b[34m\u001b[1mwandb\u001b[0m: \u001b[32m\u001b[41mERROR\u001b[0m     for batch in tqdm(dataloader):\n",
      "\u001b[34m\u001b[1mwandb\u001b[0m: \u001b[32m\u001b[41mERROR\u001b[0m   File \"c:\\Users\\jacob\\anaconda3\\envs\\mario_env_2\\lib\\site-packages\\tqdm\\std.py\", line 1182, in __iter__\n",
      "\u001b[34m\u001b[1mwandb\u001b[0m: \u001b[32m\u001b[41mERROR\u001b[0m     for obj in iterable:\n",
      "\u001b[34m\u001b[1mwandb\u001b[0m: \u001b[32m\u001b[41mERROR\u001b[0m   File \"c:\\Users\\jacob\\anaconda3\\envs\\mario_env_2\\lib\\site-packages\\torch\\utils\\data\\dataloader.py\", line 708, in __next__\n",
      "\u001b[34m\u001b[1mwandb\u001b[0m: \u001b[32m\u001b[41mERROR\u001b[0m     data = self._next_data()\n",
      "\u001b[34m\u001b[1mwandb\u001b[0m: \u001b[32m\u001b[41mERROR\u001b[0m   File \"c:\\Users\\jacob\\anaconda3\\envs\\mario_env_2\\lib\\site-packages\\torch\\utils\\data\\dataloader.py\", line 1480, in _next_data\n",
      "\u001b[34m\u001b[1mwandb\u001b[0m: \u001b[32m\u001b[41mERROR\u001b[0m     return self._process_data(data)\n",
      "\u001b[34m\u001b[1mwandb\u001b[0m: \u001b[32m\u001b[41mERROR\u001b[0m   File \"c:\\Users\\jacob\\anaconda3\\envs\\mario_env_2\\lib\\site-packages\\torch\\utils\\data\\dataloader.py\", line 1505, in _process_data\n",
      "\u001b[34m\u001b[1mwandb\u001b[0m: \u001b[32m\u001b[41mERROR\u001b[0m     data.reraise()\n",
      "\u001b[34m\u001b[1mwandb\u001b[0m: \u001b[32m\u001b[41mERROR\u001b[0m   File \"c:\\Users\\jacob\\anaconda3\\envs\\mario_env_2\\lib\\site-packages\\torch\\_utils.py\", line 733, in reraise\n",
      "\u001b[34m\u001b[1mwandb\u001b[0m: \u001b[32m\u001b[41mERROR\u001b[0m     raise exception\n",
      "\u001b[34m\u001b[1mwandb\u001b[0m: \u001b[32m\u001b[41mERROR\u001b[0m PermissionError: Caught PermissionError in DataLoader worker process 0.\n",
      "\u001b[34m\u001b[1mwandb\u001b[0m: \u001b[32m\u001b[41mERROR\u001b[0m Original Traceback (most recent call last):\n",
      "\u001b[34m\u001b[1mwandb\u001b[0m: \u001b[32m\u001b[41mERROR\u001b[0m   File \"c:\\Users\\jacob\\anaconda3\\envs\\mario_env_2\\lib\\site-packages\\torch\\utils\\data\\_utils\\worker.py\", line 349, in _worker_loop\n",
      "\u001b[34m\u001b[1mwandb\u001b[0m: \u001b[32m\u001b[41mERROR\u001b[0m     data = fetcher.fetch(index)  # type: ignore[possibly-undefined]\n",
      "\u001b[34m\u001b[1mwandb\u001b[0m: \u001b[32m\u001b[41mERROR\u001b[0m   File \"c:\\Users\\jacob\\anaconda3\\envs\\mario_env_2\\lib\\site-packages\\torch\\utils\\data\\_utils\\fetch.py\", line 52, in fetch\n",
      "\u001b[34m\u001b[1mwandb\u001b[0m: \u001b[32m\u001b[41mERROR\u001b[0m     data = [self.dataset[idx] for idx in possibly_batched_index]\n",
      "\u001b[34m\u001b[1mwandb\u001b[0m: \u001b[32m\u001b[41mERROR\u001b[0m   File \"c:\\Users\\jacob\\anaconda3\\envs\\mario_env_2\\lib\\site-packages\\torch\\utils\\data\\_utils\\fetch.py\", line 52, in <listcomp>\n",
      "\u001b[34m\u001b[1mwandb\u001b[0m: \u001b[32m\u001b[41mERROR\u001b[0m     data = [self.dataset[idx] for idx in possibly_batched_index]\n",
      "\u001b[34m\u001b[1mwandb\u001b[0m: \u001b[32m\u001b[41mERROR\u001b[0m   File \"c:\\Users\\jacob\\anaconda3\\envs\\mario_env_2\\lib\\site-packages\\pytorch_fid\\fid_score.py\", line 87, in __getitem__\n",
      "\u001b[34m\u001b[1mwandb\u001b[0m: \u001b[32m\u001b[41mERROR\u001b[0m     img = Image.open(path).convert('RGB')\n",
      "\u001b[34m\u001b[1mwandb\u001b[0m: \u001b[32m\u001b[41mERROR\u001b[0m   File \"c:\\Users\\jacob\\anaconda3\\envs\\mario_env_2\\lib\\site-packages\\PIL\\Image.py\", line 3131, in open\n",
      "\u001b[34m\u001b[1mwandb\u001b[0m: \u001b[32m\u001b[41mERROR\u001b[0m     fp = builtins.open(filename, \"rb\")\n",
      "\u001b[34m\u001b[1mwandb\u001b[0m: \u001b[32m\u001b[41mERROR\u001b[0m PermissionError: [Errno 13] Permission denied: 'C:\\\\Users\\\\jacob\\\\OneDrive\\\\Desktop\\\\cogs_185\\\\final_project\\\\fid_temp\\\\generated\\\\epoch_4\\\\1752.png'\n",
      "\u001b[34m\u001b[1mwandb\u001b[0m: \u001b[32m\u001b[41mERROR\u001b[0m \n",
      "\u001b[34m\u001b[1mwandb\u001b[0m: \u001b[32m\u001b[41mERROR\u001b[0m \n",
      "\u001b[34m\u001b[1mwandb\u001b[0m: Agent Starting Run: enn2ztja with config:\n",
      "\u001b[34m\u001b[1mwandb\u001b[0m: \tbatch_size: 128\n",
      "\u001b[34m\u001b[1mwandb\u001b[0m: \tc_lambda: 5\n",
      "\u001b[34m\u001b[1mwandb\u001b[0m: \tepochs: 10\n",
      "\u001b[34m\u001b[1mwandb\u001b[0m: \thidden_dim: 64\n",
      "\u001b[34m\u001b[1mwandb\u001b[0m: \tlr: 1e-05\n",
      "\u001b[34m\u001b[1mwandb\u001b[0m: \tn_critic: 5\n",
      "\u001b[34m\u001b[1mwandb\u001b[0m: \tz_dim: 100\n"
     ]
    },
    {
     "data": {
      "text/html": [
       "Tracking run with wandb version 0.19.8"
      ],
      "text/plain": [
       "<IPython.core.display.HTML object>"
      ]
     },
     "metadata": {},
     "output_type": "display_data"
    },
    {
     "data": {
      "text/html": [
       "Run data is saved locally in <code>c:\\Users\\jacob\\OneDrive\\Desktop\\cogs_185\\final_project\\wandb\\run-20250611_163835-enn2ztja</code>"
      ],
      "text/plain": [
       "<IPython.core.display.HTML object>"
      ]
     },
     "metadata": {},
     "output_type": "display_data"
    },
    {
     "data": {
      "text/html": [
       "Syncing run <strong><a href='https://wandb.ai/jhanshaw-uc-san-diego/gan_spec_drop-sweep_final/runs/enn2ztja' target=\"_blank\">sage-sweep-9</a></strong> to <a href='https://wandb.ai/jhanshaw-uc-san-diego/gan_spec_drop-sweep_final' target=\"_blank\">Weights & Biases</a> (<a href='https://wandb.me/developer-guide' target=\"_blank\">docs</a>)<br>Sweep page: <a href='https://wandb.ai/jhanshaw-uc-san-diego/gan_spec_drop-sweep_final/sweeps/jlyx2hte' target=\"_blank\">https://wandb.ai/jhanshaw-uc-san-diego/gan_spec_drop-sweep_final/sweeps/jlyx2hte</a>"
      ],
      "text/plain": [
       "<IPython.core.display.HTML object>"
      ]
     },
     "metadata": {},
     "output_type": "display_data"
    },
    {
     "data": {
      "text/html": [
       " View project at <a href='https://wandb.ai/jhanshaw-uc-san-diego/gan_spec_drop-sweep_final' target=\"_blank\">https://wandb.ai/jhanshaw-uc-san-diego/gan_spec_drop-sweep_final</a>"
      ],
      "text/plain": [
       "<IPython.core.display.HTML object>"
      ]
     },
     "metadata": {},
     "output_type": "display_data"
    },
    {
     "data": {
      "text/html": [
       " View sweep at <a href='https://wandb.ai/jhanshaw-uc-san-diego/gan_spec_drop-sweep_final/sweeps/jlyx2hte' target=\"_blank\">https://wandb.ai/jhanshaw-uc-san-diego/gan_spec_drop-sweep_final/sweeps/jlyx2hte</a>"
      ],
      "text/plain": [
       "<IPython.core.display.HTML object>"
      ]
     },
     "metadata": {},
     "output_type": "display_data"
    },
    {
     "data": {
      "text/html": [
       " View run at <a href='https://wandb.ai/jhanshaw-uc-san-diego/gan_spec_drop-sweep_final/runs/enn2ztja' target=\"_blank\">https://wandb.ai/jhanshaw-uc-san-diego/gan_spec_drop-sweep_final/runs/enn2ztja</a>"
      ],
      "text/plain": [
       "<IPython.core.display.HTML object>"
      ]
     },
     "metadata": {},
     "output_type": "display_data"
    },
    {
     "name": "stderr",
     "output_type": "stream",
     "text": [
      "100%|██████████| 79/79 [00:15<00:00,  5.16it/s]\n",
      "100%|██████████| 79/79 [00:38<00:00,  2.04it/s]\n",
      "100%|██████████| 79/79 [00:15<00:00,  5.19it/s]\n",
      "100%|██████████| 79/79 [00:44<00:00,  1.77it/s]\n",
      "100%|██████████| 79/79 [00:15<00:00,  5.13it/s]\n",
      "100%|██████████| 79/79 [00:39<00:00,  2.01it/s]\n",
      "100%|██████████| 79/79 [00:15<00:00,  5.18it/s]\n",
      "100%|██████████| 79/79 [00:40<00:00,  1.95it/s]\n",
      "100%|██████████| 79/79 [00:15<00:00,  5.07it/s]\n",
      "100%|██████████| 79/79 [00:41<00:00,  1.91it/s]\n",
      "100%|██████████| 79/79 [00:15<00:00,  5.02it/s]\n",
      "100%|██████████| 79/79 [00:43<00:00,  1.82it/s]\n",
      "100%|██████████| 79/79 [00:15<00:00,  5.03it/s]\n",
      "100%|██████████| 79/79 [00:41<00:00,  1.92it/s]\n",
      "100%|██████████| 79/79 [00:16<00:00,  4.93it/s]\n",
      "100%|██████████| 79/79 [00:33<00:00,  2.33it/s]\n",
      "100%|██████████| 79/79 [00:15<00:00,  5.14it/s]\n",
      "100%|██████████| 79/79 [00:39<00:00,  2.00it/s]\n",
      "100%|██████████| 79/79 [00:15<00:00,  5.03it/s]\n",
      " 34%|███▍      | 27/79 [00:15<00:29,  1.79it/s]\n",
      "Traceback (most recent call last):\n",
      "  File \"C:\\Users\\jacob\\AppData\\Local\\Temp\\ipykernel_23704\\3285193204.py\", line 64, in sweep_train\n",
      "    fid = calculate_fid_score(generator, config.z_dim, device, dataloader, epoch)\n",
      "  File \"C:\\Users\\jacob\\AppData\\Local\\Temp\\ipykernel_23704\\450502378.py\", line 67, in calculate_fid_score\n",
      "    fid_value = fid_score.calculate_fid_given_paths([real_dir, gen_dir], batch_size=64, device=device, dims=2048)\n",
      "  File \"c:\\Users\\jacob\\anaconda3\\envs\\mario_env_2\\lib\\site-packages\\pytorch_fid\\fid_score.py\", line 261, in calculate_fid_given_paths\n",
      "    m2, s2 = compute_statistics_of_path(paths[1], model, batch_size,\n",
      "  File \"c:\\Users\\jacob\\anaconda3\\envs\\mario_env_2\\lib\\site-packages\\pytorch_fid\\fid_score.py\", line 243, in compute_statistics_of_path\n",
      "    m, s = calculate_activation_statistics(files, model, batch_size,\n",
      "  File \"c:\\Users\\jacob\\anaconda3\\envs\\mario_env_2\\lib\\site-packages\\pytorch_fid\\fid_score.py\", line 228, in calculate_activation_statistics\n",
      "    act = get_activations(files, model, batch_size, dims, device, num_workers)\n",
      "  File \"c:\\Users\\jacob\\anaconda3\\envs\\mario_env_2\\lib\\site-packages\\pytorch_fid\\fid_score.py\", line 132, in get_activations\n",
      "    for batch in tqdm(dataloader):\n",
      "  File \"c:\\Users\\jacob\\anaconda3\\envs\\mario_env_2\\lib\\site-packages\\tqdm\\std.py\", line 1182, in __iter__\n",
      "    for obj in iterable:\n",
      "  File \"c:\\Users\\jacob\\anaconda3\\envs\\mario_env_2\\lib\\site-packages\\torch\\utils\\data\\dataloader.py\", line 708, in __next__\n",
      "    data = self._next_data()\n",
      "  File \"c:\\Users\\jacob\\anaconda3\\envs\\mario_env_2\\lib\\site-packages\\torch\\utils\\data\\dataloader.py\", line 1480, in _next_data\n",
      "    return self._process_data(data)\n",
      "  File \"c:\\Users\\jacob\\anaconda3\\envs\\mario_env_2\\lib\\site-packages\\torch\\utils\\data\\dataloader.py\", line 1505, in _process_data\n",
      "    data.reraise()\n",
      "  File \"c:\\Users\\jacob\\anaconda3\\envs\\mario_env_2\\lib\\site-packages\\torch\\_utils.py\", line 733, in reraise\n",
      "    raise exception\n",
      "PermissionError: Caught PermissionError in DataLoader worker process 0.\n",
      "Original Traceback (most recent call last):\n",
      "  File \"c:\\Users\\jacob\\anaconda3\\envs\\mario_env_2\\lib\\site-packages\\torch\\utils\\data\\_utils\\worker.py\", line 349, in _worker_loop\n",
      "    data = fetcher.fetch(index)  # type: ignore[possibly-undefined]\n",
      "  File \"c:\\Users\\jacob\\anaconda3\\envs\\mario_env_2\\lib\\site-packages\\torch\\utils\\data\\_utils\\fetch.py\", line 52, in fetch\n",
      "    data = [self.dataset[idx] for idx in possibly_batched_index]\n",
      "  File \"c:\\Users\\jacob\\anaconda3\\envs\\mario_env_2\\lib\\site-packages\\torch\\utils\\data\\_utils\\fetch.py\", line 52, in <listcomp>\n",
      "    data = [self.dataset[idx] for idx in possibly_batched_index]\n",
      "  File \"c:\\Users\\jacob\\anaconda3\\envs\\mario_env_2\\lib\\site-packages\\pytorch_fid\\fid_score.py\", line 87, in __getitem__\n",
      "    img = Image.open(path).convert('RGB')\n",
      "  File \"c:\\Users\\jacob\\anaconda3\\envs\\mario_env_2\\lib\\site-packages\\PIL\\Image.py\", line 3131, in open\n",
      "    fp = builtins.open(filename, \"rb\")\n",
      "PermissionError: [Errno 13] Permission denied: 'C:\\\\Users\\\\jacob\\\\OneDrive\\\\Desktop\\\\cogs_185\\\\final_project\\\\fid_temp\\\\generated\\\\epoch_9\\\\2588.png'\n",
      "\n"
     ]
    },
    {
     "data": {
      "text/html": [],
      "text/plain": [
       "<IPython.core.display.HTML object>"
      ]
     },
     "metadata": {},
     "output_type": "display_data"
    },
    {
     "data": {
      "text/html": [
       "<br>    <style><br>        .wandb-row {<br>            display: flex;<br>            flex-direction: row;<br>            flex-wrap: wrap;<br>            justify-content: flex-start;<br>            width: 100%;<br>        }<br>        .wandb-col {<br>            display: flex;<br>            flex-direction: column;<br>            flex-basis: 100%;<br>            flex: 1;<br>            padding: 10px;<br>        }<br>    </style><br><div class=\"wandb-row\"><div class=\"wandb-col\"><h3>Run history:</h3><br/><table class=\"wandb\"><tr><td>FID</td><td>▅▆█▃▅▄▁▂▄</td></tr><tr><td>crit_loss</td><td>▁▄▇▆▆▇▇██</td></tr><tr><td>epoch</td><td>▁▂▃▄▅▅▆▇█</td></tr><tr><td>gen_loss</td><td>▆▁▄█▇▄▄▅▆</td></tr></table><br/></div><div class=\"wandb-col\"><h3>Run summary:</h3><br/><table class=\"wandb\"><tr><td>FID</td><td>280.17749</td></tr><tr><td>crit_loss</td><td>-0.47406</td></tr><tr><td>epoch</td><td>8</td></tr><tr><td>gen_loss</td><td>-0.22934</td></tr></table><br/></div></div>"
      ],
      "text/plain": [
       "<IPython.core.display.HTML object>"
      ]
     },
     "metadata": {},
     "output_type": "display_data"
    },
    {
     "data": {
      "text/html": [
       " View run <strong style=\"color:#cdcd00\">sage-sweep-9</strong> at: <a href='https://wandb.ai/jhanshaw-uc-san-diego/gan_spec_drop-sweep_final/runs/enn2ztja' target=\"_blank\">https://wandb.ai/jhanshaw-uc-san-diego/gan_spec_drop-sweep_final/runs/enn2ztja</a><br> View project at: <a href='https://wandb.ai/jhanshaw-uc-san-diego/gan_spec_drop-sweep_final' target=\"_blank\">https://wandb.ai/jhanshaw-uc-san-diego/gan_spec_drop-sweep_final</a><br>Synced 5 W&B file(s), 0 media file(s), 0 artifact file(s) and 0 other file(s)"
      ],
      "text/plain": [
       "<IPython.core.display.HTML object>"
      ]
     },
     "metadata": {},
     "output_type": "display_data"
    },
    {
     "data": {
      "text/html": [
       "Find logs at: <code>.\\wandb\\run-20250611_163835-enn2ztja\\logs</code>"
      ],
      "text/plain": [
       "<IPython.core.display.HTML object>"
      ]
     },
     "metadata": {},
     "output_type": "display_data"
    },
    {
     "name": "stderr",
     "output_type": "stream",
     "text": [
      "Run enn2ztja errored:\n",
      "Traceback (most recent call last):\n",
      "  File \"c:\\Users\\jacob\\anaconda3\\envs\\mario_env_2\\lib\\site-packages\\wandb\\agents\\pyagent.py\", line 306, in _run_job\n",
      "    self._function()\n",
      "  File \"C:\\Users\\jacob\\AppData\\Local\\Temp\\ipykernel_23704\\3285193204.py\", line 64, in sweep_train\n",
      "    fid = calculate_fid_score(generator, config.z_dim, device, dataloader, epoch)\n",
      "  File \"C:\\Users\\jacob\\AppData\\Local\\Temp\\ipykernel_23704\\450502378.py\", line 67, in calculate_fid_score\n",
      "    fid_value = fid_score.calculate_fid_given_paths([real_dir, gen_dir], batch_size=64, device=device, dims=2048)\n",
      "  File \"c:\\Users\\jacob\\anaconda3\\envs\\mario_env_2\\lib\\site-packages\\pytorch_fid\\fid_score.py\", line 261, in calculate_fid_given_paths\n",
      "    m2, s2 = compute_statistics_of_path(paths[1], model, batch_size,\n",
      "  File \"c:\\Users\\jacob\\anaconda3\\envs\\mario_env_2\\lib\\site-packages\\pytorch_fid\\fid_score.py\", line 243, in compute_statistics_of_path\n",
      "    m, s = calculate_activation_statistics(files, model, batch_size,\n",
      "  File \"c:\\Users\\jacob\\anaconda3\\envs\\mario_env_2\\lib\\site-packages\\pytorch_fid\\fid_score.py\", line 228, in calculate_activation_statistics\n",
      "    act = get_activations(files, model, batch_size, dims, device, num_workers)\n",
      "  File \"c:\\Users\\jacob\\anaconda3\\envs\\mario_env_2\\lib\\site-packages\\pytorch_fid\\fid_score.py\", line 132, in get_activations\n",
      "    for batch in tqdm(dataloader):\n",
      "  File \"c:\\Users\\jacob\\anaconda3\\envs\\mario_env_2\\lib\\site-packages\\tqdm\\std.py\", line 1182, in __iter__\n",
      "    for obj in iterable:\n",
      "  File \"c:\\Users\\jacob\\anaconda3\\envs\\mario_env_2\\lib\\site-packages\\torch\\utils\\data\\dataloader.py\", line 708, in __next__\n",
      "    data = self._next_data()\n",
      "  File \"c:\\Users\\jacob\\anaconda3\\envs\\mario_env_2\\lib\\site-packages\\torch\\utils\\data\\dataloader.py\", line 1480, in _next_data\n",
      "    return self._process_data(data)\n",
      "  File \"c:\\Users\\jacob\\anaconda3\\envs\\mario_env_2\\lib\\site-packages\\torch\\utils\\data\\dataloader.py\", line 1505, in _process_data\n",
      "    data.reraise()\n",
      "  File \"c:\\Users\\jacob\\anaconda3\\envs\\mario_env_2\\lib\\site-packages\\torch\\_utils.py\", line 733, in reraise\n",
      "    raise exception\n",
      "PermissionError: Caught PermissionError in DataLoader worker process 0.\n",
      "Original Traceback (most recent call last):\n",
      "  File \"c:\\Users\\jacob\\anaconda3\\envs\\mario_env_2\\lib\\site-packages\\torch\\utils\\data\\_utils\\worker.py\", line 349, in _worker_loop\n",
      "    data = fetcher.fetch(index)  # type: ignore[possibly-undefined]\n",
      "  File \"c:\\Users\\jacob\\anaconda3\\envs\\mario_env_2\\lib\\site-packages\\torch\\utils\\data\\_utils\\fetch.py\", line 52, in fetch\n",
      "    data = [self.dataset[idx] for idx in possibly_batched_index]\n",
      "  File \"c:\\Users\\jacob\\anaconda3\\envs\\mario_env_2\\lib\\site-packages\\torch\\utils\\data\\_utils\\fetch.py\", line 52, in <listcomp>\n",
      "    data = [self.dataset[idx] for idx in possibly_batched_index]\n",
      "  File \"c:\\Users\\jacob\\anaconda3\\envs\\mario_env_2\\lib\\site-packages\\pytorch_fid\\fid_score.py\", line 87, in __getitem__\n",
      "    img = Image.open(path).convert('RGB')\n",
      "  File \"c:\\Users\\jacob\\anaconda3\\envs\\mario_env_2\\lib\\site-packages\\PIL\\Image.py\", line 3131, in open\n",
      "    fp = builtins.open(filename, \"rb\")\n",
      "PermissionError: [Errno 13] Permission denied: 'C:\\\\Users\\\\jacob\\\\OneDrive\\\\Desktop\\\\cogs_185\\\\final_project\\\\fid_temp\\\\generated\\\\epoch_9\\\\2588.png'\n",
      "\n",
      "\n",
      "\u001b[34m\u001b[1mwandb\u001b[0m: \u001b[32m\u001b[41mERROR\u001b[0m Run enn2ztja errored:\n",
      "\u001b[34m\u001b[1mwandb\u001b[0m: \u001b[32m\u001b[41mERROR\u001b[0m Traceback (most recent call last):\n",
      "\u001b[34m\u001b[1mwandb\u001b[0m: \u001b[32m\u001b[41mERROR\u001b[0m   File \"c:\\Users\\jacob\\anaconda3\\envs\\mario_env_2\\lib\\site-packages\\wandb\\agents\\pyagent.py\", line 306, in _run_job\n",
      "\u001b[34m\u001b[1mwandb\u001b[0m: \u001b[32m\u001b[41mERROR\u001b[0m     self._function()\n",
      "\u001b[34m\u001b[1mwandb\u001b[0m: \u001b[32m\u001b[41mERROR\u001b[0m   File \"C:\\Users\\jacob\\AppData\\Local\\Temp\\ipykernel_23704\\3285193204.py\", line 64, in sweep_train\n",
      "\u001b[34m\u001b[1mwandb\u001b[0m: \u001b[32m\u001b[41mERROR\u001b[0m     fid = calculate_fid_score(generator, config.z_dim, device, dataloader, epoch)\n",
      "\u001b[34m\u001b[1mwandb\u001b[0m: \u001b[32m\u001b[41mERROR\u001b[0m   File \"C:\\Users\\jacob\\AppData\\Local\\Temp\\ipykernel_23704\\450502378.py\", line 67, in calculate_fid_score\n",
      "\u001b[34m\u001b[1mwandb\u001b[0m: \u001b[32m\u001b[41mERROR\u001b[0m     fid_value = fid_score.calculate_fid_given_paths([real_dir, gen_dir], batch_size=64, device=device, dims=2048)\n",
      "\u001b[34m\u001b[1mwandb\u001b[0m: \u001b[32m\u001b[41mERROR\u001b[0m   File \"c:\\Users\\jacob\\anaconda3\\envs\\mario_env_2\\lib\\site-packages\\pytorch_fid\\fid_score.py\", line 261, in calculate_fid_given_paths\n",
      "\u001b[34m\u001b[1mwandb\u001b[0m: \u001b[32m\u001b[41mERROR\u001b[0m     m2, s2 = compute_statistics_of_path(paths[1], model, batch_size,\n",
      "\u001b[34m\u001b[1mwandb\u001b[0m: \u001b[32m\u001b[41mERROR\u001b[0m   File \"c:\\Users\\jacob\\anaconda3\\envs\\mario_env_2\\lib\\site-packages\\pytorch_fid\\fid_score.py\", line 243, in compute_statistics_of_path\n",
      "\u001b[34m\u001b[1mwandb\u001b[0m: \u001b[32m\u001b[41mERROR\u001b[0m     m, s = calculate_activation_statistics(files, model, batch_size,\n",
      "\u001b[34m\u001b[1mwandb\u001b[0m: \u001b[32m\u001b[41mERROR\u001b[0m   File \"c:\\Users\\jacob\\anaconda3\\envs\\mario_env_2\\lib\\site-packages\\pytorch_fid\\fid_score.py\", line 228, in calculate_activation_statistics\n",
      "\u001b[34m\u001b[1mwandb\u001b[0m: \u001b[32m\u001b[41mERROR\u001b[0m     act = get_activations(files, model, batch_size, dims, device, num_workers)\n",
      "\u001b[34m\u001b[1mwandb\u001b[0m: \u001b[32m\u001b[41mERROR\u001b[0m   File \"c:\\Users\\jacob\\anaconda3\\envs\\mario_env_2\\lib\\site-packages\\pytorch_fid\\fid_score.py\", line 132, in get_activations\n",
      "\u001b[34m\u001b[1mwandb\u001b[0m: \u001b[32m\u001b[41mERROR\u001b[0m     for batch in tqdm(dataloader):\n",
      "\u001b[34m\u001b[1mwandb\u001b[0m: \u001b[32m\u001b[41mERROR\u001b[0m   File \"c:\\Users\\jacob\\anaconda3\\envs\\mario_env_2\\lib\\site-packages\\tqdm\\std.py\", line 1182, in __iter__\n",
      "\u001b[34m\u001b[1mwandb\u001b[0m: \u001b[32m\u001b[41mERROR\u001b[0m     for obj in iterable:\n",
      "\u001b[34m\u001b[1mwandb\u001b[0m: \u001b[32m\u001b[41mERROR\u001b[0m   File \"c:\\Users\\jacob\\anaconda3\\envs\\mario_env_2\\lib\\site-packages\\torch\\utils\\data\\dataloader.py\", line 708, in __next__\n",
      "\u001b[34m\u001b[1mwandb\u001b[0m: \u001b[32m\u001b[41mERROR\u001b[0m     data = self._next_data()\n",
      "\u001b[34m\u001b[1mwandb\u001b[0m: \u001b[32m\u001b[41mERROR\u001b[0m   File \"c:\\Users\\jacob\\anaconda3\\envs\\mario_env_2\\lib\\site-packages\\torch\\utils\\data\\dataloader.py\", line 1480, in _next_data\n",
      "\u001b[34m\u001b[1mwandb\u001b[0m: \u001b[32m\u001b[41mERROR\u001b[0m     return self._process_data(data)\n",
      "\u001b[34m\u001b[1mwandb\u001b[0m: \u001b[32m\u001b[41mERROR\u001b[0m   File \"c:\\Users\\jacob\\anaconda3\\envs\\mario_env_2\\lib\\site-packages\\torch\\utils\\data\\dataloader.py\", line 1505, in _process_data\n",
      "\u001b[34m\u001b[1mwandb\u001b[0m: \u001b[32m\u001b[41mERROR\u001b[0m     data.reraise()\n",
      "\u001b[34m\u001b[1mwandb\u001b[0m: \u001b[32m\u001b[41mERROR\u001b[0m   File \"c:\\Users\\jacob\\anaconda3\\envs\\mario_env_2\\lib\\site-packages\\torch\\_utils.py\", line 733, in reraise\n",
      "\u001b[34m\u001b[1mwandb\u001b[0m: \u001b[32m\u001b[41mERROR\u001b[0m     raise exception\n",
      "\u001b[34m\u001b[1mwandb\u001b[0m: \u001b[32m\u001b[41mERROR\u001b[0m PermissionError: Caught PermissionError in DataLoader worker process 0.\n",
      "\u001b[34m\u001b[1mwandb\u001b[0m: \u001b[32m\u001b[41mERROR\u001b[0m Original Traceback (most recent call last):\n",
      "\u001b[34m\u001b[1mwandb\u001b[0m: \u001b[32m\u001b[41mERROR\u001b[0m   File \"c:\\Users\\jacob\\anaconda3\\envs\\mario_env_2\\lib\\site-packages\\torch\\utils\\data\\_utils\\worker.py\", line 349, in _worker_loop\n",
      "\u001b[34m\u001b[1mwandb\u001b[0m: \u001b[32m\u001b[41mERROR\u001b[0m     data = fetcher.fetch(index)  # type: ignore[possibly-undefined]\n",
      "\u001b[34m\u001b[1mwandb\u001b[0m: \u001b[32m\u001b[41mERROR\u001b[0m   File \"c:\\Users\\jacob\\anaconda3\\envs\\mario_env_2\\lib\\site-packages\\torch\\utils\\data\\_utils\\fetch.py\", line 52, in fetch\n",
      "\u001b[34m\u001b[1mwandb\u001b[0m: \u001b[32m\u001b[41mERROR\u001b[0m     data = [self.dataset[idx] for idx in possibly_batched_index]\n",
      "\u001b[34m\u001b[1mwandb\u001b[0m: \u001b[32m\u001b[41mERROR\u001b[0m   File \"c:\\Users\\jacob\\anaconda3\\envs\\mario_env_2\\lib\\site-packages\\torch\\utils\\data\\_utils\\fetch.py\", line 52, in <listcomp>\n",
      "\u001b[34m\u001b[1mwandb\u001b[0m: \u001b[32m\u001b[41mERROR\u001b[0m     data = [self.dataset[idx] for idx in possibly_batched_index]\n",
      "\u001b[34m\u001b[1mwandb\u001b[0m: \u001b[32m\u001b[41mERROR\u001b[0m   File \"c:\\Users\\jacob\\anaconda3\\envs\\mario_env_2\\lib\\site-packages\\pytorch_fid\\fid_score.py\", line 87, in __getitem__\n",
      "\u001b[34m\u001b[1mwandb\u001b[0m: \u001b[32m\u001b[41mERROR\u001b[0m     img = Image.open(path).convert('RGB')\n",
      "\u001b[34m\u001b[1mwandb\u001b[0m: \u001b[32m\u001b[41mERROR\u001b[0m   File \"c:\\Users\\jacob\\anaconda3\\envs\\mario_env_2\\lib\\site-packages\\PIL\\Image.py\", line 3131, in open\n",
      "\u001b[34m\u001b[1mwandb\u001b[0m: \u001b[32m\u001b[41mERROR\u001b[0m     fp = builtins.open(filename, \"rb\")\n",
      "\u001b[34m\u001b[1mwandb\u001b[0m: \u001b[32m\u001b[41mERROR\u001b[0m PermissionError: [Errno 13] Permission denied: 'C:\\\\Users\\\\jacob\\\\OneDrive\\\\Desktop\\\\cogs_185\\\\final_project\\\\fid_temp\\\\generated\\\\epoch_9\\\\2588.png'\n",
      "\u001b[34m\u001b[1mwandb\u001b[0m: \u001b[32m\u001b[41mERROR\u001b[0m \n",
      "\u001b[34m\u001b[1mwandb\u001b[0m: \u001b[32m\u001b[41mERROR\u001b[0m \n",
      "\u001b[34m\u001b[1mwandb\u001b[0m: Agent Starting Run: n9dx9bxm with config:\n",
      "\u001b[34m\u001b[1mwandb\u001b[0m: \tbatch_size: 128\n",
      "\u001b[34m\u001b[1mwandb\u001b[0m: \tc_lambda: 5\n",
      "\u001b[34m\u001b[1mwandb\u001b[0m: \tepochs: 10\n",
      "\u001b[34m\u001b[1mwandb\u001b[0m: \thidden_dim: 128\n",
      "\u001b[34m\u001b[1mwandb\u001b[0m: \tlr: 1e-05\n",
      "\u001b[34m\u001b[1mwandb\u001b[0m: \tn_critic: 7\n",
      "\u001b[34m\u001b[1mwandb\u001b[0m: \tz_dim: 100\n"
     ]
    },
    {
     "data": {
      "text/html": [
       "Tracking run with wandb version 0.19.8"
      ],
      "text/plain": [
       "<IPython.core.display.HTML object>"
      ]
     },
     "metadata": {},
     "output_type": "display_data"
    },
    {
     "data": {
      "text/html": [
       "Run data is saved locally in <code>c:\\Users\\jacob\\OneDrive\\Desktop\\cogs_185\\final_project\\wandb\\run-20250611_165942-n9dx9bxm</code>"
      ],
      "text/plain": [
       "<IPython.core.display.HTML object>"
      ]
     },
     "metadata": {},
     "output_type": "display_data"
    },
    {
     "data": {
      "text/html": [
       "Syncing run <strong><a href='https://wandb.ai/jhanshaw-uc-san-diego/gan_spec_drop-sweep_final/runs/n9dx9bxm' target=\"_blank\">wobbly-sweep-10</a></strong> to <a href='https://wandb.ai/jhanshaw-uc-san-diego/gan_spec_drop-sweep_final' target=\"_blank\">Weights & Biases</a> (<a href='https://wandb.me/developer-guide' target=\"_blank\">docs</a>)<br>Sweep page: <a href='https://wandb.ai/jhanshaw-uc-san-diego/gan_spec_drop-sweep_final/sweeps/jlyx2hte' target=\"_blank\">https://wandb.ai/jhanshaw-uc-san-diego/gan_spec_drop-sweep_final/sweeps/jlyx2hte</a>"
      ],
      "text/plain": [
       "<IPython.core.display.HTML object>"
      ]
     },
     "metadata": {},
     "output_type": "display_data"
    },
    {
     "data": {
      "text/html": [
       " View project at <a href='https://wandb.ai/jhanshaw-uc-san-diego/gan_spec_drop-sweep_final' target=\"_blank\">https://wandb.ai/jhanshaw-uc-san-diego/gan_spec_drop-sweep_final</a>"
      ],
      "text/plain": [
       "<IPython.core.display.HTML object>"
      ]
     },
     "metadata": {},
     "output_type": "display_data"
    },
    {
     "data": {
      "text/html": [
       " View sweep at <a href='https://wandb.ai/jhanshaw-uc-san-diego/gan_spec_drop-sweep_final/sweeps/jlyx2hte' target=\"_blank\">https://wandb.ai/jhanshaw-uc-san-diego/gan_spec_drop-sweep_final/sweeps/jlyx2hte</a>"
      ],
      "text/plain": [
       "<IPython.core.display.HTML object>"
      ]
     },
     "metadata": {},
     "output_type": "display_data"
    },
    {
     "data": {
      "text/html": [
       " View run at <a href='https://wandb.ai/jhanshaw-uc-san-diego/gan_spec_drop-sweep_final/runs/n9dx9bxm' target=\"_blank\">https://wandb.ai/jhanshaw-uc-san-diego/gan_spec_drop-sweep_final/runs/n9dx9bxm</a>"
      ],
      "text/plain": [
       "<IPython.core.display.HTML object>"
      ]
     },
     "metadata": {},
     "output_type": "display_data"
    },
    {
     "name": "stderr",
     "output_type": "stream",
     "text": [
      "100%|██████████| 79/79 [00:15<00:00,  5.08it/s]\n",
      "100%|██████████| 79/79 [00:36<00:00,  2.19it/s]\n",
      "100%|██████████| 79/79 [00:15<00:00,  5.14it/s]\n",
      "100%|██████████| 79/79 [00:33<00:00,  2.36it/s]\n",
      "100%|██████████| 79/79 [00:15<00:00,  5.10it/s]\n",
      "100%|██████████| 79/79 [00:31<00:00,  2.48it/s]\n",
      "100%|██████████| 79/79 [00:15<00:00,  5.12it/s]\n",
      " 15%|█▌        | 12/79 [00:09<00:52,  1.27it/s]\n",
      "Traceback (most recent call last):\n",
      "  File \"C:\\Users\\jacob\\AppData\\Local\\Temp\\ipykernel_23704\\3285193204.py\", line 64, in sweep_train\n",
      "    fid = calculate_fid_score(generator, config.z_dim, device, dataloader, epoch)\n",
      "  File \"C:\\Users\\jacob\\AppData\\Local\\Temp\\ipykernel_23704\\450502378.py\", line 67, in calculate_fid_score\n",
      "    fid_value = fid_score.calculate_fid_given_paths([real_dir, gen_dir], batch_size=64, device=device, dims=2048)\n",
      "  File \"c:\\Users\\jacob\\anaconda3\\envs\\mario_env_2\\lib\\site-packages\\pytorch_fid\\fid_score.py\", line 261, in calculate_fid_given_paths\n",
      "    m2, s2 = compute_statistics_of_path(paths[1], model, batch_size,\n",
      "  File \"c:\\Users\\jacob\\anaconda3\\envs\\mario_env_2\\lib\\site-packages\\pytorch_fid\\fid_score.py\", line 243, in compute_statistics_of_path\n",
      "    m, s = calculate_activation_statistics(files, model, batch_size,\n",
      "  File \"c:\\Users\\jacob\\anaconda3\\envs\\mario_env_2\\lib\\site-packages\\pytorch_fid\\fid_score.py\", line 228, in calculate_activation_statistics\n",
      "    act = get_activations(files, model, batch_size, dims, device, num_workers)\n",
      "  File \"c:\\Users\\jacob\\anaconda3\\envs\\mario_env_2\\lib\\site-packages\\pytorch_fid\\fid_score.py\", line 132, in get_activations\n",
      "    for batch in tqdm(dataloader):\n",
      "  File \"c:\\Users\\jacob\\anaconda3\\envs\\mario_env_2\\lib\\site-packages\\tqdm\\std.py\", line 1182, in __iter__\n",
      "    for obj in iterable:\n",
      "  File \"c:\\Users\\jacob\\anaconda3\\envs\\mario_env_2\\lib\\site-packages\\torch\\utils\\data\\dataloader.py\", line 708, in __next__\n",
      "    data = self._next_data()\n",
      "  File \"c:\\Users\\jacob\\anaconda3\\envs\\mario_env_2\\lib\\site-packages\\torch\\utils\\data\\dataloader.py\", line 1480, in _next_data\n",
      "    return self._process_data(data)\n",
      "  File \"c:\\Users\\jacob\\anaconda3\\envs\\mario_env_2\\lib\\site-packages\\torch\\utils\\data\\dataloader.py\", line 1505, in _process_data\n",
      "    data.reraise()\n",
      "  File \"c:\\Users\\jacob\\anaconda3\\envs\\mario_env_2\\lib\\site-packages\\torch\\_utils.py\", line 733, in reraise\n",
      "    raise exception\n",
      "PermissionError: Caught PermissionError in DataLoader worker process 0.\n",
      "Original Traceback (most recent call last):\n",
      "  File \"c:\\Users\\jacob\\anaconda3\\envs\\mario_env_2\\lib\\site-packages\\torch\\utils\\data\\_utils\\worker.py\", line 349, in _worker_loop\n",
      "    data = fetcher.fetch(index)  # type: ignore[possibly-undefined]\n",
      "  File \"c:\\Users\\jacob\\anaconda3\\envs\\mario_env_2\\lib\\site-packages\\torch\\utils\\data\\_utils\\fetch.py\", line 52, in fetch\n",
      "    data = [self.dataset[idx] for idx in possibly_batched_index]\n",
      "  File \"c:\\Users\\jacob\\anaconda3\\envs\\mario_env_2\\lib\\site-packages\\torch\\utils\\data\\_utils\\fetch.py\", line 52, in <listcomp>\n",
      "    data = [self.dataset[idx] for idx in possibly_batched_index]\n",
      "  File \"c:\\Users\\jacob\\anaconda3\\envs\\mario_env_2\\lib\\site-packages\\pytorch_fid\\fid_score.py\", line 87, in __getitem__\n",
      "    img = Image.open(path).convert('RGB')\n",
      "  File \"c:\\Users\\jacob\\anaconda3\\envs\\mario_env_2\\lib\\site-packages\\PIL\\Image.py\", line 3131, in open\n",
      "    fp = builtins.open(filename, \"rb\")\n",
      "PermissionError: [Errno 13] Permission denied: 'C:\\\\Users\\\\jacob\\\\OneDrive\\\\Desktop\\\\cogs_185\\\\final_project\\\\fid_temp\\\\generated\\\\epoch_3\\\\1717.png'\n",
      "\n"
     ]
    },
    {
     "data": {
      "text/html": [],
      "text/plain": [
       "<IPython.core.display.HTML object>"
      ]
     },
     "metadata": {},
     "output_type": "display_data"
    },
    {
     "data": {
      "text/html": [
       "<br>    <style><br>        .wandb-row {<br>            display: flex;<br>            flex-direction: row;<br>            flex-wrap: wrap;<br>            justify-content: flex-start;<br>            width: 100%;<br>        }<br>        .wandb-col {<br>            display: flex;<br>            flex-direction: column;<br>            flex-basis: 100%;<br>            flex: 1;<br>            padding: 10px;<br>        }<br>    </style><br><div class=\"wandb-row\"><div class=\"wandb-col\"><h3>Run history:</h3><br/><table class=\"wandb\"><tr><td>FID</td><td>▁▆█</td></tr><tr><td>crit_loss</td><td>▁▇█</td></tr><tr><td>epoch</td><td>▁▅█</td></tr><tr><td>gen_loss</td><td>▁█▃</td></tr></table><br/></div><div class=\"wandb-col\"><h3>Run summary:</h3><br/><table class=\"wandb\"><tr><td>FID</td><td>304.54113</td></tr><tr><td>crit_loss</td><td>-1.19607</td></tr><tr><td>epoch</td><td>2</td></tr><tr><td>gen_loss</td><td>-0.92109</td></tr></table><br/></div></div>"
      ],
      "text/plain": [
       "<IPython.core.display.HTML object>"
      ]
     },
     "metadata": {},
     "output_type": "display_data"
    },
    {
     "data": {
      "text/html": [
       " View run <strong style=\"color:#cdcd00\">wobbly-sweep-10</strong> at: <a href='https://wandb.ai/jhanshaw-uc-san-diego/gan_spec_drop-sweep_final/runs/n9dx9bxm' target=\"_blank\">https://wandb.ai/jhanshaw-uc-san-diego/gan_spec_drop-sweep_final/runs/n9dx9bxm</a><br> View project at: <a href='https://wandb.ai/jhanshaw-uc-san-diego/gan_spec_drop-sweep_final' target=\"_blank\">https://wandb.ai/jhanshaw-uc-san-diego/gan_spec_drop-sweep_final</a><br>Synced 5 W&B file(s), 0 media file(s), 0 artifact file(s) and 0 other file(s)"
      ],
      "text/plain": [
       "<IPython.core.display.HTML object>"
      ]
     },
     "metadata": {},
     "output_type": "display_data"
    },
    {
     "data": {
      "text/html": [
       "Find logs at: <code>.\\wandb\\run-20250611_165942-n9dx9bxm\\logs</code>"
      ],
      "text/plain": [
       "<IPython.core.display.HTML object>"
      ]
     },
     "metadata": {},
     "output_type": "display_data"
    },
    {
     "name": "stderr",
     "output_type": "stream",
     "text": [
      "Run n9dx9bxm errored:\n",
      "Traceback (most recent call last):\n",
      "  File \"c:\\Users\\jacob\\anaconda3\\envs\\mario_env_2\\lib\\site-packages\\wandb\\agents\\pyagent.py\", line 306, in _run_job\n",
      "    self._function()\n",
      "  File \"C:\\Users\\jacob\\AppData\\Local\\Temp\\ipykernel_23704\\3285193204.py\", line 64, in sweep_train\n",
      "    fid = calculate_fid_score(generator, config.z_dim, device, dataloader, epoch)\n",
      "  File \"C:\\Users\\jacob\\AppData\\Local\\Temp\\ipykernel_23704\\450502378.py\", line 67, in calculate_fid_score\n",
      "    fid_value = fid_score.calculate_fid_given_paths([real_dir, gen_dir], batch_size=64, device=device, dims=2048)\n",
      "  File \"c:\\Users\\jacob\\anaconda3\\envs\\mario_env_2\\lib\\site-packages\\pytorch_fid\\fid_score.py\", line 261, in calculate_fid_given_paths\n",
      "    m2, s2 = compute_statistics_of_path(paths[1], model, batch_size,\n",
      "  File \"c:\\Users\\jacob\\anaconda3\\envs\\mario_env_2\\lib\\site-packages\\pytorch_fid\\fid_score.py\", line 243, in compute_statistics_of_path\n",
      "    m, s = calculate_activation_statistics(files, model, batch_size,\n",
      "  File \"c:\\Users\\jacob\\anaconda3\\envs\\mario_env_2\\lib\\site-packages\\pytorch_fid\\fid_score.py\", line 228, in calculate_activation_statistics\n",
      "    act = get_activations(files, model, batch_size, dims, device, num_workers)\n",
      "  File \"c:\\Users\\jacob\\anaconda3\\envs\\mario_env_2\\lib\\site-packages\\pytorch_fid\\fid_score.py\", line 132, in get_activations\n",
      "    for batch in tqdm(dataloader):\n",
      "  File \"c:\\Users\\jacob\\anaconda3\\envs\\mario_env_2\\lib\\site-packages\\tqdm\\std.py\", line 1182, in __iter__\n",
      "    for obj in iterable:\n",
      "  File \"c:\\Users\\jacob\\anaconda3\\envs\\mario_env_2\\lib\\site-packages\\torch\\utils\\data\\dataloader.py\", line 708, in __next__\n",
      "    data = self._next_data()\n",
      "  File \"c:\\Users\\jacob\\anaconda3\\envs\\mario_env_2\\lib\\site-packages\\torch\\utils\\data\\dataloader.py\", line 1480, in _next_data\n",
      "    return self._process_data(data)\n",
      "  File \"c:\\Users\\jacob\\anaconda3\\envs\\mario_env_2\\lib\\site-packages\\torch\\utils\\data\\dataloader.py\", line 1505, in _process_data\n",
      "    data.reraise()\n",
      "  File \"c:\\Users\\jacob\\anaconda3\\envs\\mario_env_2\\lib\\site-packages\\torch\\_utils.py\", line 733, in reraise\n",
      "    raise exception\n",
      "PermissionError: Caught PermissionError in DataLoader worker process 0.\n",
      "Original Traceback (most recent call last):\n",
      "  File \"c:\\Users\\jacob\\anaconda3\\envs\\mario_env_2\\lib\\site-packages\\torch\\utils\\data\\_utils\\worker.py\", line 349, in _worker_loop\n",
      "    data = fetcher.fetch(index)  # type: ignore[possibly-undefined]\n",
      "  File \"c:\\Users\\jacob\\anaconda3\\envs\\mario_env_2\\lib\\site-packages\\torch\\utils\\data\\_utils\\fetch.py\", line 52, in fetch\n",
      "    data = [self.dataset[idx] for idx in possibly_batched_index]\n",
      "  File \"c:\\Users\\jacob\\anaconda3\\envs\\mario_env_2\\lib\\site-packages\\torch\\utils\\data\\_utils\\fetch.py\", line 52, in <listcomp>\n",
      "    data = [self.dataset[idx] for idx in possibly_batched_index]\n",
      "  File \"c:\\Users\\jacob\\anaconda3\\envs\\mario_env_2\\lib\\site-packages\\pytorch_fid\\fid_score.py\", line 87, in __getitem__\n",
      "    img = Image.open(path).convert('RGB')\n",
      "  File \"c:\\Users\\jacob\\anaconda3\\envs\\mario_env_2\\lib\\site-packages\\PIL\\Image.py\", line 3131, in open\n",
      "    fp = builtins.open(filename, \"rb\")\n",
      "PermissionError: [Errno 13] Permission denied: 'C:\\\\Users\\\\jacob\\\\OneDrive\\\\Desktop\\\\cogs_185\\\\final_project\\\\fid_temp\\\\generated\\\\epoch_3\\\\1717.png'\n",
      "\n",
      "\n",
      "\u001b[34m\u001b[1mwandb\u001b[0m: \u001b[32m\u001b[41mERROR\u001b[0m Run n9dx9bxm errored:\n",
      "\u001b[34m\u001b[1mwandb\u001b[0m: \u001b[32m\u001b[41mERROR\u001b[0m Traceback (most recent call last):\n",
      "\u001b[34m\u001b[1mwandb\u001b[0m: \u001b[32m\u001b[41mERROR\u001b[0m   File \"c:\\Users\\jacob\\anaconda3\\envs\\mario_env_2\\lib\\site-packages\\wandb\\agents\\pyagent.py\", line 306, in _run_job\n",
      "\u001b[34m\u001b[1mwandb\u001b[0m: \u001b[32m\u001b[41mERROR\u001b[0m     self._function()\n",
      "\u001b[34m\u001b[1mwandb\u001b[0m: \u001b[32m\u001b[41mERROR\u001b[0m   File \"C:\\Users\\jacob\\AppData\\Local\\Temp\\ipykernel_23704\\3285193204.py\", line 64, in sweep_train\n",
      "\u001b[34m\u001b[1mwandb\u001b[0m: \u001b[32m\u001b[41mERROR\u001b[0m     fid = calculate_fid_score(generator, config.z_dim, device, dataloader, epoch)\n",
      "\u001b[34m\u001b[1mwandb\u001b[0m: \u001b[32m\u001b[41mERROR\u001b[0m   File \"C:\\Users\\jacob\\AppData\\Local\\Temp\\ipykernel_23704\\450502378.py\", line 67, in calculate_fid_score\n",
      "\u001b[34m\u001b[1mwandb\u001b[0m: \u001b[32m\u001b[41mERROR\u001b[0m     fid_value = fid_score.calculate_fid_given_paths([real_dir, gen_dir], batch_size=64, device=device, dims=2048)\n",
      "\u001b[34m\u001b[1mwandb\u001b[0m: \u001b[32m\u001b[41mERROR\u001b[0m   File \"c:\\Users\\jacob\\anaconda3\\envs\\mario_env_2\\lib\\site-packages\\pytorch_fid\\fid_score.py\", line 261, in calculate_fid_given_paths\n",
      "\u001b[34m\u001b[1mwandb\u001b[0m: \u001b[32m\u001b[41mERROR\u001b[0m     m2, s2 = compute_statistics_of_path(paths[1], model, batch_size,\n",
      "\u001b[34m\u001b[1mwandb\u001b[0m: \u001b[32m\u001b[41mERROR\u001b[0m   File \"c:\\Users\\jacob\\anaconda3\\envs\\mario_env_2\\lib\\site-packages\\pytorch_fid\\fid_score.py\", line 243, in compute_statistics_of_path\n",
      "\u001b[34m\u001b[1mwandb\u001b[0m: \u001b[32m\u001b[41mERROR\u001b[0m     m, s = calculate_activation_statistics(files, model, batch_size,\n",
      "\u001b[34m\u001b[1mwandb\u001b[0m: \u001b[32m\u001b[41mERROR\u001b[0m   File \"c:\\Users\\jacob\\anaconda3\\envs\\mario_env_2\\lib\\site-packages\\pytorch_fid\\fid_score.py\", line 228, in calculate_activation_statistics\n",
      "\u001b[34m\u001b[1mwandb\u001b[0m: \u001b[32m\u001b[41mERROR\u001b[0m     act = get_activations(files, model, batch_size, dims, device, num_workers)\n",
      "\u001b[34m\u001b[1mwandb\u001b[0m: \u001b[32m\u001b[41mERROR\u001b[0m   File \"c:\\Users\\jacob\\anaconda3\\envs\\mario_env_2\\lib\\site-packages\\pytorch_fid\\fid_score.py\", line 132, in get_activations\n",
      "\u001b[34m\u001b[1mwandb\u001b[0m: \u001b[32m\u001b[41mERROR\u001b[0m     for batch in tqdm(dataloader):\n",
      "\u001b[34m\u001b[1mwandb\u001b[0m: \u001b[32m\u001b[41mERROR\u001b[0m   File \"c:\\Users\\jacob\\anaconda3\\envs\\mario_env_2\\lib\\site-packages\\tqdm\\std.py\", line 1182, in __iter__\n",
      "\u001b[34m\u001b[1mwandb\u001b[0m: \u001b[32m\u001b[41mERROR\u001b[0m     for obj in iterable:\n",
      "\u001b[34m\u001b[1mwandb\u001b[0m: \u001b[32m\u001b[41mERROR\u001b[0m   File \"c:\\Users\\jacob\\anaconda3\\envs\\mario_env_2\\lib\\site-packages\\torch\\utils\\data\\dataloader.py\", line 708, in __next__\n",
      "\u001b[34m\u001b[1mwandb\u001b[0m: \u001b[32m\u001b[41mERROR\u001b[0m     data = self._next_data()\n",
      "\u001b[34m\u001b[1mwandb\u001b[0m: \u001b[32m\u001b[41mERROR\u001b[0m   File \"c:\\Users\\jacob\\anaconda3\\envs\\mario_env_2\\lib\\site-packages\\torch\\utils\\data\\dataloader.py\", line 1480, in _next_data\n",
      "\u001b[34m\u001b[1mwandb\u001b[0m: \u001b[32m\u001b[41mERROR\u001b[0m     return self._process_data(data)\n",
      "\u001b[34m\u001b[1mwandb\u001b[0m: \u001b[32m\u001b[41mERROR\u001b[0m   File \"c:\\Users\\jacob\\anaconda3\\envs\\mario_env_2\\lib\\site-packages\\torch\\utils\\data\\dataloader.py\", line 1505, in _process_data\n",
      "\u001b[34m\u001b[1mwandb\u001b[0m: \u001b[32m\u001b[41mERROR\u001b[0m     data.reraise()\n",
      "\u001b[34m\u001b[1mwandb\u001b[0m: \u001b[32m\u001b[41mERROR\u001b[0m   File \"c:\\Users\\jacob\\anaconda3\\envs\\mario_env_2\\lib\\site-packages\\torch\\_utils.py\", line 733, in reraise\n",
      "\u001b[34m\u001b[1mwandb\u001b[0m: \u001b[32m\u001b[41mERROR\u001b[0m     raise exception\n",
      "\u001b[34m\u001b[1mwandb\u001b[0m: \u001b[32m\u001b[41mERROR\u001b[0m PermissionError: Caught PermissionError in DataLoader worker process 0.\n",
      "\u001b[34m\u001b[1mwandb\u001b[0m: \u001b[32m\u001b[41mERROR\u001b[0m Original Traceback (most recent call last):\n",
      "\u001b[34m\u001b[1mwandb\u001b[0m: \u001b[32m\u001b[41mERROR\u001b[0m   File \"c:\\Users\\jacob\\anaconda3\\envs\\mario_env_2\\lib\\site-packages\\torch\\utils\\data\\_utils\\worker.py\", line 349, in _worker_loop\n",
      "\u001b[34m\u001b[1mwandb\u001b[0m: \u001b[32m\u001b[41mERROR\u001b[0m     data = fetcher.fetch(index)  # type: ignore[possibly-undefined]\n",
      "\u001b[34m\u001b[1mwandb\u001b[0m: \u001b[32m\u001b[41mERROR\u001b[0m   File \"c:\\Users\\jacob\\anaconda3\\envs\\mario_env_2\\lib\\site-packages\\torch\\utils\\data\\_utils\\fetch.py\", line 52, in fetch\n",
      "\u001b[34m\u001b[1mwandb\u001b[0m: \u001b[32m\u001b[41mERROR\u001b[0m     data = [self.dataset[idx] for idx in possibly_batched_index]\n",
      "\u001b[34m\u001b[1mwandb\u001b[0m: \u001b[32m\u001b[41mERROR\u001b[0m   File \"c:\\Users\\jacob\\anaconda3\\envs\\mario_env_2\\lib\\site-packages\\torch\\utils\\data\\_utils\\fetch.py\", line 52, in <listcomp>\n",
      "\u001b[34m\u001b[1mwandb\u001b[0m: \u001b[32m\u001b[41mERROR\u001b[0m     data = [self.dataset[idx] for idx in possibly_batched_index]\n",
      "\u001b[34m\u001b[1mwandb\u001b[0m: \u001b[32m\u001b[41mERROR\u001b[0m   File \"c:\\Users\\jacob\\anaconda3\\envs\\mario_env_2\\lib\\site-packages\\pytorch_fid\\fid_score.py\", line 87, in __getitem__\n",
      "\u001b[34m\u001b[1mwandb\u001b[0m: \u001b[32m\u001b[41mERROR\u001b[0m     img = Image.open(path).convert('RGB')\n",
      "\u001b[34m\u001b[1mwandb\u001b[0m: \u001b[32m\u001b[41mERROR\u001b[0m   File \"c:\\Users\\jacob\\anaconda3\\envs\\mario_env_2\\lib\\site-packages\\PIL\\Image.py\", line 3131, in open\n",
      "\u001b[34m\u001b[1mwandb\u001b[0m: \u001b[32m\u001b[41mERROR\u001b[0m     fp = builtins.open(filename, \"rb\")\n",
      "\u001b[34m\u001b[1mwandb\u001b[0m: \u001b[32m\u001b[41mERROR\u001b[0m PermissionError: [Errno 13] Permission denied: 'C:\\\\Users\\\\jacob\\\\OneDrive\\\\Desktop\\\\cogs_185\\\\final_project\\\\fid_temp\\\\generated\\\\epoch_3\\\\1717.png'\n",
      "\u001b[34m\u001b[1mwandb\u001b[0m: \u001b[32m\u001b[41mERROR\u001b[0m \n",
      "\u001b[34m\u001b[1mwandb\u001b[0m: \u001b[32m\u001b[41mERROR\u001b[0m \n"
     ]
    },
    {
     "name": "stderr",
     "output_type": "stream",
     "text": [
      "message_loop has been closed\n",
      "Traceback (most recent call last):\n",
      "  File \"c:\\Users\\jacob\\anaconda3\\envs\\mario_env_2\\lib\\site-packages\\wandb\\sdk\\lib\\sock_client.py\", line 208, in _read_packet_bytes\n",
      "    data = self._sock.recv(self._bufsize)\n",
      "ConnectionResetError: [WinError 10054] An existing connection was forcibly closed by the remote host\n",
      "\n",
      "The above exception was the direct cause of the following exception:\n",
      "\n",
      "Traceback (most recent call last):\n",
      "  File \"c:\\Users\\jacob\\anaconda3\\envs\\mario_env_2\\lib\\site-packages\\wandb\\sdk\\interface\\router_sock.py\", line 27, in _read_message\n",
      "    return self._sock_client.read_server_response(timeout=1)\n",
      "  File \"c:\\Users\\jacob\\anaconda3\\envs\\mario_env_2\\lib\\site-packages\\wandb\\sdk\\lib\\sock_client.py\", line 235, in read_server_response\n",
      "    data = self._read_packet_bytes(timeout=timeout)\n",
      "  File \"c:\\Users\\jacob\\anaconda3\\envs\\mario_env_2\\lib\\site-packages\\wandb\\sdk\\lib\\sock_client.py\", line 212, in _read_packet_bytes\n",
      "    raise SockClientClosedError from e\n",
      "wandb.sdk.lib.sock_client.SockClientClosedError\n",
      "\n",
      "The above exception was the direct cause of the following exception:\n",
      "\n",
      "Traceback (most recent call last):\n",
      "  File \"c:\\Users\\jacob\\anaconda3\\envs\\mario_env_2\\lib\\site-packages\\wandb\\sdk\\interface\\router.py\", line 56, in message_loop\n",
      "    msg = self._read_message()\n",
      "  File \"c:\\Users\\jacob\\anaconda3\\envs\\mario_env_2\\lib\\site-packages\\wandb\\sdk\\interface\\router_sock.py\", line 29, in _read_message\n",
      "    raise MessageRouterClosedError from e\n",
      "wandb.sdk.interface.router.MessageRouterClosedError\n"
     ]
    }
   ],
   "source": [
    "wandb.agent(sweep_id, function=sweep_train, count=10)"
   ]
  },
  {
   "cell_type": "code",
   "execution_count": null,
   "id": "0a55413c",
   "metadata": {},
   "outputs": [],
   "source": []
  }
 ],
 "metadata": {
  "kernelspec": {
   "display_name": "mario_env_2",
   "language": "python",
   "name": "python3"
  },
  "language_info": {
   "codemirror_mode": {
    "name": "ipython",
    "version": 3
   },
   "file_extension": ".py",
   "mimetype": "text/x-python",
   "name": "python",
   "nbconvert_exporter": "python",
   "pygments_lexer": "ipython3",
   "version": "3.10.12"
  }
 },
 "nbformat": 4,
 "nbformat_minor": 5
}
